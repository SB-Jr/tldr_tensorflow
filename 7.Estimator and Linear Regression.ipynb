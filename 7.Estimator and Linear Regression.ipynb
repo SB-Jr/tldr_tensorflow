{
 "cells": [
  {
   "cell_type": "markdown",
   "metadata": {},
   "source": [
    "# Tensorflow APIs\n",
    "\n",
    "TensorFlow provides tools to have full control of the computations. This is done with the low-level API. On top of that, TensorFlow is equipped with a vast array of APIs to perform many machine learning algorithms. This is the high-level API. TensorFlow calls them estimators.<br>\n",
    "\n",
    "<b>Low-level API</b>: Build the architecture, optimization of the model from scratch. It is complicated for a beginner<br>\n",
    "<b>High-level API</b>: Define the algorithm. It is easer-friendly. TensorFlow provides a toolbox calls estimator to construct, train, evaluate and make a prediction."
   ]
  },
  {
   "cell_type": "markdown",
   "metadata": {},
   "source": [
    "# Linear Regression\n",
    "\n",
    "We will have a weight variable $\\theta$ whose transpose $\\theta ^ T$ will be multiplied with the input data $x$ and then compared with the output data $y$ and the square of difference will be used to adjust the weight $\\theta$ to get the best outcome possible i.e. minimum square difference ($\\theta^Tx - y$)"
   ]
  },
  {
   "cell_type": "markdown",
   "metadata": {
    "ExecuteTime": {
     "end_time": "2020-02-04T05:15:41.707582Z",
     "start_time": "2020-02-04T05:15:41.697664Z"
    }
   },
   "source": [
    "\\begin{equation}\n",
    "MSE(x) = \\frac{1}{m} \\sum_i^m (\\theta ^ t x_i - y_i)\n",
    "\\end{equation}\n",
    "\n",
    "here MSE : mean square error<br>\n",
    "$x_i$ : the $i^{th}$ input example<br>\n",
    "$y_i$ : the $i^{th}$ output value<br>\n",
    "m : the number of input examples for training"
   ]
  },
  {
   "cell_type": "markdown",
   "metadata": {},
   "source": [
    "Here we will use the <b>Gradient Descent</b> to optimize the difference"
   ]
  },
  {
   "cell_type": "markdown",
   "metadata": {},
   "source": [
    "Here we will use high level API to build and train and evaluate our linear regression model. If low level API is used then we will need to do the following all on our own:\n",
    "<ul>\n",
    "    <li>Loss function</li>\n",
    "    <li>Optimize: Gradient descent</li>\n",
    "    <li>Matrices multiplication</li>\n",
    "    <li>Graph and tensor</li>\n",
    "</ul>\n",
    "\n",
    "\n",
    "Tensorflow currently provides 6 pre-built estimators, including 3 for classification task and 3 for regression task:\n",
    "<ul>\n",
    "    <li>Regressor\n",
    "    <ol>\n",
    "        <li>DNNRegressor</li>\n",
    "        <li>LinearRegressor</li>\n",
    "        <li>DNNLineaCombinedRegressor</li>\n",
    "    </ol></li>\n",
    "    <li>Classifier\n",
    "    <ol>\n",
    "        <li>DNNClassifier</li>\n",
    "        <li>LinearClassifier</li>\n",
    "        <li>DNNLineaCombinedClassifier</li>\n",
    "    </ol></li>\n",
    "</ul>"
   ]
  },
  {
   "cell_type": "markdown",
   "metadata": {},
   "source": [
    "# Dataset\n",
    "\n",
    "This dataset contains information collected by the U.S Census Service concerning housing in the area of Boston Mass.\n",
    "\n",
    "The data was originally published by Harrison, D. and Rubinfeld, D.L. Hedonic prices and the demand for clean air', J. Environ. Economics & Management, vol.5, 81-102, 1978.\n",
    "\n",
    "Dataset Naming\n",
    "The name for this dataset is simply boston.\n",
    "\n",
    "Miscellaneous Details\n",
    "<ul>\n",
    "    <li>Origin:The origin of the boston housing data is Natural.</li>\n",
    "    <li>Usage:This dataset may be used for Assessment.</li>\n",
    "    <li>Number of Cases:The dataset contains a total of 506 cases.</li>\n",
    "    <li>Order:The order of the cases is mysterious.</li>\n",
    "    <li>Variables:There are 10 attributes in each case of the dataset. They are:\n",
    "    <ul>\n",
    "        <li>CRIM - per capita crime rate by town</li>\n",
    "        <li>ZN - proportion of residential land zoned for lots over 25,000 sq.ft.</li>\n",
    "        <li>INDUS - proportion of non-retail business acres per town.</li>\n",
    "        <li>NOX - nitric oxides concentration (parts per 10 million)</li>\n",
    "        <li>RM - average number of rooms per dwelling</li>\n",
    "        <li>AGE - proportion of owner-occupied units built prior to 1940</li>\n",
    "        <li>DIS - weighted distances to five Boston employment centres</li>\n",
    "        <li>TAX - full-value property-tax rate per \\$10,000</li>\n",
    "        <li>PTRATIO - pupil-teacher ratio by town</li>\n",
    "        <li>MEDV - Median value of owner-occupied homes in \\$1000's</li>\n",
    "        <ul>\n",
    "</ul>"
   ]
  },
  {
   "cell_type": "markdown",
   "metadata": {},
   "source": [
    "# Estimator\n",
    "\n",
    "A high-level way to create TensorFlow models. Estimators include pre-made models for common machine learning tasks.\n",
    "\n",
    "<img src='artifacts/estimator.png'/>\n",
    "\n",
    "\n",
    "Estimators requires that you create a function of the following format:<br>\n",
    "```\n",
    "def input_fn():\n",
    "    ......\n",
    "    ......\n",
    "    return ({},[])\n",
    "```\n",
    "The return value must be a two-element tuple organized as follows: :\n",
    "\n",
    "The first element must be a `dict` in which each input feature is a key, and then a list of values for the training batch.<br>\n",
    "The second element is a `list(1-d TensorFlow tensor)` of labels for the training batch.\n",
    "\n",
    "\n",
    "Estimators are also very flexible, allowing you to override the default behavior if you have specific requirements for your model.\n",
    "\n",
    "There are two possible ways you can build your model using Estimators:<br>\n",
    "Pre-made Estimator - These are predefined estimators, created to generate a specific type of model.<br>\n",
    "Estimator (base class) - Gives you complete control of how your model should be created by using a model_fn function.<br>\n",
    "\n",
    "<img src='artifacts/estimator2.jpg'/>"
   ]
  },
  {
   "cell_type": "markdown",
   "metadata": {},
   "source": [
    "## Feature Columns\n",
    "\n",
    "Feature columns is a data structure describing the features that an Estimator requires for training and inference.\n",
    "There are multiple types of feature columns:\n",
    "<img src='artifacts/feature_column.jpg'/>\n",
    "\n",
    "You specify the input to a model through the feature_columns argument of an Estimator. Feature Columns bridge input data (as returned by input_fn) with your model.\n",
    "<img src='artifcats/feature_column2.jpg'/>"
   ]
  },
  {
   "cell_type": "markdown",
   "metadata": {},
   "source": [
    "# Program Example"
   ]
  },
  {
   "cell_type": "markdown",
   "metadata": {},
   "source": [
    "## Assembling the data"
   ]
  },
  {
   "cell_type": "code",
   "execution_count": 1,
   "metadata": {
    "ExecuteTime": {
     "end_time": "2020-02-05T06:11:17.637844Z",
     "start_time": "2020-02-05T06:11:14.688131Z"
    }
   },
   "outputs": [],
   "source": [
    "from IPython.display import display   #will be used to display pandas dataframe nicely in the notebook\n",
    "import pandas as pd\n",
    "import numpy as np\n",
    "import matplotlib.pyplot as plt\n",
    "import tensorflow.compat.v1 as tf\n",
    "tf.disable_eager_execution()"
   ]
  },
  {
   "cell_type": "code",
   "execution_count": 2,
   "metadata": {
    "ExecuteTime": {
     "end_time": "2020-02-05T06:11:19.612792Z",
     "start_time": "2020-02-05T06:11:19.578655Z"
    }
   },
   "outputs": [],
   "source": [
    "#reading the data\n",
    "model_dir = 'logs/7_linear_reg'\n",
    "data_dir = 'data/boston_housing/'\n",
    "COLUMNS = [\"crim\", \"zn\", \"indus\", \"nox\", \"rm\", \"age\",\"dis\", \"tax\", \"ptratio\", \"medv\"]\n",
    "label = 'medv' #data wehich we have to predict\n",
    "features = COLUMNS.copy()\n",
    "features.remove(label)\n",
    "\n",
    "train_set = pd.read_csv(data_dir + 'boston_train.csv',skiprows=1, names=COLUMNS)\n",
    "test_set = pd.read_csv(data_dir + 'boston_test.csv',skiprows=1, names=COLUMNS)\n",
    "prediction_set = pd.read_csv(data_dir + 'boston_predict.csv',skiprows=1, names=COLUMNS)\n",
    "\n",
    "#train data\n",
    "X_input = train_set.iloc[:,:9]\n",
    "Y_input = train_set.iloc[:,9]\n",
    "\n",
    "#test data\n",
    "X_test = test_set.iloc[:,:9]\n",
    "Y_test = test_set.iloc[:,9]\n",
    "\n",
    "#predcition data\n",
    "X_predict = prediction_set.iloc[:,:9]\n",
    "Y_predict = prediction_set.iloc[:,9]"
   ]
  },
  {
   "cell_type": "code",
   "execution_count": 3,
   "metadata": {
    "ExecuteTime": {
     "end_time": "2020-02-05T06:11:22.647403Z",
     "start_time": "2020-02-05T06:11:22.637312Z"
    }
   },
   "outputs": [
    {
     "name": "stdout",
     "output_type": "stream",
     "text": [
      "(400, 10)\n",
      "(100, 10)\n",
      "(6, 10)\n",
      "(400, 9)\n",
      "(400,)\n"
     ]
    }
   ],
   "source": [
    "print(train_set.shape)\n",
    "print(test_set.shape)\n",
    "print(prediction_set.shape)\n",
    "print(X_input.shape)\n",
    "print(Y_input.shape)"
   ]
  },
  {
   "cell_type": "code",
   "execution_count": 4,
   "metadata": {
    "ExecuteTime": {
     "end_time": "2020-02-05T06:11:23.541284Z",
     "start_time": "2020-02-05T06:11:23.487487Z"
    },
    "scrolled": false
   },
   "outputs": [
    {
     "data": {
      "text/html": [
       "<div>\n",
       "<style scoped>\n",
       "    .dataframe tbody tr th:only-of-type {\n",
       "        vertical-align: middle;\n",
       "    }\n",
       "\n",
       "    .dataframe tbody tr th {\n",
       "        vertical-align: top;\n",
       "    }\n",
       "\n",
       "    .dataframe thead th {\n",
       "        text-align: right;\n",
       "    }\n",
       "</style>\n",
       "<table border=\"1\" class=\"dataframe\">\n",
       "  <thead>\n",
       "    <tr style=\"text-align: right;\">\n",
       "      <th></th>\n",
       "      <th>crim</th>\n",
       "      <th>zn</th>\n",
       "      <th>indus</th>\n",
       "      <th>nox</th>\n",
       "      <th>rm</th>\n",
       "      <th>age</th>\n",
       "      <th>dis</th>\n",
       "      <th>tax</th>\n",
       "      <th>ptratio</th>\n",
       "      <th>medv</th>\n",
       "    </tr>\n",
       "  </thead>\n",
       "  <tbody>\n",
       "    <tr>\n",
       "      <th>0</th>\n",
       "      <td>2.30040</td>\n",
       "      <td>0.0</td>\n",
       "      <td>19.58</td>\n",
       "      <td>0.6050</td>\n",
       "      <td>6.319</td>\n",
       "      <td>96.1</td>\n",
       "      <td>2.1000</td>\n",
       "      <td>403</td>\n",
       "      <td>14.7</td>\n",
       "      <td>23.8</td>\n",
       "    </tr>\n",
       "    <tr>\n",
       "      <th>1</th>\n",
       "      <td>13.35980</td>\n",
       "      <td>0.0</td>\n",
       "      <td>18.10</td>\n",
       "      <td>0.6930</td>\n",
       "      <td>5.887</td>\n",
       "      <td>94.7</td>\n",
       "      <td>1.7821</td>\n",
       "      <td>666</td>\n",
       "      <td>20.2</td>\n",
       "      <td>12.7</td>\n",
       "    </tr>\n",
       "    <tr>\n",
       "      <th>2</th>\n",
       "      <td>0.12744</td>\n",
       "      <td>0.0</td>\n",
       "      <td>6.91</td>\n",
       "      <td>0.4480</td>\n",
       "      <td>6.770</td>\n",
       "      <td>2.9</td>\n",
       "      <td>5.7209</td>\n",
       "      <td>233</td>\n",
       "      <td>17.9</td>\n",
       "      <td>26.6</td>\n",
       "    </tr>\n",
       "    <tr>\n",
       "      <th>3</th>\n",
       "      <td>0.15876</td>\n",
       "      <td>0.0</td>\n",
       "      <td>10.81</td>\n",
       "      <td>0.4130</td>\n",
       "      <td>5.961</td>\n",
       "      <td>17.5</td>\n",
       "      <td>5.2873</td>\n",
       "      <td>305</td>\n",
       "      <td>19.2</td>\n",
       "      <td>21.7</td>\n",
       "    </tr>\n",
       "    <tr>\n",
       "      <th>4</th>\n",
       "      <td>0.03768</td>\n",
       "      <td>80.0</td>\n",
       "      <td>1.52</td>\n",
       "      <td>0.4040</td>\n",
       "      <td>7.274</td>\n",
       "      <td>38.3</td>\n",
       "      <td>7.3090</td>\n",
       "      <td>329</td>\n",
       "      <td>12.6</td>\n",
       "      <td>34.6</td>\n",
       "    </tr>\n",
       "    <tr>\n",
       "      <th>5</th>\n",
       "      <td>0.03705</td>\n",
       "      <td>20.0</td>\n",
       "      <td>3.33</td>\n",
       "      <td>0.4429</td>\n",
       "      <td>6.968</td>\n",
       "      <td>37.2</td>\n",
       "      <td>5.2447</td>\n",
       "      <td>216</td>\n",
       "      <td>14.9</td>\n",
       "      <td>35.4</td>\n",
       "    </tr>\n",
       "    <tr>\n",
       "      <th>6</th>\n",
       "      <td>0.07244</td>\n",
       "      <td>60.0</td>\n",
       "      <td>1.69</td>\n",
       "      <td>0.4110</td>\n",
       "      <td>5.884</td>\n",
       "      <td>18.5</td>\n",
       "      <td>10.7103</td>\n",
       "      <td>411</td>\n",
       "      <td>18.3</td>\n",
       "      <td>18.6</td>\n",
       "    </tr>\n",
       "    <tr>\n",
       "      <th>7</th>\n",
       "      <td>0.10000</td>\n",
       "      <td>34.0</td>\n",
       "      <td>6.09</td>\n",
       "      <td>0.4330</td>\n",
       "      <td>6.982</td>\n",
       "      <td>17.7</td>\n",
       "      <td>5.4917</td>\n",
       "      <td>329</td>\n",
       "      <td>16.1</td>\n",
       "      <td>33.1</td>\n",
       "    </tr>\n",
       "    <tr>\n",
       "      <th>8</th>\n",
       "      <td>4.81213</td>\n",
       "      <td>0.0</td>\n",
       "      <td>18.10</td>\n",
       "      <td>0.7130</td>\n",
       "      <td>6.701</td>\n",
       "      <td>90.0</td>\n",
       "      <td>2.5975</td>\n",
       "      <td>666</td>\n",
       "      <td>20.2</td>\n",
       "      <td>16.4</td>\n",
       "    </tr>\n",
       "    <tr>\n",
       "      <th>9</th>\n",
       "      <td>0.15086</td>\n",
       "      <td>0.0</td>\n",
       "      <td>27.74</td>\n",
       "      <td>0.6090</td>\n",
       "      <td>5.454</td>\n",
       "      <td>92.7</td>\n",
       "      <td>1.8209</td>\n",
       "      <td>711</td>\n",
       "      <td>20.1</td>\n",
       "      <td>15.2</td>\n",
       "    </tr>\n",
       "  </tbody>\n",
       "</table>\n",
       "</div>"
      ],
      "text/plain": [
       "       crim    zn  indus     nox     rm   age      dis  tax  ptratio  medv\n",
       "0   2.30040   0.0  19.58  0.6050  6.319  96.1   2.1000  403     14.7  23.8\n",
       "1  13.35980   0.0  18.10  0.6930  5.887  94.7   1.7821  666     20.2  12.7\n",
       "2   0.12744   0.0   6.91  0.4480  6.770   2.9   5.7209  233     17.9  26.6\n",
       "3   0.15876   0.0  10.81  0.4130  5.961  17.5   5.2873  305     19.2  21.7\n",
       "4   0.03768  80.0   1.52  0.4040  7.274  38.3   7.3090  329     12.6  34.6\n",
       "5   0.03705  20.0   3.33  0.4429  6.968  37.2   5.2447  216     14.9  35.4\n",
       "6   0.07244  60.0   1.69  0.4110  5.884  18.5  10.7103  411     18.3  18.6\n",
       "7   0.10000  34.0   6.09  0.4330  6.982  17.7   5.4917  329     16.1  33.1\n",
       "8   4.81213   0.0  18.10  0.7130  6.701  90.0   2.5975  666     20.2  16.4\n",
       "9   0.15086   0.0  27.74  0.6090  5.454  92.7   1.8209  711     20.1  15.2"
      ]
     },
     "metadata": {},
     "output_type": "display_data"
    },
    {
     "name": "stdout",
     "output_type": "stream",
     "text": [
      "count    400.000000\n",
      "mean      22.625500\n",
      "std        9.572593\n",
      "min        5.000000\n",
      "25%       16.600000\n",
      "50%       21.400000\n",
      "75%       25.025000\n",
      "max       50.000000\n",
      "Name: medv, dtype: float64\n"
     ]
    }
   ],
   "source": [
    "display(train_set[:10])  #displaying top 10 results\n",
    "print(train_set[label].describe())"
   ]
  },
  {
   "cell_type": "code",
   "execution_count": 5,
   "metadata": {
    "ExecuteTime": {
     "end_time": "2020-02-05T06:11:27.668803Z",
     "start_time": "2020-02-05T06:11:26.431263Z"
    }
   },
   "outputs": [
    {
     "data": {
      "text/plain": [
       "<Figure size 432x288 with 0 Axes>"
      ]
     },
     "metadata": {},
     "output_type": "display_data"
    },
    {
     "data": {
      "image/png": "[encoded data removed]",
      "text/plain": [
       "<Figure size 1080x1080 with 9 Axes>"
      ]
     },
     "metadata": {
      "needs_background": "light"
     },
     "output_type": "display_data"
    }
   ],
   "source": [
    "# Observing the data\n",
    "plt.suptitle('Boston Data')\n",
    "plt.figure(figsize=(15,15))\n",
    "\n",
    "for col in features:\n",
    "    i = features.index(col)\n",
    "    plt.subplot(3,3,i+1)\n",
    "    plt.plot(train_set[col], train_set[label],'bo')\n",
    "    plt.ylabel(label)\n",
    "    plt.title(col)\n",
    "\n",
    "plt.show()\n"
   ]
  },
  {
   "cell_type": "markdown",
   "metadata": {},
   "source": [
    "<p style=\"color:Red; font-size:125%\"}>Note:We can see here that linear correlation between medv and other attributes are quire slim. Thus Linear Regression might not do so well here.</p>"
   ]
  },
  {
   "cell_type": "markdown",
   "metadata": {},
   "source": [
    "## Coding the pipeline"
   ]
  },
  {
   "cell_type": "code",
   "execution_count": 6,
   "metadata": {
    "ExecuteTime": {
     "end_time": "2020-02-05T06:11:30.694099Z",
     "start_time": "2020-02-05T06:11:30.682895Z"
    }
   },
   "outputs": [],
   "source": [
    "def get_input(x_input, y_input, batch_size, num_epoch=None):\n",
    "    #Step1: create the dataset\n",
    "    dataset = tf.data.Dataset.from_tensor_slices((dict(x_input), y_input))\n",
    "    \n",
    "    #Step2: apply the transformations\n",
    "    dataset = dataset.repeat(num_epoch)\n",
    "    dataset = dataset.batch(batch_size)\n",
    "    \n",
    "    #Step3: define the iterator\n",
    "    iterator = tf.data.make_one_shot_iterator(dataset)\n",
    "    \n",
    "    #Step4: return the feature and label tensord\n",
    "    features, labels = iterator.get_next()\n",
    "    return features, labels"
   ]
  },
  {
   "cell_type": "markdown",
   "metadata": {},
   "source": [
    "## Creating the Model"
   ]
  },
  {
   "cell_type": "code",
   "execution_count": 7,
   "metadata": {
    "ExecuteTime": {
     "end_time": "2020-02-05T06:11:32.887188Z",
     "start_time": "2020-02-05T06:11:32.871535Z"
    }
   },
   "outputs": [
    {
     "name": "stdout",
     "output_type": "stream",
     "text": [
      "INFO:tensorflow:Using default config.\n",
      "INFO:tensorflow:Using config: {'_model_dir': 'logs/7_linear_reg', '_tf_random_seed': None, '_save_summary_steps': 100, '_save_checkpoints_steps': None, '_save_checkpoints_secs': 600, '_session_config': allow_soft_placement: true\n",
      "graph_options {\n",
      "  rewrite_options {\n",
      "    meta_optimizer_iterations: ONE\n",
      "  }\n",
      "}\n",
      ", '_keep_checkpoint_max': 5, '_keep_checkpoint_every_n_hours': 10000, '_log_step_count_steps': 100, '_train_distribute': None, '_device_fn': None, '_protocol': None, '_eval_distribute': None, '_experimental_distribute': None, '_experimental_max_worker_delay_secs': None, '_session_creation_timeout_secs': 7200, '_service': None, '_cluster_spec': <tensorflow.python.training.server_lib.ClusterSpec object at 0x7fdc1c9c5cd0>, '_task_type': 'worker', '_task_id': 0, '_global_id_in_cluster': 0, '_master': '', '_evaluation_master': '', '_is_chief': True, '_num_ps_replicas': 0, '_num_worker_replicas': 1}\n"
     ]
    }
   ],
   "source": [
    "#Step5: create feature columns\n",
    "feature_cols = [tf.feature_column.numeric_column(k) for k in features]\n",
    "\n",
    "#Step5: build the model\n",
    "model = tf.estimator.LinearRegressor(feature_columns = feature_cols, model_dir=model_dir)"
   ]
  },
  {
   "cell_type": "markdown",
   "metadata": {},
   "source": [
    "## Training the model"
   ]
  },
  {
   "cell_type": "code",
   "execution_count": 22,
   "metadata": {
    "ExecuteTime": {
     "end_time": "2020-02-05T06:21:27.948314Z",
     "start_time": "2020-02-05T06:21:24.455423Z"
    },
    "scrolled": true
   },
   "outputs": [
    {
     "name": "stdout",
     "output_type": "stream",
     "text": [
      "INFO:tensorflow:Calling model_fn.\n",
      "WARNING:tensorflow:Layer linear_model is casting an input tensor from dtype float64 to the layer's dtype of float32, which is new behavior in TensorFlow 2.  The layer has dtype float32 because it's dtype defaults to floatx.\n",
      "\n",
      "If you intended to run this layer in float32, you can safely ignore this warning. If in doubt, this warning is likely only an issue if you are porting a TensorFlow 1.X model to TensorFlow 2.\n",
      "\n",
      "To change all layers to have dtype float64 by default, call `tf.keras.backend.set_floatx('float64')`. To change just this layer, pass dtype='float64' to the layer constructor. If you are the author of this layer, you can disable autocasting by passing autocast=False to the base Layer constructor.\n",
      "\n",
      "INFO:tensorflow:Done calling model_fn.\n",
      "INFO:tensorflow:Create CheckpointSaverHook.\n",
      "INFO:tensorflow:Graph was finalized.\n",
      "INFO:tensorflow:Running local_init_op.\n",
      "INFO:tensorflow:Done running local_init_op.\n",
      "INFO:tensorflow:Saving checkpoints for 0 into logs/7_linear_reg/model.ckpt.\n",
      "INFO:tensorflow:loss = 83729.64, step = 0\n",
      "INFO:tensorflow:global_step/sec: 424.627\n",
      "INFO:tensorflow:loss = 13909.656, step = 100 (0.237 sec)\n",
      "INFO:tensorflow:global_step/sec: 767.152\n",
      "INFO:tensorflow:loss = 12881.449, step = 200 (0.129 sec)\n",
      "INFO:tensorflow:global_step/sec: 582.792\n",
      "INFO:tensorflow:loss = 12391.541, step = 300 (0.172 sec)\n",
      "INFO:tensorflow:global_step/sec: 753.531\n",
      "INFO:tensorflow:loss = 12050.5625, step = 400 (0.133 sec)\n",
      "INFO:tensorflow:global_step/sec: 768.865\n",
      "INFO:tensorflow:loss = 11766.134, step = 500 (0.130 sec)\n",
      "INFO:tensorflow:global_step/sec: 749.404\n",
      "INFO:tensorflow:loss = 11509.922, step = 600 (0.133 sec)\n",
      "INFO:tensorflow:global_step/sec: 582.199\n",
      "INFO:tensorflow:loss = 11272.889, step = 700 (0.172 sec)\n",
      "INFO:tensorflow:global_step/sec: 655.629\n",
      "INFO:tensorflow:loss = 11051.9795, step = 800 (0.153 sec)\n",
      "INFO:tensorflow:global_step/sec: 769.138\n",
      "INFO:tensorflow:loss = 10845.855, step = 900 (0.130 sec)\n",
      "INFO:tensorflow:Saving checkpoints for 1000 into logs/7_linear_reg/model.ckpt.\n",
      "INFO:tensorflow:Loss for final step: 5925.987.\n"
     ]
    },
    {
     "data": {
      "text/plain": [
       "<tensorflow_estimator.python.estimator.canned.linear.LinearRegressor at 0x7fdc1c9c5dd0>"
      ]
     },
     "execution_count": 22,
     "metadata": {},
     "output_type": "execute_result"
    }
   ],
   "source": [
    "#Step7: Train the model\n",
    "!rm -rf {model_dir}   #Clearing the output directory before training the model\n",
    "model.train(steps=1000, input_fn= lambda: get_input(X_input, Y_input, batch_size = 128))"
   ]
  },
  {
   "cell_type": "markdown",
   "metadata": {},
   "source": [
    "## Testing the model"
   ]
  },
  {
   "cell_type": "code",
   "execution_count": 23,
   "metadata": {
    "ExecuteTime": {
     "end_time": "2020-02-05T06:21:39.338730Z",
     "start_time": "2020-02-05T06:21:38.043047Z"
    }
   },
   "outputs": [
    {
     "name": "stdout",
     "output_type": "stream",
     "text": [
      "INFO:tensorflow:Calling model_fn.\n",
      "WARNING:tensorflow:Layer linear_model is casting an input tensor from dtype float64 to the layer's dtype of float32, which is new behavior in TensorFlow 2.  The layer has dtype float32 because it's dtype defaults to floatx.\n",
      "\n",
      "If you intended to run this layer in float32, you can safely ignore this warning. If in doubt, this warning is likely only an issue if you are porting a TensorFlow 1.X model to TensorFlow 2.\n",
      "\n",
      "To change all layers to have dtype float64 by default, call `tf.keras.backend.set_floatx('float64')`. To change just this layer, pass dtype='float64' to the layer constructor. If you are the author of this layer, you can disable autocasting by passing autocast=False to the base Layer constructor.\n",
      "\n",
      "INFO:tensorflow:Done calling model_fn.\n",
      "INFO:tensorflow:Starting evaluation at 2020-02-05T11:51:38Z\n",
      "INFO:tensorflow:Graph was finalized.\n",
      "INFO:tensorflow:Restoring parameters from logs/7_linear_reg/model.ckpt-1000\n",
      "INFO:tensorflow:Running local_init_op.\n",
      "INFO:tensorflow:Done running local_init_op.\n",
      "INFO:tensorflow:Finished evaluation at 2020-02-05-11:51:39\n",
      "INFO:tensorflow:Saving dict for global step 1000: average_loss = 32.158947, global_step = 1000, label/mean = 22.079998, loss = 4116.345, prediction/mean = 22.404531\n",
      "INFO:tensorflow:Saving 'checkpoint_path' summary for global step 1000: logs/7_linear_reg/model.ckpt-1000\n",
      "======Test Result======\n",
      "average_loss was : 32.1589469909668\n",
      "label/mean was : 22.079998016357422\n",
      "loss was : 4116.34521484375\n",
      "prediction/mean was : 22.404531478881836\n",
      "global_step was : 1000\n"
     ]
    }
   ],
   "source": [
    "#Step8: Testing the model\n",
    "results = model.evaluate(steps = None, input_fn = lambda : get_input(X_test, Y_test, batch_size =128, num_epoch=128))\n",
    "print('======Test Result======')\n",
    "for key in results:\n",
    "    print('{} was : {}'.format(key, results[key]))"
   ]
  },
  {
   "cell_type": "markdown",
   "metadata": {},
   "source": [
    "## Predicting Values"
   ]
  },
  {
   "cell_type": "code",
   "execution_count": 24,
   "metadata": {
    "ExecuteTime": {
     "end_time": "2020-02-05T06:21:42.523091Z",
     "start_time": "2020-02-05T06:21:41.711984Z"
    }
   },
   "outputs": [
    {
     "name": "stdout",
     "output_type": "stream",
     "text": [
      "=======Prediction========\n",
      "<generator object Estimator.predict at 0x7fdc1c8e5350>\n",
      "INFO:tensorflow:Calling model_fn.\n",
      "INFO:tensorflow:Done calling model_fn.\n",
      "INFO:tensorflow:Graph was finalized.\n",
      "INFO:tensorflow:Restoring parameters from logs/7_linear_reg/model.ckpt-1000\n",
      "INFO:tensorflow:Running local_init_op.\n",
      "INFO:tensorflow:Done running local_init_op.\n",
      "{'predictions': array([1.2626247], dtype=float32)} for 34.9\n",
      "{'predictions': array([4.524461], dtype=float32)} for 16.1\n",
      "{'predictions': array([7.786297], dtype=float32)} for 25.0\n",
      "{'predictions': array([11.048133], dtype=float32)} for 36.1\n",
      "{'predictions': array([14.309969], dtype=float32)} for 11.5\n",
      "{'predictions': array([17.571806], dtype=float32)} for 19.8\n"
     ]
    }
   ],
   "source": [
    "def dataframe_to_dataset():\n",
    "    x_dict = X_predict.to_dict()\n",
    "    x_input = {}\n",
    "    for key in x_dict:\n",
    "        x_input[key] = list(x_dict[key])\n",
    "    dataset =  tf.data.Dataset.from_tensor_slices(dict(x_input))\n",
    "    dataset = dataset.batch(128)\n",
    "    return dataset\n",
    "    #iterator = tf.data.make_one_shot_iterator(dataset)\n",
    "    #return iterator.get_next()\n",
    "\n",
    "prediction_result = model.predict(input_fn=dataframe_to_dataset)\n",
    "print('=======Prediction========')\n",
    "print(prediction_result)\n",
    "for pred, res in zip(prediction_result,Y_predict):\n",
    "    print('{} for {}'.format(pred,res))"
   ]
  }
 ],
 "metadata": {
  "kernelspec": {
   "display_name": "Python 3",
   "language": "python",
   "name": "python3"
  },
  "language_info": {
   "codemirror_mode": {
    "name": "ipython",
    "version": 3
   },
   "file_extension": ".py",
   "mimetype": "text/x-python",
   "name": "python",
   "nbconvert_exporter": "python",
   "pygments_lexer": "ipython3",
   "version": "3.7.6"
  },
  "toc": {
   "base_numbering": 1,
   "nav_menu": {},
   "number_sections": true,
   "sideBar": true,
   "skip_h1_title": false,
   "title_cell": "Table of Contents",
   "title_sidebar": "Contents",
   "toc_cell": false,
   "toc_position": {},
   "toc_section_display": true,
   "toc_window_display": true
  },
  "varInspector": {
   "cols": {
    "lenName": 16,
    "lenType": 16,
    "lenVar": 40
   },
   "kernels_config": {
    "python": {
     "delete_cmd_postfix": "",
     "delete_cmd_prefix": "del ",
     "library": "var_list.py",
     "varRefreshCmd": "print(var_dic_list())"
    },
    "r": {
     "delete_cmd_postfix": ") ",
     "delete_cmd_prefix": "rm(",
     "library": "var_list.r",
     "varRefreshCmd": "cat(var_dic_list()) "
    }
   },
   "oldHeight": 284.183666,
   "position": {
    "height": "40px",
    "left": "1246.83px",
    "right": "20px",
    "top": "124px",
    "width": "483.333px"
   },
   "types_to_exclude": [
    "module",
    "function",
    "builtin_function_or_method",
    "instance",
    "_Feature"
   ],
   "varInspector_section_display": "none",
   "window_display": true
  }
 },
 "nbformat": 4,
 "nbformat_minor": 4
}
