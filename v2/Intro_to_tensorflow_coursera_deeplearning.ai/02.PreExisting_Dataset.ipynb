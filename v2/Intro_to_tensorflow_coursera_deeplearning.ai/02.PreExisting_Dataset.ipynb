{
 "cells": [
  {
   "cell_type": "markdown",
   "metadata": {},
   "source": [
    "# Working with Pre-Existing Dataset"
   ]
  },
  {
   "cell_type": "markdown",
   "metadata": {},
   "source": [
    "## Loading the data"
   ]
  },
  {
   "cell_type": "code",
   "execution_count": 2,
   "metadata": {
    "execution": {
     "iopub.execute_input": "2020-10-11T14:35:02.391754Z",
     "iopub.status.busy": "2020-10-11T14:35:02.391432Z",
     "iopub.status.idle": "2020-10-11T14:35:04.909128Z",
     "shell.execute_reply": "2020-10-11T14:35:04.908505Z",
     "shell.execute_reply.started": "2020-10-11T14:35:02.391715Z"
    }
   },
   "outputs": [],
   "source": [
    "from tensorflow import keras"
   ]
  },
  {
   "cell_type": "code",
   "execution_count": 3,
   "metadata": {
    "execution": {
     "iopub.execute_input": "2020-10-11T14:35:22.069117Z",
     "iopub.status.busy": "2020-10-11T14:35:22.068894Z",
     "iopub.status.idle": "2020-10-11T14:35:22.072277Z",
     "shell.execute_reply": "2020-10-11T14:35:22.071387Z",
     "shell.execute_reply.started": "2020-10-11T14:35:22.069092Z"
    }
   },
   "outputs": [],
   "source": [
    "fashion_mnist = keras.datasets.fashion_mnist"
   ]
  },
  {
   "cell_type": "code",
   "execution_count": 5,
   "metadata": {
    "execution": {
     "iopub.execute_input": "2020-10-11T14:36:59.551163Z",
     "iopub.status.busy": "2020-10-11T14:36:59.550930Z",
     "iopub.status.idle": "2020-10-11T14:36:59.987244Z",
     "shell.execute_reply": "2020-10-11T14:36:59.986595Z",
     "shell.execute_reply.started": "2020-10-11T14:36:59.551136Z"
    }
   },
   "outputs": [],
   "source": [
    "(train_x, train_label), (test_x, test_label) = fashion_mnist.load_data()"
   ]
  },
  {
   "cell_type": "markdown",
   "metadata": {},
   "source": [
    "## Exploring the data"
   ]
  },
  {
   "cell_type": "code",
   "execution_count": 6,
   "metadata": {
    "execution": {
     "iopub.execute_input": "2020-10-11T14:37:07.142008Z",
     "iopub.status.busy": "2020-10-11T14:37:07.141786Z",
     "iopub.status.idle": "2020-10-11T14:37:07.151826Z",
     "shell.execute_reply": "2020-10-11T14:37:07.151125Z",
     "shell.execute_reply.started": "2020-10-11T14:37:07.141984Z"
    }
   },
   "outputs": [
    {
     "data": {
      "text/plain": [
       "(60000, 28, 28)"
      ]
     },
     "execution_count": 6,
     "metadata": {},
     "output_type": "execute_result"
    }
   ],
   "source": [
    "train_x.shape"
   ]
  },
  {
   "cell_type": "code",
   "execution_count": 7,
   "metadata": {
    "execution": {
     "iopub.execute_input": "2020-10-11T14:58:42.058294Z",
     "iopub.status.busy": "2020-10-11T14:58:42.058087Z",
     "iopub.status.idle": "2020-10-11T14:58:42.356807Z",
     "shell.execute_reply": "2020-10-11T14:58:42.356243Z",
     "shell.execute_reply.started": "2020-10-11T14:58:42.058271Z"
    }
   },
   "outputs": [],
   "source": [
    "import matplotlib.pyplot as plt"
   ]
  },
  {
   "cell_type": "code",
   "execution_count": 11,
   "metadata": {
    "execution": {
     "iopub.execute_input": "2020-10-11T14:59:07.283348Z",
     "iopub.status.busy": "2020-10-11T14:59:07.283116Z",
     "iopub.status.idle": "2020-10-11T14:59:07.416768Z",
     "shell.execute_reply": "2020-10-11T14:59:07.416131Z",
     "shell.execute_reply.started": "2020-10-11T14:59:07.283323Z"
    }
   },
   "outputs": [
    {
     "data": {
      "text/plain": [
       "<matplotlib.image.AxesImage at 0x7fa2c5474ac0>"
      ]
     },
     "execution_count": 11,
     "metadata": {},
     "output_type": "execute_result"
    },
    {
     "data": {
      "image/png": "[encoded data removed]",
      "text/plain": [
       "<Figure size 432x288 with 1 Axes>"
      ]
     },
     "metadata": {
      "needs_background": "light"
     },
     "output_type": "display_data"
    }
   ],
   "source": [
    "plt.imshow(train_x[40], cmap='gray')"
   ]
  },
  {
   "cell_type": "markdown",
   "metadata": {},
   "source": [
    "We have here 10 classes to classify and 60K images of 28x28 size to process."
   ]
  },
  {
   "cell_type": "markdown",
   "metadata": {},
   "source": [
    "## Normalizing the data"
   ]
  },
  {
   "cell_type": "code",
   "execution_count": 12,
   "metadata": {
    "execution": {
     "iopub.execute_input": "2020-10-11T15:11:14.292706Z",
     "iopub.status.busy": "2020-10-11T15:11:14.292482Z",
     "iopub.status.idle": "2020-10-11T15:11:14.399729Z",
     "shell.execute_reply": "2020-10-11T15:11:14.398694Z",
     "shell.execute_reply.started": "2020-10-11T15:11:14.292680Z"
    }
   },
   "outputs": [],
   "source": [
    "train_x_normalized = train_x / 255.0"
   ]
  },
  {
   "cell_type": "code",
   "execution_count": 13,
   "metadata": {
    "execution": {
     "iopub.execute_input": "2020-10-11T15:11:35.830280Z",
     "iopub.status.busy": "2020-10-11T15:11:35.830064Z",
     "iopub.status.idle": "2020-10-11T15:11:35.834718Z",
     "shell.execute_reply": "2020-10-11T15:11:35.833863Z",
     "shell.execute_reply.started": "2020-10-11T15:11:35.830256Z"
    }
   },
   "outputs": [
    {
     "data": {
      "text/plain": [
       "(60000,)"
      ]
     },
     "execution_count": 13,
     "metadata": {},
     "output_type": "execute_result"
    }
   ],
   "source": [
    "train_label.shape"
   ]
  },
  {
   "cell_type": "markdown",
   "metadata": {},
   "source": [
    "## Creating a basic Model"
   ]
  },
  {
   "cell_type": "code",
   "execution_count": 14,
   "metadata": {
    "execution": {
     "iopub.execute_input": "2020-10-11T15:23:00.875675Z",
     "iopub.status.busy": "2020-10-11T15:23:00.875456Z",
     "iopub.status.idle": "2020-10-11T15:23:00.879151Z",
     "shell.execute_reply": "2020-10-11T15:23:00.878028Z",
     "shell.execute_reply.started": "2020-10-11T15:23:00.875649Z"
    }
   },
   "outputs": [],
   "source": [
    "from  tensorflow import keras"
   ]
  },
  {
   "cell_type": "code",
   "execution_count": 15,
   "metadata": {
    "execution": {
     "iopub.execute_input": "2020-10-11T15:26:46.655539Z",
     "iopub.status.busy": "2020-10-11T15:26:46.655325Z",
     "iopub.status.idle": "2020-10-11T15:26:46.699258Z",
     "shell.execute_reply": "2020-10-11T15:26:46.698569Z",
     "shell.execute_reply.started": "2020-10-11T15:26:46.655516Z"
    }
   },
   "outputs": [],
   "source": [
    "model = keras.models.Sequential()\n",
    "model.add(keras.layers.Flatten())\n",
    "model.add(keras.layers.Dense(128, activation='relu'))\n",
    "model.add(keras.layers.Dense(10, activation='softmax'))"
   ]
  },
  {
   "cell_type": "code",
   "execution_count": 16,
   "metadata": {
    "execution": {
     "iopub.execute_input": "2020-10-11T15:27:51.603085Z",
     "iopub.status.busy": "2020-10-11T15:27:51.602871Z",
     "iopub.status.idle": "2020-10-11T15:27:53.333145Z",
     "shell.execute_reply": "2020-10-11T15:27:53.332309Z",
     "shell.execute_reply.started": "2020-10-11T15:27:51.603062Z"
    }
   },
   "outputs": [],
   "source": [
    "model.compile(optimizer='adam', loss='sparse_categorical_crossentropy', metrics=['accuracy'])"
   ]
  },
  {
   "cell_type": "markdown",
   "metadata": {},
   "source": [
    "## Training the model"
   ]
  },
  {
   "cell_type": "code",
   "execution_count": 17,
   "metadata": {
    "execution": {
     "iopub.execute_input": "2020-10-11T15:28:23.319053Z",
     "iopub.status.busy": "2020-10-11T15:28:23.318756Z",
     "iopub.status.idle": "2020-10-11T15:28:51.981017Z",
     "shell.execute_reply": "2020-10-11T15:28:51.980141Z",
     "shell.execute_reply.started": "2020-10-11T15:28:23.319022Z"
    }
   },
   "outputs": [
    {
     "name": "stdout",
     "output_type": "stream",
     "text": [
      "Epoch 1/10\n",
      "1875/1875 [==============================] - 3s 1ms/step - loss: 0.4991 - accuracy: 0.8252\n",
      "Epoch 2/10\n",
      "1875/1875 [==============================] - 3s 2ms/step - loss: 0.3779 - accuracy: 0.8630\n",
      "Epoch 3/10\n",
      "1875/1875 [==============================] - 3s 1ms/step - loss: 0.3395 - accuracy: 0.8755\n",
      "Epoch 4/10\n",
      "1875/1875 [==============================] - 3s 2ms/step - loss: 0.3149 - accuracy: 0.8843\n",
      "Epoch 5/10\n",
      "1875/1875 [==============================] - 3s 1ms/step - loss: 0.2945 - accuracy: 0.8904\n",
      "Epoch 6/10\n",
      "1875/1875 [==============================] - 3s 1ms/step - loss: 0.2819 - accuracy: 0.8960\n",
      "Epoch 7/10\n",
      "1875/1875 [==============================] - 3s 1ms/step - loss: 0.2689 - accuracy: 0.9006\n",
      "Epoch 8/10\n",
      "1875/1875 [==============================] - 3s 1ms/step - loss: 0.2572 - accuracy: 0.9047\n",
      "Epoch 9/10\n",
      "1875/1875 [==============================] - 3s 1ms/step - loss: 0.2479 - accuracy: 0.9082\n",
      "Epoch 10/10\n",
      "1875/1875 [==============================] - 3s 2ms/step - loss: 0.2413 - accuracy: 0.9100\n"
     ]
    },
    {
     "data": {
      "text/plain": [
       "<tensorflow.python.keras.callbacks.History at 0x7fa2ae1107f0>"
      ]
     },
     "execution_count": 17,
     "metadata": {},
     "output_type": "execute_result"
    }
   ],
   "source": [
    "model.fit(train_x_normalized, train_label, epochs=10)"
   ]
  },
  {
   "cell_type": "markdown",
   "metadata": {},
   "source": [
    "## Evaluating the model performance"
   ]
  },
  {
   "cell_type": "code",
   "execution_count": 18,
   "metadata": {
    "execution": {
     "iopub.execute_input": "2020-10-11T15:29:19.020891Z",
     "iopub.status.busy": "2020-10-11T15:29:19.020653Z",
     "iopub.status.idle": "2020-10-11T15:29:19.041106Z",
     "shell.execute_reply": "2020-10-11T15:29:19.040350Z",
     "shell.execute_reply.started": "2020-10-11T15:29:19.020865Z"
    }
   },
   "outputs": [],
   "source": [
    "test_x_normalized = test_x / 255.0"
   ]
  },
  {
   "cell_type": "code",
   "execution_count": 19,
   "metadata": {
    "execution": {
     "iopub.execute_input": "2020-10-11T15:29:33.167411Z",
     "iopub.status.busy": "2020-10-11T15:29:33.167195Z",
     "iopub.status.idle": "2020-10-11T15:29:33.861493Z",
     "shell.execute_reply": "2020-10-11T15:29:33.860750Z",
     "shell.execute_reply.started": "2020-10-11T15:29:33.167385Z"
    }
   },
   "outputs": [
    {
     "name": "stdout",
     "output_type": "stream",
     "text": [
      "313/313 [==============================] - 0s 1ms/step - loss: 0.3300 - accuracy: 0.8862\n"
     ]
    },
    {
     "data": {
      "text/plain": [
       "[0.33001986145973206, 0.8862000107765198]"
      ]
     },
     "execution_count": 19,
     "metadata": {},
     "output_type": "execute_result"
    }
   ],
   "source": [
    "model.evaluate(test_x_normalized, test_label)"
   ]
  },
  {
   "cell_type": "markdown",
   "metadata": {},
   "source": [
    "Here we can see that our model has a 0.33 loss on unseen dataset and a accuracy metric of about 88.6% "
   ]
  },
  {
   "cell_type": "code",
   "execution_count": null,
   "metadata": {},
   "outputs": [],
   "source": []
  }
 ],
 "metadata": {
  "kernelspec": {
   "display_name": "Python 3",
   "language": "python",
   "name": "python3"
  },
  "language_info": {
   "codemirror_mode": {
    "name": "ipython",
    "version": 3
   },
   "file_extension": ".py",
   "mimetype": "text/x-python",
   "name": "python",
   "nbconvert_exporter": "python",
   "pygments_lexer": "ipython3",
   "version": "3.8.3"
  }
 },
 "nbformat": 4,
 "nbformat_minor": 4
}
