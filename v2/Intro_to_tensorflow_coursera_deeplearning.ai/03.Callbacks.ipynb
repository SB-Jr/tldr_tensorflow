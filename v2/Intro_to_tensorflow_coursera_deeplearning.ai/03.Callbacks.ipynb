{
 "cells": [
  {
   "cell_type": "markdown",
   "metadata": {},
   "source": [
    "# Callbacks"
   ]
  },
  {
   "cell_type": "markdown",
   "metadata": {},
   "source": [
    "Callbacks are used when we want to monitor our learning process and take some action when a certain criteria is met. We can do this by either doing a manual check after each epoch or we can use 'Callbacks' to this automatically."
   ]
  },
  {
   "cell_type": "markdown",
   "metadata": {},
   "source": [
    "There are preexisting callbacks provided by keras or we can also create our own by extending the Callbacks class."
   ]
  },
  {
   "cell_type": "markdown",
   "metadata": {},
   "source": [
    "## Using Callback Class objects"
   ]
  },
  {
   "cell_type": "code",
   "execution_count": 1,
   "metadata": {
    "execution": {
     "iopub.execute_input": "2020-10-13T11:17:26.038373Z",
     "iopub.status.busy": "2020-10-13T11:17:26.038172Z",
     "iopub.status.idle": "2020-10-13T11:17:28.762586Z",
     "shell.execute_reply": "2020-10-13T11:17:28.761902Z",
     "shell.execute_reply.started": "2020-10-13T11:17:26.038349Z"
    }
   },
   "outputs": [],
   "source": [
    "import tensorflow as tf"
   ]
  },
  {
   "cell_type": "code",
   "execution_count": 3,
   "metadata": {
    "execution": {
     "iopub.execute_input": "2020-10-13T11:19:03.511529Z",
     "iopub.status.busy": "2020-10-13T11:19:03.511315Z",
     "iopub.status.idle": "2020-10-13T11:19:03.515751Z",
     "shell.execute_reply": "2020-10-13T11:19:03.514941Z",
     "shell.execute_reply.started": "2020-10-13T11:19:03.511505Z"
    }
   },
   "outputs": [],
   "source": [
    "class MyCallback(tf.keras.callbacks.Callback):\n",
    "    def on_epoch_end(self, epoch, logs={}):\n",
    "        if logs.get('loss') <= 0.1:\n",
    "            print('Loss reached 0.1 threshold, so ending')\n",
    "            self.model.stop_training = True"
   ]
  },
  {
   "cell_type": "markdown",
   "metadata": {},
   "source": [
    "### Using the callback"
   ]
  },
  {
   "cell_type": "code",
   "execution_count": 4,
   "metadata": {
    "execution": {
     "iopub.execute_input": "2020-10-13T11:20:01.755010Z",
     "iopub.status.busy": "2020-10-13T11:20:01.754787Z",
     "iopub.status.idle": "2020-10-13T11:20:02.497313Z",
     "shell.execute_reply": "2020-10-13T11:20:02.496648Z",
     "shell.execute_reply.started": "2020-10-13T11:20:01.754985Z"
    }
   },
   "outputs": [],
   "source": [
    "fashion_mnist = tf.keras.datasets.fashion_mnist\n",
    "(train_x, train_label), (test_x, test_label) = fashion_mnist.load_data()\n",
    "train_x_normalized = train_x / 255.0"
   ]
  },
  {
   "cell_type": "code",
   "execution_count": 5,
   "metadata": {
    "execution": {
     "iopub.execute_input": "2020-10-13T11:20:17.869347Z",
     "iopub.status.busy": "2020-10-13T11:20:17.869114Z",
     "iopub.status.idle": "2020-10-13T11:20:17.917032Z",
     "shell.execute_reply": "2020-10-13T11:20:17.916381Z",
     "shell.execute_reply.started": "2020-10-13T11:20:17.869323Z"
    }
   },
   "outputs": [],
   "source": [
    "model = tf.keras.models.Sequential()\n",
    "model.add(tf.keras.layers.Flatten())\n",
    "model.add(tf.keras.layers.Dense(128, activation='relu'))\n",
    "model.add(tf.keras.layers.Dense(10, activation='softmax'))"
   ]
  },
  {
   "cell_type": "code",
   "execution_count": 6,
   "metadata": {
    "execution": {
     "iopub.execute_input": "2020-10-13T11:21:52.237114Z",
     "iopub.status.busy": "2020-10-13T11:21:52.236706Z",
     "iopub.status.idle": "2020-10-13T11:21:52.240971Z",
     "shell.execute_reply": "2020-10-13T11:21:52.240058Z",
     "shell.execute_reply.started": "2020-10-13T11:21:52.237066Z"
    }
   },
   "outputs": [],
   "source": [
    "my_callback = MyCallback()"
   ]
  },
  {
   "cell_type": "code",
   "execution_count": 8,
   "metadata": {
    "execution": {
     "iopub.execute_input": "2020-10-13T11:22:34.729363Z",
     "iopub.status.busy": "2020-10-13T11:22:34.729101Z",
     "iopub.status.idle": "2020-10-13T11:22:36.524634Z",
     "shell.execute_reply": "2020-10-13T11:22:36.523512Z",
     "shell.execute_reply.started": "2020-10-13T11:22:34.729337Z"
    }
   },
   "outputs": [],
   "source": [
    "model.compile(optimizer='adam', loss='sparse_categorical_crossentropy')"
   ]
  },
  {
   "cell_type": "code",
   "execution_count": 10,
   "metadata": {
    "execution": {
     "iopub.execute_input": "2020-10-13T11:23:11.350038Z",
     "iopub.status.busy": "2020-10-13T11:23:11.349695Z",
     "iopub.status.idle": "2020-10-13T11:25:17.325441Z",
     "shell.execute_reply": "2020-10-13T11:25:17.324559Z",
     "shell.execute_reply.started": "2020-10-13T11:23:11.350000Z"
    }
   },
   "outputs": [
    {
     "name": "stdout",
     "output_type": "stream",
     "text": [
      "Epoch 1/1000\n",
      "1875/1875 [==============================] - 3s 1ms/step - loss: 0.4997\n",
      "Epoch 2/1000\n",
      "1875/1875 [==============================] - 3s 1ms/step - loss: 0.3747\n",
      "Epoch 3/1000\n",
      "1875/1875 [==============================] - 3s 1ms/step - loss: 0.3373\n",
      "Epoch 4/1000\n",
      "1875/1875 [==============================] - 3s 1ms/step - loss: 0.3108\n",
      "Epoch 5/1000\n",
      "1875/1875 [==============================] - 3s 1ms/step - loss: 0.2936\n",
      "Epoch 6/1000\n",
      "1875/1875 [==============================] - 3s 1ms/step - loss: 0.2794\n",
      "Epoch 7/1000\n",
      "1875/1875 [==============================] - 3s 1ms/step - loss: 0.2664\n",
      "Epoch 8/1000\n",
      "1875/1875 [==============================] - 3s 1ms/step - loss: 0.2542\n",
      "Epoch 9/1000\n",
      "1875/1875 [==============================] - 3s 1ms/step - loss: 0.2451\n",
      "Epoch 10/1000\n",
      "1875/1875 [==============================] - 3s 1ms/step - loss: 0.2367\n",
      "Epoch 11/1000\n",
      "1875/1875 [==============================] - 3s 1ms/step - loss: 0.2288\n",
      "Epoch 12/1000\n",
      "1875/1875 [==============================] - 3s 1ms/step - loss: 0.2208\n",
      "Epoch 13/1000\n",
      "1875/1875 [==============================] - 3s 1ms/step - loss: 0.2147\n",
      "Epoch 14/1000\n",
      "1875/1875 [==============================] - 3s 1ms/step - loss: 0.2068\n",
      "Epoch 15/1000\n",
      "1875/1875 [==============================] - 3s 1ms/step - loss: 0.2017\n",
      "Epoch 16/1000\n",
      "1875/1875 [==============================] - 3s 1ms/step - loss: 0.1974\n",
      "Epoch 17/1000\n",
      "1875/1875 [==============================] - 3s 1ms/step - loss: 0.1910\n",
      "Epoch 18/1000\n",
      "1875/1875 [==============================] - 3s 1ms/step - loss: 0.1850\n",
      "Epoch 19/1000\n",
      "1875/1875 [==============================] - 3s 1ms/step - loss: 0.1808\n",
      "Epoch 20/1000\n",
      "1875/1875 [==============================] - 3s 1ms/step - loss: 0.1765\n",
      "Epoch 21/1000\n",
      "1875/1875 [==============================] - 3s 1ms/step - loss: 0.1728\n",
      "Epoch 22/1000\n",
      "1875/1875 [==============================] - 3s 1ms/step - loss: 0.1682\n",
      "Epoch 23/1000\n",
      "1875/1875 [==============================] - 3s 1ms/step - loss: 0.1640\n",
      "Epoch 24/1000\n",
      "1875/1875 [==============================] - 3s 1ms/step - loss: 0.1611\n",
      "Epoch 25/1000\n",
      "1875/1875 [==============================] - 3s 1ms/step - loss: 0.1554\n",
      "Epoch 26/1000\n",
      "1875/1875 [==============================] - 3s 1ms/step - loss: 0.1527\n",
      "Epoch 27/1000\n",
      "1875/1875 [==============================] - 3s 1ms/step - loss: 0.1500\n",
      "Epoch 28/1000\n",
      "1875/1875 [==============================] - 3s 1ms/step - loss: 0.1463\n",
      "Epoch 29/1000\n",
      "1875/1875 [==============================] - 3s 1ms/step - loss: 0.1431\n",
      "Epoch 30/1000\n",
      "1875/1875 [==============================] - 3s 1ms/step - loss: 0.1414\n",
      "Epoch 31/1000\n",
      "1875/1875 [==============================] - 3s 1ms/step - loss: 0.1362\n",
      "Epoch 32/1000\n",
      "1875/1875 [==============================] - 3s 1ms/step - loss: 0.1349\n",
      "Epoch 33/1000\n",
      "1875/1875 [==============================] - 3s 1ms/step - loss: 0.1331\n",
      "Epoch 34/1000\n",
      "1875/1875 [==============================] - 3s 1ms/step - loss: 0.1296\n",
      "Epoch 35/1000\n",
      "1875/1875 [==============================] - 3s 1ms/step - loss: 0.1255\n",
      "Epoch 36/1000\n",
      "1875/1875 [==============================] - 3s 1ms/step - loss: 0.1242\n",
      "Epoch 37/1000\n",
      "1875/1875 [==============================] - 3s 1ms/step - loss: 0.1215\n",
      "Epoch 38/1000\n",
      "1875/1875 [==============================] - 3s 1ms/step - loss: 0.1198\n",
      "Epoch 39/1000\n",
      "1875/1875 [==============================] - 3s 1ms/step - loss: 0.1161\n",
      "Epoch 40/1000\n",
      "1875/1875 [==============================] - 3s 1ms/step - loss: 0.1145\n",
      "Epoch 41/1000\n",
      "1875/1875 [==============================] - 3s 1ms/step - loss: 0.1156\n",
      "Epoch 42/1000\n",
      "1875/1875 [==============================] - 3s 1ms/step - loss: 0.1108\n",
      "Epoch 43/1000\n",
      "1875/1875 [==============================] - 3s 1ms/step - loss: 0.1113\n",
      "Epoch 44/1000\n",
      "1875/1875 [==============================] - 3s 1ms/step - loss: 0.1056\n",
      "Epoch 45/1000\n",
      "1875/1875 [==============================] - 3s 1ms/step - loss: 0.1050\n",
      "Epoch 46/1000\n",
      "1875/1875 [==============================] - 3s 1ms/step - loss: 0.1048\n",
      "Epoch 47/1000\n",
      "1856/1875 [============================>.] - ETA: 0s - loss: 0.0998Loss reached 0.1 threshold, so ending\n",
      "1875/1875 [==============================] - 3s 1ms/step - loss: 0.0999\n"
     ]
    },
    {
     "data": {
      "text/plain": [
       "<tensorflow.python.keras.callbacks.History at 0x7f52e80b22e0>"
      ]
     },
     "execution_count": 10,
     "metadata": {},
     "output_type": "execute_result"
    }
   ],
   "source": [
    "model.fit(train_x_normalized, train_label, epochs=1000, callbacks=[my_callback])"
   ]
  },
  {
   "cell_type": "markdown",
   "metadata": {},
   "source": [
    "## Another example where we can use other metrics"
   ]
  },
  {
   "cell_type": "code",
   "execution_count": 12,
   "metadata": {
    "execution": {
     "iopub.execute_input": "2020-10-13T11:28:59.602833Z",
     "iopub.status.busy": "2020-10-13T11:28:59.602468Z",
     "iopub.status.idle": "2020-10-13T11:28:59.607915Z",
     "shell.execute_reply": "2020-10-13T11:28:59.607156Z",
     "shell.execute_reply.started": "2020-10-13T11:28:59.602791Z"
    }
   },
   "outputs": [],
   "source": [
    "class MyCallbackAccuracy(tf.keras.callbacks.Callback):\n",
    "    def on_epoch_end(self, epoch, logs={}):\n",
    "        if logs.get('accuracy') >= 0.99:\n",
    "            print('Loss reached 0.1 threshold, so ending')\n",
    "            self.model.stop_training = True"
   ]
  },
  {
   "cell_type": "code",
   "execution_count": 13,
   "metadata": {
    "execution": {
     "iopub.execute_input": "2020-10-13T11:29:15.845348Z",
     "iopub.status.busy": "2020-10-13T11:29:15.845113Z",
     "iopub.status.idle": "2020-10-13T11:29:15.848749Z",
     "shell.execute_reply": "2020-10-13T11:29:15.847850Z",
     "shell.execute_reply.started": "2020-10-13T11:29:15.845323Z"
    }
   },
   "outputs": [],
   "source": [
    "accuracy_callback = MyCallbackAccuracy()"
   ]
  },
  {
   "cell_type": "code",
   "execution_count": 14,
   "metadata": {
    "execution": {
     "iopub.execute_input": "2020-10-13T11:29:33.522818Z",
     "iopub.status.busy": "2020-10-13T11:29:33.522596Z",
     "iopub.status.idle": "2020-10-13T11:29:33.530919Z",
     "shell.execute_reply": "2020-10-13T11:29:33.530260Z",
     "shell.execute_reply.started": "2020-10-13T11:29:33.522795Z"
    }
   },
   "outputs": [],
   "source": [
    "model2 = tf.keras.models.Sequential()\n",
    "model2.add(tf.keras.layers.Flatten())\n",
    "model2.add(tf.keras.layers.Dense(128, activation='relu'))\n",
    "model2.add(tf.keras.layers.Dense(10, activation='softmax'))"
   ]
  },
  {
   "cell_type": "code",
   "execution_count": 15,
   "metadata": {
    "execution": {
     "iopub.execute_input": "2020-10-13T11:29:57.787599Z",
     "iopub.status.busy": "2020-10-13T11:29:57.787204Z",
     "iopub.status.idle": "2020-10-13T11:29:57.807654Z",
     "shell.execute_reply": "2020-10-13T11:29:57.806586Z",
     "shell.execute_reply.started": "2020-10-13T11:29:57.787555Z"
    }
   },
   "outputs": [],
   "source": [
    "model2.compile(optimizer='adam', loss='sparse_categorical_crossentropy', metrics=['accuracy'])"
   ]
  },
  {
   "cell_type": "code",
   "execution_count": 16,
   "metadata": {
    "execution": {
     "iopub.execute_input": "2020-10-13T11:30:19.278936Z",
     "iopub.status.busy": "2020-10-13T11:30:19.278699Z",
     "iopub.status.idle": "2020-10-13T11:39:56.497667Z",
     "shell.execute_reply": "2020-10-13T11:39:56.497088Z",
     "shell.execute_reply.started": "2020-10-13T11:30:19.278911Z"
    }
   },
   "outputs": [
    {
     "name": "stdout",
     "output_type": "stream",
     "text": [
      "Epoch 1/1000\n",
      "1875/1875 [==============================] - 3s 2ms/step - loss: 0.4935 - accuracy: 0.8272\n",
      "Epoch 2/1000\n",
      "1875/1875 [==============================] - 3s 2ms/step - loss: 0.3725 - accuracy: 0.8658\n",
      "Epoch 3/1000\n",
      "1875/1875 [==============================] - 3s 2ms/step - loss: 0.3370 - accuracy: 0.8769\n",
      "Epoch 4/1000\n",
      "1875/1875 [==============================] - 3s 2ms/step - loss: 0.3148 - accuracy: 0.8854\n",
      "Epoch 5/1000\n",
      "1875/1875 [==============================] - 3s 2ms/step - loss: 0.2962 - accuracy: 0.8912\n",
      "Epoch 6/1000\n",
      "1875/1875 [==============================] - 3s 2ms/step - loss: 0.2810 - accuracy: 0.8968\n",
      "Epoch 7/1000\n",
      "1875/1875 [==============================] - 3s 2ms/step - loss: 0.2669 - accuracy: 0.9018\n",
      "Epoch 8/1000\n",
      "1875/1875 [==============================] - 3s 2ms/step - loss: 0.2595 - accuracy: 0.9045\n",
      "Epoch 9/1000\n",
      "1875/1875 [==============================] - 3s 2ms/step - loss: 0.2480 - accuracy: 0.9075\n",
      "Epoch 10/1000\n",
      "1875/1875 [==============================] - 4s 2ms/step - loss: 0.2393 - accuracy: 0.9095\n",
      "Epoch 11/1000\n",
      "1875/1875 [==============================] - 3s 2ms/step - loss: 0.2290 - accuracy: 0.9141\n",
      "Epoch 12/1000\n",
      "1875/1875 [==============================] - 3s 2ms/step - loss: 0.2249 - accuracy: 0.9158\n",
      "Epoch 13/1000\n",
      "1875/1875 [==============================] - 4s 2ms/step - loss: 0.2157 - accuracy: 0.9192\n",
      "Epoch 14/1000\n",
      "1875/1875 [==============================] - 3s 2ms/step - loss: 0.2097 - accuracy: 0.9218\n",
      "Epoch 15/1000\n",
      "1875/1875 [==============================] - 4s 2ms/step - loss: 0.2044 - accuracy: 0.9237\n",
      "Epoch 16/1000\n",
      "1875/1875 [==============================] - 3s 2ms/step - loss: 0.1987 - accuracy: 0.9246\n",
      "Epoch 17/1000\n",
      "1875/1875 [==============================] - 3s 2ms/step - loss: 0.1918 - accuracy: 0.9278\n",
      "Epoch 18/1000\n",
      "1875/1875 [==============================] - 4s 2ms/step - loss: 0.1880 - accuracy: 0.9288\n",
      "Epoch 19/1000\n",
      "1875/1875 [==============================] - 4s 2ms/step - loss: 0.1814 - accuracy: 0.9318\n",
      "Epoch 20/1000\n",
      "1875/1875 [==============================] - 3s 2ms/step - loss: 0.1781 - accuracy: 0.9336\n",
      "Epoch 21/1000\n",
      "1875/1875 [==============================] - 4s 2ms/step - loss: 0.1733 - accuracy: 0.9347\n",
      "Epoch 22/1000\n",
      "1875/1875 [==============================] - 4s 2ms/step - loss: 0.1684 - accuracy: 0.9362\n",
      "Epoch 23/1000\n",
      "1875/1875 [==============================] - 3s 2ms/step - loss: 0.1642 - accuracy: 0.9381\n",
      "Epoch 24/1000\n",
      "1875/1875 [==============================] - 3s 2ms/step - loss: 0.1610 - accuracy: 0.9396\n",
      "Epoch 25/1000\n",
      "1875/1875 [==============================] - 3s 2ms/step - loss: 0.1554 - accuracy: 0.9419\n",
      "Epoch 26/1000\n",
      "1875/1875 [==============================] - 3s 2ms/step - loss: 0.1531 - accuracy: 0.9417\n",
      "Epoch 27/1000\n",
      "1875/1875 [==============================] - 3s 2ms/step - loss: 0.1509 - accuracy: 0.9430\n",
      "Epoch 28/1000\n",
      "1875/1875 [==============================] - 3s 2ms/step - loss: 0.1464 - accuracy: 0.9455\n",
      "Epoch 29/1000\n",
      "1875/1875 [==============================] - 3s 2ms/step - loss: 0.1447 - accuracy: 0.9450\n",
      "Epoch 30/1000\n",
      "1875/1875 [==============================] - 3s 2ms/step - loss: 0.1399 - accuracy: 0.9467\n",
      "Epoch 31/1000\n",
      "1875/1875 [==============================] - 3s 2ms/step - loss: 0.1359 - accuracy: 0.9498\n",
      "Epoch 32/1000\n",
      "1875/1875 [==============================] - 3s 2ms/step - loss: 0.1333 - accuracy: 0.9497\n",
      "Epoch 33/1000\n",
      "1875/1875 [==============================] - 3s 2ms/step - loss: 0.1318 - accuracy: 0.9512\n",
      "Epoch 34/1000\n",
      "1875/1875 [==============================] - 3s 2ms/step - loss: 0.1283 - accuracy: 0.9513\n",
      "Epoch 35/1000\n",
      "1875/1875 [==============================] - 3s 2ms/step - loss: 0.1256 - accuracy: 0.9529\n",
      "Epoch 36/1000\n",
      "1875/1875 [==============================] - 3s 2ms/step - loss: 0.1239 - accuracy: 0.9533\n",
      "Epoch 37/1000\n",
      "1875/1875 [==============================] - 3s 2ms/step - loss: 0.1202 - accuracy: 0.9547\n",
      "Epoch 38/1000\n",
      "1875/1875 [==============================] - 3s 2ms/step - loss: 0.1193 - accuracy: 0.9551\n",
      "Epoch 39/1000\n",
      "1875/1875 [==============================] - 3s 2ms/step - loss: 0.1176 - accuracy: 0.9556\n",
      "Epoch 40/1000\n",
      "1875/1875 [==============================] - 3s 2ms/step - loss: 0.1139 - accuracy: 0.9580\n",
      "Epoch 41/1000\n",
      "1875/1875 [==============================] - 3s 2ms/step - loss: 0.1133 - accuracy: 0.9571\n",
      "Epoch 42/1000\n",
      "1875/1875 [==============================] - 3s 2ms/step - loss: 0.1109 - accuracy: 0.9580\n",
      "Epoch 43/1000\n",
      "1875/1875 [==============================] - 3s 2ms/step - loss: 0.1080 - accuracy: 0.9597\n",
      "Epoch 44/1000\n",
      "1875/1875 [==============================] - 3s 2ms/step - loss: 0.1069 - accuracy: 0.9603\n",
      "Epoch 45/1000\n",
      "1875/1875 [==============================] - 3s 2ms/step - loss: 0.1049 - accuracy: 0.9608\n",
      "Epoch 46/1000\n",
      "1875/1875 [==============================] - 3s 2ms/step - loss: 0.1051 - accuracy: 0.9601\n",
      "Epoch 47/1000\n",
      "1875/1875 [==============================] - 3s 2ms/step - loss: 0.1015 - accuracy: 0.9625\n",
      "Epoch 48/1000\n",
      "1875/1875 [==============================] - 4s 2ms/step - loss: 0.1023 - accuracy: 0.9614\n",
      "Epoch 49/1000\n",
      "1875/1875 [==============================] - 3s 2ms/step - loss: 0.0984 - accuracy: 0.9635\n",
      "Epoch 50/1000\n",
      "1875/1875 [==============================] - 4s 2ms/step - loss: 0.0963 - accuracy: 0.9641\n",
      "Epoch 51/1000\n",
      "1875/1875 [==============================] - 4s 2ms/step - loss: 0.0957 - accuracy: 0.9641\n",
      "Epoch 52/1000\n",
      "1875/1875 [==============================] - 3s 2ms/step - loss: 0.0926 - accuracy: 0.9653\n",
      "Epoch 53/1000\n",
      "1875/1875 [==============================] - 3s 2ms/step - loss: 0.0934 - accuracy: 0.9639\n",
      "Epoch 54/1000\n",
      "1875/1875 [==============================] - 3s 2ms/step - loss: 0.0907 - accuracy: 0.9660\n",
      "Epoch 55/1000\n",
      "1875/1875 [==============================] - 4s 2ms/step - loss: 0.0922 - accuracy: 0.9651\n",
      "Epoch 56/1000\n",
      "1875/1875 [==============================] - 4s 2ms/step - loss: 0.0861 - accuracy: 0.9683\n",
      "Epoch 57/1000\n",
      "1875/1875 [==============================] - 4s 2ms/step - loss: 0.0874 - accuracy: 0.9681\n",
      "Epoch 58/1000\n",
      "1875/1875 [==============================] - 3s 2ms/step - loss: 0.0856 - accuracy: 0.9683\n",
      "Epoch 59/1000\n",
      "1875/1875 [==============================] - 3s 2ms/step - loss: 0.0830 - accuracy: 0.9694\n",
      "Epoch 60/1000\n",
      "1875/1875 [==============================] - 3s 2ms/step - loss: 0.0844 - accuracy: 0.9677\n",
      "Epoch 61/1000\n",
      "1875/1875 [==============================] - 3s 2ms/step - loss: 0.0812 - accuracy: 0.9693\n",
      "Epoch 62/1000\n",
      "1875/1875 [==============================] - 3s 2ms/step - loss: 0.0795 - accuracy: 0.9703\n",
      "Epoch 63/1000\n",
      "1875/1875 [==============================] - 3s 2ms/step - loss: 0.0799 - accuracy: 0.9705\n",
      "Epoch 64/1000\n",
      "1875/1875 [==============================] - 3s 2ms/step - loss: 0.0788 - accuracy: 0.9706\n",
      "Epoch 65/1000\n",
      "1875/1875 [==============================] - 3s 2ms/step - loss: 0.0773 - accuracy: 0.9714\n",
      "Epoch 66/1000\n",
      "1875/1875 [==============================] - 3s 2ms/step - loss: 0.0773 - accuracy: 0.9712\n",
      "Epoch 67/1000\n",
      "1875/1875 [==============================] - 3s 2ms/step - loss: 0.0752 - accuracy: 0.9714\n",
      "Epoch 68/1000\n",
      "1875/1875 [==============================] - 3s 2ms/step - loss: 0.0727 - accuracy: 0.9729\n",
      "Epoch 69/1000\n",
      "1875/1875 [==============================] - 3s 2ms/step - loss: 0.0755 - accuracy: 0.9712\n",
      "Epoch 70/1000\n",
      "1875/1875 [==============================] - 3s 2ms/step - loss: 0.0714 - accuracy: 0.9732\n",
      "Epoch 71/1000\n",
      "1875/1875 [==============================] - 3s 2ms/step - loss: 0.0710 - accuracy: 0.9736\n",
      "Epoch 72/1000\n",
      "1875/1875 [==============================] - 3s 2ms/step - loss: 0.0687 - accuracy: 0.9748\n",
      "Epoch 73/1000\n",
      "1875/1875 [==============================] - 4s 2ms/step - loss: 0.0692 - accuracy: 0.9740\n",
      "Epoch 74/1000\n",
      "1875/1875 [==============================] - 3s 2ms/step - loss: 0.0707 - accuracy: 0.9740\n",
      "Epoch 75/1000\n",
      "1875/1875 [==============================] - 3s 2ms/step - loss: 0.0669 - accuracy: 0.9746\n",
      "Epoch 76/1000\n",
      "1875/1875 [==============================] - 3s 2ms/step - loss: 0.0677 - accuracy: 0.9748\n",
      "Epoch 77/1000\n",
      "1875/1875 [==============================] - 3s 2ms/step - loss: 0.0683 - accuracy: 0.9739\n",
      "Epoch 78/1000\n",
      "1875/1875 [==============================] - 3s 2ms/step - loss: 0.0640 - accuracy: 0.9754\n",
      "Epoch 79/1000\n",
      "1875/1875 [==============================] - 3s 2ms/step - loss: 0.0646 - accuracy: 0.9759\n",
      "Epoch 80/1000\n",
      "1875/1875 [==============================] - 3s 2ms/step - loss: 0.0637 - accuracy: 0.9759\n",
      "Epoch 81/1000\n",
      "1875/1875 [==============================] - 3s 2ms/step - loss: 0.0605 - accuracy: 0.9773\n",
      "Epoch 82/1000\n",
      "1875/1875 [==============================] - 4s 2ms/step - loss: 0.0653 - accuracy: 0.9764\n",
      "Epoch 83/1000\n",
      "1875/1875 [==============================] - 3s 2ms/step - loss: 0.0625 - accuracy: 0.9773\n",
      "Epoch 84/1000\n",
      "1875/1875 [==============================] - 3s 2ms/step - loss: 0.0589 - accuracy: 0.9773\n",
      "Epoch 85/1000\n",
      "1875/1875 [==============================] - 3s 2ms/step - loss: 0.0608 - accuracy: 0.9769\n",
      "Epoch 86/1000\n",
      "1875/1875 [==============================] - 4s 2ms/step - loss: 0.0584 - accuracy: 0.9778\n",
      "Epoch 87/1000\n",
      "1875/1875 [==============================] - 4s 2ms/step - loss: 0.0607 - accuracy: 0.9769\n",
      "Epoch 88/1000\n",
      "1875/1875 [==============================] - 4s 2ms/step - loss: 0.0560 - accuracy: 0.9787\n",
      "Epoch 89/1000\n",
      "1875/1875 [==============================] - 4s 2ms/step - loss: 0.0582 - accuracy: 0.9782\n",
      "Epoch 90/1000\n",
      "1875/1875 [==============================] - 4s 2ms/step - loss: 0.0580 - accuracy: 0.9782\n",
      "Epoch 91/1000\n",
      "1875/1875 [==============================] - 5s 3ms/step - loss: 0.0564 - accuracy: 0.9791\n",
      "Epoch 92/1000\n",
      "1875/1875 [==============================] - 3s 2ms/step - loss: 0.0545 - accuracy: 0.9798\n",
      "Epoch 93/1000\n",
      "1875/1875 [==============================] - 3s 2ms/step - loss: 0.0563 - accuracy: 0.9791\n",
      "Epoch 94/1000\n",
      "1875/1875 [==============================] - 3s 2ms/step - loss: 0.0540 - accuracy: 0.9802\n",
      "Epoch 95/1000\n",
      "1875/1875 [==============================] - 3s 2ms/step - loss: 0.0524 - accuracy: 0.9803\n",
      "Epoch 96/1000\n",
      "1875/1875 [==============================] - 3s 2ms/step - loss: 0.0576 - accuracy: 0.9800\n",
      "Epoch 97/1000\n",
      "1875/1875 [==============================] - 4s 2ms/step - loss: 0.0515 - accuracy: 0.9812\n",
      "Epoch 98/1000\n",
      "1875/1875 [==============================] - 4s 2ms/step - loss: 0.0533 - accuracy: 0.9805\n",
      "Epoch 99/1000\n",
      "1875/1875 [==============================] - 4s 2ms/step - loss: 0.0513 - accuracy: 0.9809\n",
      "Epoch 100/1000\n",
      "1875/1875 [==============================] - 4s 2ms/step - loss: 0.0524 - accuracy: 0.9807\n",
      "Epoch 101/1000\n",
      "1875/1875 [==============================] - 3s 2ms/step - loss: 0.0502 - accuracy: 0.9822\n",
      "Epoch 102/1000\n",
      "1875/1875 [==============================] - 3s 2ms/step - loss: 0.0516 - accuracy: 0.9809\n",
      "Epoch 103/1000\n",
      "1875/1875 [==============================] - 3s 2ms/step - loss: 0.0471 - accuracy: 0.9821\n",
      "Epoch 104/1000\n",
      "1875/1875 [==============================] - 3s 2ms/step - loss: 0.0532 - accuracy: 0.9804\n",
      "Epoch 105/1000\n",
      "1875/1875 [==============================] - 3s 2ms/step - loss: 0.0464 - accuracy: 0.9826\n",
      "Epoch 106/1000\n",
      "1875/1875 [==============================] - 4s 2ms/step - loss: 0.0467 - accuracy: 0.9823\n",
      "Epoch 107/1000\n",
      "1875/1875 [==============================] - 3s 2ms/step - loss: 0.0500 - accuracy: 0.9815\n",
      "Epoch 108/1000\n",
      "1875/1875 [==============================] - 3s 2ms/step - loss: 0.0468 - accuracy: 0.9823\n",
      "Epoch 109/1000\n",
      "1875/1875 [==============================] - 4s 2ms/step - loss: 0.0469 - accuracy: 0.9826\n",
      "Epoch 110/1000\n",
      "1875/1875 [==============================] - 3s 2ms/step - loss: 0.0441 - accuracy: 0.9834\n",
      "Epoch 111/1000\n",
      "1875/1875 [==============================] - 3s 2ms/step - loss: 0.0521 - accuracy: 0.9814\n",
      "Epoch 112/1000\n",
      "1875/1875 [==============================] - 3s 2ms/step - loss: 0.0436 - accuracy: 0.9836\n",
      "Epoch 113/1000\n",
      "1875/1875 [==============================] - 3s 2ms/step - loss: 0.0476 - accuracy: 0.9829\n",
      "Epoch 114/1000\n",
      "1875/1875 [==============================] - 3s 2ms/step - loss: 0.0452 - accuracy: 0.9835\n",
      "Epoch 115/1000\n",
      "1875/1875 [==============================] - 3s 2ms/step - loss: 0.0453 - accuracy: 0.9835\n",
      "Epoch 116/1000\n",
      "1875/1875 [==============================] - 3s 2ms/step - loss: 0.0469 - accuracy: 0.9829\n",
      "Epoch 117/1000\n",
      "1875/1875 [==============================] - 3s 2ms/step - loss: 0.0396 - accuracy: 0.9852\n",
      "Epoch 118/1000\n",
      "1875/1875 [==============================] - 3s 2ms/step - loss: 0.0450 - accuracy: 0.9835\n",
      "Epoch 119/1000\n",
      "1875/1875 [==============================] - 3s 2ms/step - loss: 0.0463 - accuracy: 0.9828\n",
      "Epoch 120/1000\n",
      "1875/1875 [==============================] - 3s 2ms/step - loss: 0.0454 - accuracy: 0.9835\n",
      "Epoch 121/1000\n",
      "1875/1875 [==============================] - 3s 2ms/step - loss: 0.0392 - accuracy: 0.9851\n",
      "Epoch 122/1000\n",
      "1875/1875 [==============================] - 3s 2ms/step - loss: 0.0421 - accuracy: 0.9845\n",
      "Epoch 123/1000\n",
      "1875/1875 [==============================] - 3s 2ms/step - loss: 0.0422 - accuracy: 0.9841\n",
      "Epoch 124/1000\n",
      "1875/1875 [==============================] - 3s 2ms/step - loss: 0.0414 - accuracy: 0.9851\n",
      "Epoch 125/1000\n",
      "1875/1875 [==============================] - 3s 2ms/step - loss: 0.0412 - accuracy: 0.9848\n",
      "Epoch 126/1000\n",
      "1875/1875 [==============================] - 3s 2ms/step - loss: 0.0408 - accuracy: 0.9848\n",
      "Epoch 127/1000\n",
      "1875/1875 [==============================] - 3s 2ms/step - loss: 0.0400 - accuracy: 0.9856\n",
      "Epoch 128/1000\n",
      "1875/1875 [==============================] - 3s 2ms/step - loss: 0.0405 - accuracy: 0.9847\n",
      "Epoch 129/1000\n",
      "1875/1875 [==============================] - 3s 2ms/step - loss: 0.0405 - accuracy: 0.9854\n",
      "Epoch 130/1000\n",
      "1875/1875 [==============================] - 3s 2ms/step - loss: 0.0392 - accuracy: 0.9861\n",
      "Epoch 131/1000\n",
      "1875/1875 [==============================] - 3s 2ms/step - loss: 0.0415 - accuracy: 0.9854\n",
      "Epoch 132/1000\n",
      "1875/1875 [==============================] - 3s 2ms/step - loss: 0.0359 - accuracy: 0.9875\n",
      "Epoch 133/1000\n",
      "1875/1875 [==============================] - 3s 2ms/step - loss: 0.0378 - accuracy: 0.9863\n",
      "Epoch 134/1000\n",
      "1875/1875 [==============================] - 3s 2ms/step - loss: 0.0383 - accuracy: 0.9857\n",
      "Epoch 135/1000\n",
      "1875/1875 [==============================] - 3s 2ms/step - loss: 0.0385 - accuracy: 0.9859\n",
      "Epoch 136/1000\n",
      "1875/1875 [==============================] - 3s 2ms/step - loss: 0.0348 - accuracy: 0.9867\n",
      "Epoch 137/1000\n",
      "1875/1875 [==============================] - 3s 2ms/step - loss: 0.0368 - accuracy: 0.9872\n",
      "Epoch 138/1000\n",
      "1875/1875 [==============================] - 3s 2ms/step - loss: 0.0399 - accuracy: 0.9855\n",
      "Epoch 139/1000\n",
      "1875/1875 [==============================] - 3s 2ms/step - loss: 0.0357 - accuracy: 0.9872\n",
      "Epoch 140/1000\n",
      "1875/1875 [==============================] - 3s 2ms/step - loss: 0.0355 - accuracy: 0.9867\n",
      "Epoch 141/1000\n",
      "1875/1875 [==============================] - 3s 2ms/step - loss: 0.0373 - accuracy: 0.9866\n",
      "Epoch 142/1000\n",
      "1875/1875 [==============================] - 3s 2ms/step - loss: 0.0357 - accuracy: 0.9865\n",
      "Epoch 143/1000\n",
      "1875/1875 [==============================] - 3s 2ms/step - loss: 0.0357 - accuracy: 0.9867\n",
      "Epoch 144/1000\n",
      "1875/1875 [==============================] - 3s 2ms/step - loss: 0.0350 - accuracy: 0.9869\n",
      "Epoch 145/1000\n",
      "1875/1875 [==============================] - 3s 2ms/step - loss: 0.0351 - accuracy: 0.9870\n",
      "Epoch 146/1000\n",
      "1875/1875 [==============================] - 3s 2ms/step - loss: 0.0349 - accuracy: 0.9877\n",
      "Epoch 147/1000\n",
      "1875/1875 [==============================] - 3s 2ms/step - loss: 0.0368 - accuracy: 0.9869\n",
      "Epoch 148/1000\n",
      "1875/1875 [==============================] - 3s 2ms/step - loss: 0.0338 - accuracy: 0.9878\n",
      "Epoch 149/1000\n",
      "1875/1875 [==============================] - 3s 2ms/step - loss: 0.0335 - accuracy: 0.9882\n",
      "Epoch 150/1000\n",
      "1875/1875 [==============================] - 3s 2ms/step - loss: 0.0381 - accuracy: 0.9865\n",
      "Epoch 151/1000\n",
      "1875/1875 [==============================] - 3s 2ms/step - loss: 0.0303 - accuracy: 0.9892\n",
      "Epoch 152/1000\n",
      "1875/1875 [==============================] - 3s 2ms/step - loss: 0.0348 - accuracy: 0.9875\n",
      "Epoch 153/1000\n",
      "1875/1875 [==============================] - 3s 2ms/step - loss: 0.0323 - accuracy: 0.9879\n",
      "Epoch 154/1000\n",
      "1875/1875 [==============================] - 3s 2ms/step - loss: 0.0328 - accuracy: 0.9877\n",
      "Epoch 155/1000\n",
      "1875/1875 [==============================] - 3s 2ms/step - loss: 0.0338 - accuracy: 0.9880\n",
      "Epoch 156/1000\n",
      "1875/1875 [==============================] - 3s 2ms/step - loss: 0.0320 - accuracy: 0.9884\n",
      "Epoch 157/1000\n",
      "1875/1875 [==============================] - 3s 2ms/step - loss: 0.0359 - accuracy: 0.9871\n",
      "Epoch 158/1000\n",
      "1875/1875 [==============================] - 4s 2ms/step - loss: 0.0289 - accuracy: 0.9893\n",
      "Epoch 159/1000\n",
      "1875/1875 [==============================] - 4s 2ms/step - loss: 0.0330 - accuracy: 0.9878\n",
      "Epoch 160/1000\n",
      "1875/1875 [==============================] - 3s 2ms/step - loss: 0.0296 - accuracy: 0.9889\n",
      "Epoch 161/1000\n",
      "1875/1875 [==============================] - 3s 2ms/step - loss: 0.0344 - accuracy: 0.9881\n",
      "Epoch 162/1000\n",
      "1875/1875 [==============================] - 3s 2ms/step - loss: 0.0321 - accuracy: 0.9888\n",
      "Epoch 163/1000\n",
      "1875/1875 [==============================] - 3s 2ms/step - loss: 0.0303 - accuracy: 0.9888\n",
      "Epoch 164/1000\n",
      "1875/1875 [==============================] - 3s 2ms/step - loss: 0.0315 - accuracy: 0.9885\n",
      "Epoch 165/1000\n",
      "1875/1875 [==============================] - 3s 2ms/step - loss: 0.0346 - accuracy: 0.9876\n",
      "Epoch 166/1000\n",
      "1875/1875 [==============================] - 3s 2ms/step - loss: 0.0273 - accuracy: 0.9900\n",
      "Epoch 167/1000\n",
      "1875/1875 [==============================] - 3s 2ms/step - loss: 0.0321 - accuracy: 0.9887\n",
      "Epoch 168/1000\n",
      "1875/1875 [==============================] - 3s 2ms/step - loss: 0.0314 - accuracy: 0.9881\n",
      "Epoch 169/1000\n",
      "1875/1875 [==============================] - 3s 2ms/step - loss: 0.0271 - accuracy: 0.9898\n",
      "Epoch 170/1000\n",
      "1875/1875 [==============================] - 3s 2ms/step - loss: 0.0335 - accuracy: 0.9879\n",
      "Epoch 171/1000\n",
      "1875/1875 [==============================] - 3s 2ms/step - loss: 0.0289 - accuracy: 0.9897\n",
      "Epoch 172/1000\n",
      "1875/1875 [==============================] - 3s 2ms/step - loss: 0.0294 - accuracy: 0.9893\n",
      "Epoch 173/1000\n",
      "1875/1875 [==============================] - 3s 2ms/step - loss: 0.0287 - accuracy: 0.9896\n",
      "Epoch 174/1000\n",
      "1875/1875 [==============================] - 3s 2ms/step - loss: 0.0304 - accuracy: 0.9894\n",
      "Epoch 175/1000\n",
      "1875/1875 [==============================] - 3s 2ms/step - loss: 0.0304 - accuracy: 0.9891\n",
      "Epoch 176/1000\n",
      "1875/1875 [==============================] - 3s 2ms/step - loss: 0.0298 - accuracy: 0.9894\n",
      "Epoch 177/1000\n",
      "1857/1875 [============================>.] - ETA: 0s - loss: 0.0274 - accuracy: 0.9902Loss reached 0.1 threshold, so ending\n",
      "1875/1875 [==============================] - 3s 2ms/step - loss: 0.0274 - accuracy: 0.9902\n"
     ]
    },
    {
     "data": {
      "text/plain": [
       "<tensorflow.python.keras.callbacks.History at 0x7f53bc8b5040>"
      ]
     },
     "execution_count": 16,
     "metadata": {},
     "output_type": "execute_result"
    }
   ],
   "source": [
    "model2.fit(train_x_normalized, train_label, epochs=1000, callbacks=[accuracy_callback])"
   ]
  },
  {
   "cell_type": "code",
   "execution_count": null,
   "metadata": {},
   "outputs": [],
   "source": []
  }
 ],
 "metadata": {
  "kernelspec": {
   "display_name": "Python 3",
   "language": "python",
   "name": "python3"
  },
  "language_info": {
   "codemirror_mode": {
    "name": "ipython",
    "version": 3
   },
   "file_extension": ".py",
   "mimetype": "text/x-python",
   "name": "python",
   "nbconvert_exporter": "python",
   "pygments_lexer": "ipython3",
   "version": "3.8.3"
  }
 },
 "nbformat": 4,
 "nbformat_minor": 4
}
