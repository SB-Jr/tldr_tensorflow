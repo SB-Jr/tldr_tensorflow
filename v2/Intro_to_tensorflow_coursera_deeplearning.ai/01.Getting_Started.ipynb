{
 "cells": [
  {
   "cell_type": "markdown",
   "metadata": {},
   "source": [
    "# Getting Started"
   ]
  },
  {
   "cell_type": "markdown",
   "metadata": {},
   "source": [
    "Lets say we have the data as follows:\n",
    "X = -1, 0, 1, 2, 3, 4\n",
    "Y = -3, -1, 1, 3, 5, 7\n",
    "\n",
    "\n",
    "We can create a neural network with just 1 node to understand the pattern shown here.\n",
    "Basically the realtion we have to learn here is \n",
    "$$Y = 2X - 1$$"
   ]
  },
  {
   "cell_type": "markdown",
   "metadata": {},
   "source": [
    "## Single Neuron"
   ]
  },
  {
   "cell_type": "markdown",
   "metadata": {},
   "source": [
    "For creating this neuron we will use the the Sequential API and the Dense API from Keras.\n",
    "\n",
    "The Sequential API helps us create a model and the Dense API helps us to create a node inside the model."
   ]
  },
  {
   "cell_type": "markdown",
   "metadata": {},
   "source": [
    "### Imports"
   ]
  },
  {
   "cell_type": "code",
   "execution_count": 6,
   "metadata": {
    "execution": {
     "iopub.execute_input": "2020-10-11T08:20:51.541223Z",
     "iopub.status.busy": "2020-10-11T08:20:51.540715Z",
     "iopub.status.idle": "2020-10-11T08:20:51.545552Z",
     "shell.execute_reply": "2020-10-11T08:20:51.544555Z",
     "shell.execute_reply.started": "2020-10-11T08:20:51.541171Z"
    }
   },
   "outputs": [],
   "source": [
    "from tensorflow.keras.models import Sequential\n",
    "from tensorflow.keras.layers import Dense\n",
    "import numpy as np"
   ]
  },
  {
   "cell_type": "markdown",
   "metadata": {},
   "source": [
    "### Model Creation"
   ]
  },
  {
   "cell_type": "code",
   "execution_count": 26,
   "metadata": {
    "execution": {
     "iopub.execute_input": "2020-10-11T08:24:18.532587Z",
     "iopub.status.busy": "2020-10-11T08:24:18.532349Z",
     "iopub.status.idle": "2020-10-11T08:24:18.556269Z",
     "shell.execute_reply": "2020-10-11T08:24:18.555558Z",
     "shell.execute_reply.started": "2020-10-11T08:24:18.532560Z"
    }
   },
   "outputs": [],
   "source": [
    "model = Sequential([Dense(units=1, input_shape=[1])])\n",
    "model.compile(optimizer='sgd', loss='mean_squared_error')"
   ]
  },
  {
   "cell_type": "markdown",
   "metadata": {},
   "source": [
    "### Representing the data using numpy as input"
   ]
  },
  {
   "cell_type": "code",
   "execution_count": 4,
   "metadata": {
    "execution": {
     "iopub.execute_input": "2020-10-11T08:13:41.345856Z",
     "iopub.status.busy": "2020-10-11T08:13:41.345614Z",
     "iopub.status.idle": "2020-10-11T08:13:41.349520Z",
     "shell.execute_reply": "2020-10-11T08:13:41.348799Z",
     "shell.execute_reply.started": "2020-10-11T08:13:41.345828Z"
    }
   },
   "outputs": [],
   "source": [
    "X = [-1, 0, 1, 2, 3, 4]"
   ]
  },
  {
   "cell_type": "code",
   "execution_count": 8,
   "metadata": {
    "execution": {
     "iopub.execute_input": "2020-10-11T08:21:45.676023Z",
     "iopub.status.busy": "2020-10-11T08:21:45.675788Z",
     "iopub.status.idle": "2020-10-11T08:21:45.679157Z",
     "shell.execute_reply": "2020-10-11T08:21:45.678480Z",
     "shell.execute_reply.started": "2020-10-11T08:21:45.675998Z"
    }
   },
   "outputs": [],
   "source": [
    "Y = [-3, -1, 1, 3, 5, 7]"
   ]
  },
  {
   "cell_type": "code",
   "execution_count": 9,
   "metadata": {
    "execution": {
     "iopub.execute_input": "2020-10-11T08:21:47.956177Z",
     "iopub.status.busy": "2020-10-11T08:21:47.955946Z",
     "iopub.status.idle": "2020-10-11T08:21:47.959774Z",
     "shell.execute_reply": "2020-10-11T08:21:47.959021Z",
     "shell.execute_reply.started": "2020-10-11T08:21:47.956151Z"
    }
   },
   "outputs": [],
   "source": [
    "x_data = np.array(X, dtype=float)\n",
    "y_data = np.array(Y, dtype=float)"
   ]
  },
  {
   "cell_type": "markdown",
   "metadata": {},
   "source": [
    "### Training the model"
   ]
  },
  {
   "cell_type": "code",
   "execution_count": null,
   "metadata": {},
   "outputs": [],
   "source": [
    "model.fit(x_data, y_data, epochs=1000, verbose=0)"
   ]
  },
  {
   "cell_type": "markdown",
   "metadata": {
    "execution": {
     "iopub.execute_input": "2020-10-11T08:24:21.592406Z",
     "iopub.status.busy": "2020-10-11T08:24:21.592039Z",
     "iopub.status.idle": "2020-10-11T08:24:23.499766Z",
     "shell.execute_reply": "2020-10-11T08:24:23.499135Z",
     "shell.execute_reply.started": "2020-10-11T08:24:21.592363Z"
    }
   },
   "source": [
    "### Predicting result using the trainined model"
   ]
  },
  {
   "cell_type": "code",
   "execution_count": 28,
   "metadata": {
    "execution": {
     "iopub.execute_input": "2020-10-11T08:24:24.589649Z",
     "iopub.status.busy": "2020-10-11T08:24:24.589275Z",
     "iopub.status.idle": "2020-10-11T08:24:24.644646Z",
     "shell.execute_reply": "2020-10-11T08:24:24.643804Z",
     "shell.execute_reply.started": "2020-10-11T08:24:24.589603Z"
    }
   },
   "outputs": [
    {
     "data": {
      "text/plain": [
       "array([[8.999963]], dtype=float32)"
      ]
     },
     "execution_count": 28,
     "metadata": {},
     "output_type": "execute_result"
    }
   ],
   "source": [
    "model.predict([5])"
   ]
  }
 ],
 "metadata": {
  "kernelspec": {
   "display_name": "Python 3",
   "language": "python",
   "name": "python3"
  },
  "language_info": {
   "codemirror_mode": {
    "name": "ipython",
    "version": 3
   },
   "file_extension": ".py",
   "mimetype": "text/x-python",
   "name": "python",
   "nbconvert_exporter": "python",
   "pygments_lexer": "ipython3",
   "version": "3.8.3"
  }
 },
 "nbformat": 4,
 "nbformat_minor": 4
}
