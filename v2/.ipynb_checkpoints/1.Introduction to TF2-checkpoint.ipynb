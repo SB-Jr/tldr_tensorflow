{
 "cells": [
  {
   "cell_type": "markdown",
   "metadata": {
    "toc": true
   },
   "source": [
    "<h1>Table of Contents<span class=\"tocSkip\"></span></h1>\n",
    "<div class=\"toc\"><ul class=\"toc-item\"><li><span><a href=\"#Introduction\" data-toc-modified-id=\"Introduction-1\"><span class=\"toc-item-num\">1&nbsp;&nbsp;</span>Introduction</a></span><ul class=\"toc-item\"><li><span><a href=\"#TensorFlow-2.0-alleviates-some-of-the-difficulty-because-it-comes-with-Eager-Execution-by-default.\" data-toc-modified-id=\"TensorFlow-2.0-alleviates-some-of-the-difficulty-because-it-comes-with-Eager-Execution-by-default.-1.1\"><span class=\"toc-item-num\">1.1&nbsp;&nbsp;</span>TensorFlow 2.0 alleviates some of the difficulty because it comes with Eager Execution by default.</a></span></li></ul></li><li><span><a href=\"#Life-Cycle-of-Deep-learning-model\" data-toc-modified-id=\"Life-Cycle-of-Deep-learning-model-2\"><span class=\"toc-item-num\">2&nbsp;&nbsp;</span>Life Cycle of Deep learning model</a></span><ul class=\"toc-item\"><li><span><a href=\"#Defining-the-model\" data-toc-modified-id=\"Defining-the-model-2.1\"><span class=\"toc-item-num\">2.1&nbsp;&nbsp;</span>Defining the model</a></span></li><li><span><a href=\"#Compile-the-model\" data-toc-modified-id=\"Compile-the-model-2.2\"><span class=\"toc-item-num\">2.2&nbsp;&nbsp;</span>Compile the model</a></span></li><li><span><a href=\"#Fit-the-model\" data-toc-modified-id=\"Fit-the-model-2.3\"><span class=\"toc-item-num\">2.3&nbsp;&nbsp;</span>Fit the model</a></span></li><li><span><a href=\"#Evaluate-the-model\" data-toc-modified-id=\"Evaluate-the-model-2.4\"><span class=\"toc-item-num\">2.4&nbsp;&nbsp;</span>Evaluate the model</a></span></li><li><span><a href=\"#Prediction\" data-toc-modified-id=\"Prediction-2.5\"><span class=\"toc-item-num\">2.5&nbsp;&nbsp;</span>Prediction</a></span></li><li><span><a href=\"#Sequential-Example\" data-toc-modified-id=\"Sequential-Example-2.6\"><span class=\"toc-item-num\">2.6&nbsp;&nbsp;</span>Sequential Example</a></span><ul class=\"toc-item\"><li><span><a href=\"#Importing\" data-toc-modified-id=\"Importing-2.6.1\"><span class=\"toc-item-num\">2.6.1&nbsp;&nbsp;</span>Importing</a></span></li></ul></li></ul></li></ul></div>"
   ]
  },
  {
   "cell_type": "markdown",
   "metadata": {},
   "source": [
    "# Introduction\n",
    "\n",
    "To run any operation in TensorFlow 1.x, it needs to run this in a session. A session represents the environment in which the objects are executed. Note that the value of any operation is never stored in the Python variable. The Python variable is just a reference to the TensorFlow graph. And the session holds the values of elements in the graph."
   ]
  },
  {
   "cell_type": "markdown",
   "metadata": {},
   "source": [
    "<h2>TensorFlow 2.0 alleviates some of the difficulty because it comes with Eager Execution by default.</h2>"
   ]
  },
  {
   "cell_type": "markdown",
   "metadata": {},
   "source": [
    "With Eager Execution, TensorFlow will calculate the values of tensors as they occur in your code.\n",
    "\n",
    "TensorFlow has decided to include Keras inside itself as tf.keras. When Google announced TensorFlow 2.0, they declared that Keras is now the official high-level API of TensorFlow for quick and easy model design and training."
   ]
  },
  {
   "cell_type": "markdown",
   "metadata": {},
   "source": [
    "# Life Cycle of Deep learning model"
   ]
  },
  {
   "cell_type": "markdown",
   "metadata": {},
   "source": [
    "The five steps in the life-cycle are as follows:\n",
    "\n",
    "- Define the model.\n",
    "- Compile the model.\n",
    "- Fit the model.\n",
    "- Evaluate the model.\n",
    "- Make predictions."
   ]
  },
  {
   "cell_type": "markdown",
   "metadata": {},
   "source": [
    "## Defining the model"
   ]
  },
  {
   "cell_type": "markdown",
   "metadata": {},
   "source": [
    "From an API perspective, this involves defining the layers of the model, configuring each layer with a number of nodes and activation function, and connecting the layers together into a cohesive model.\n",
    "\n",
    "Models can be defined either with the Sequential API or the Functional API."
   ]
  },
  {
   "cell_type": "markdown",
   "metadata": {},
   "source": [
    "## Compile the model"
   ]
  },
  {
   "cell_type": "markdown",
   "metadata": {},
   "source": [
    "Compiling the model requires that you first select a loss function that you want to optimize, such as mean squared error or cross-entropy. It also requires that you select an algorithm to perform the optimization procedure, typically stochastic gradient descent, or a modern variation, such as Adam. It may also require that you select any performance metrics to keep track of during the model training process."
   ]
  },
  {
   "cell_type": "markdown",
   "metadata": {},
   "source": [
    "The optimizer can be specified as a string for a known optimizer class, e.g. ‘sgd‘ for stochastic gradient descent, or you can configure an instance of an optimizer class and use that."
   ]
  },
  {
   "cell_type": "markdown",
   "metadata": {},
   "source": [
    "Metrics are defined as a list of strings for known metric functions or a list of functions to call to evaluate predictions."
   ]
  },
  {
   "cell_type": "markdown",
   "metadata": {},
   "source": [
    "## Fit the model"
   ]
  },
  {
   "cell_type": "markdown",
   "metadata": {},
   "source": [
    "Fitting the model requires that you first select the training configuration, such as the number of epochs (loops through the training dataset) and the batch size (number of samples in an epoch used to estimate model error).\n",
    "\n",
    "Training applies the chosen optimization algorithm to minimize the chosen loss function and updates the model using the backpropagation of error algorithm."
   ]
  },
  {
   "cell_type": "markdown",
   "metadata": {},
   "source": [
    "## Evaluate the model"
   ]
  },
  {
   "cell_type": "markdown",
   "metadata": {},
   "source": [
    "From an API perspective, this involves calling a function with the holdout dataset and getting a loss and perhaps other metrics that can be reported."
   ]
  },
  {
   "cell_type": "markdown",
   "metadata": {},
   "source": [
    "## Prediction"
   ]
  },
  {
   "cell_type": "markdown",
   "metadata": {},
   "source": [
    "It requires you have new data for which a prediction is required, e.g. where you do not have the target values.\n",
    "\n",
    "From an API perspective, you simply call a function to make a prediction of a class label, probability, or numerical value: whatever you designed your model to predict."
   ]
  }
 ],
 "metadata": {
  "kernelspec": {
   "display_name": "Python 3",
   "language": "python",
   "name": "python3"
  },
  "language_info": {
   "codemirror_mode": {
    "name": "ipython",
    "version": 3
   },
   "file_extension": ".py",
   "mimetype": "text/x-python",
   "name": "python",
   "nbconvert_exporter": "python",
   "pygments_lexer": "ipython3",
   "version": "3.7.6"
  },
  "toc": {
   "base_numbering": 1,
   "nav_menu": {},
   "number_sections": true,
   "sideBar": true,
   "skip_h1_title": false,
   "title_cell": "Table of Contents",
   "title_sidebar": "Contents",
   "toc_cell": true,
   "toc_position": {},
   "toc_section_display": true,
   "toc_window_display": true
  },
  "varInspector": {
   "cols": {
    "lenName": 16,
    "lenType": 16,
    "lenVar": 40
   },
   "kernels_config": {
    "python": {
     "delete_cmd_postfix": "",
     "delete_cmd_prefix": "del ",
     "library": "var_list.py",
     "varRefreshCmd": "print(var_dic_list())"
    },
    "r": {
     "delete_cmd_postfix": ") ",
     "delete_cmd_prefix": "rm(",
     "library": "var_list.r",
     "varRefreshCmd": "cat(var_dic_list()) "
    }
   },
   "types_to_exclude": [
    "module",
    "function",
    "builtin_function_or_method",
    "instance",
    "_Feature"
   ],
   "window_display": false
  }
 },
 "nbformat": 4,
 "nbformat_minor": 4
}
