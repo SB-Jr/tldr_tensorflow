{
 "cells": [
  {
   "cell_type": "markdown",
   "metadata": {},
   "source": [
    "# Some Helpful Features\n",
    "\n",
    "\n",
    "- Visualizing images/dataset\n",
    "- Genearating visual cue for updates nd visualizing them in tensorboard"
   ]
  },
  {
   "cell_type": "code",
   "execution_count": 41,
   "metadata": {
    "execution": {
     "iopub.execute_input": "2021-01-11T15:52:22.011070Z",
     "iopub.status.busy": "2021-01-11T15:52:22.010427Z",
     "iopub.status.idle": "2021-01-11T15:52:22.067310Z",
     "shell.execute_reply": "2021-01-11T15:52:22.065186Z",
     "shell.execute_reply.started": "2021-01-11T15:52:22.010994Z"
    }
   },
   "outputs": [],
   "source": [
    "import tensorflow as tf\n",
    "import numpy as np\n",
    "import io\n",
    "import matplotlib.pyplot as plt\n",
    "import sklearn.metrics"
   ]
  },
  {
   "cell_type": "code",
   "execution_count": 2,
   "metadata": {
    "execution": {
     "iopub.execute_input": "2021-01-11T14:59:06.817995Z",
     "iopub.status.busy": "2021-01-11T14:59:06.817377Z",
     "iopub.status.idle": "2021-01-11T14:59:07.428734Z",
     "shell.execute_reply": "2021-01-11T14:59:07.428050Z",
     "shell.execute_reply.started": "2021-01-11T14:59:06.817926Z"
    }
   },
   "outputs": [],
   "source": [
    "fashion_mnist = tf.keras.datasets.fashion_mnist.load_data()"
   ]
  },
  {
   "cell_type": "code",
   "execution_count": 3,
   "metadata": {
    "execution": {
     "iopub.execute_input": "2021-01-11T14:59:07.813903Z",
     "iopub.status.busy": "2021-01-11T14:59:07.813278Z",
     "iopub.status.idle": "2021-01-11T14:59:07.822652Z",
     "shell.execute_reply": "2021-01-11T14:59:07.820372Z",
     "shell.execute_reply.started": "2021-01-11T14:59:07.813834Z"
    }
   },
   "outputs": [],
   "source": [
    "class_names = ['T-shirt/top', 'Trouser', 'Pullover', 'Dress', 'Coat', 'Sandal', 'Shirt', 'Sneaker', 'Bag', 'Ankle boot']"
   ]
  },
  {
   "cell_type": "code",
   "execution_count": 4,
   "metadata": {
    "execution": {
     "iopub.execute_input": "2021-01-11T14:59:08.470327Z",
     "iopub.status.busy": "2021-01-11T14:59:08.469719Z",
     "iopub.status.idle": "2021-01-11T14:59:08.478391Z",
     "shell.execute_reply": "2021-01-11T14:59:08.476256Z",
     "shell.execute_reply.started": "2021-01-11T14:59:08.470257Z"
    }
   },
   "outputs": [],
   "source": [
    "(train_x, train_y), (validation_x, validation_y) = fashion_mnist"
   ]
  },
  {
   "cell_type": "code",
   "execution_count": 5,
   "metadata": {
    "execution": {
     "iopub.execute_input": "2021-01-11T14:59:09.490707Z",
     "iopub.status.busy": "2021-01-11T14:59:09.490013Z",
     "iopub.status.idle": "2021-01-11T14:59:09.523022Z",
     "shell.execute_reply": "2021-01-11T14:59:09.520347Z",
     "shell.execute_reply.started": "2021-01-11T14:59:09.490603Z"
    }
   },
   "outputs": [
    {
     "data": {
      "text/plain": [
       "(60000, 28, 28)"
      ]
     },
     "execution_count": 5,
     "metadata": {},
     "output_type": "execute_result"
    }
   ],
   "source": [
    "train_x.shape"
   ]
  },
  {
   "cell_type": "markdown",
   "metadata": {},
   "source": [
    "## Single Image Import"
   ]
  },
  {
   "cell_type": "code",
   "execution_count": 6,
   "metadata": {
    "execution": {
     "iopub.execute_input": "2021-01-11T14:59:10.797612Z",
     "iopub.status.busy": "2021-01-11T14:59:10.796663Z",
     "iopub.status.idle": "2021-01-11T14:59:10.960631Z",
     "shell.execute_reply": "2021-01-11T14:59:10.957837Z",
     "shell.execute_reply.started": "2021-01-11T14:59:10.797533Z"
    }
   },
   "outputs": [],
   "source": [
    "!rm -rf logs"
   ]
  },
  {
   "cell_type": "code",
   "execution_count": 7,
   "metadata": {
    "execution": {
     "iopub.execute_input": "2021-01-11T14:59:11.664844Z",
     "iopub.status.busy": "2021-01-11T14:59:11.664145Z",
     "iopub.status.idle": "2021-01-11T14:59:12.641360Z",
     "shell.execute_reply": "2021-01-11T14:59:12.640664Z",
     "shell.execute_reply.started": "2021-01-11T14:59:11.664759Z"
    }
   },
   "outputs": [],
   "source": [
    "logdir = 'logs'\n",
    "file_writer = tf.summary.create_file_writer(logdir)\n",
    "\n",
    "with file_writer.as_default():\n",
    "    img = np.reshape(train_x[0], (-1, 28,28, 1))\n",
    "    tf.summary.image(\"training data\", img, step=0)"
   ]
  },
  {
   "cell_type": "code",
   "execution_count": 8,
   "metadata": {
    "execution": {
     "iopub.execute_input": "2021-01-11T14:59:13.195226Z",
     "iopub.status.busy": "2021-01-11T14:59:13.194582Z",
     "iopub.status.idle": "2021-01-11T14:59:13.207593Z",
     "shell.execute_reply": "2021-01-11T14:59:13.204454Z",
     "shell.execute_reply.started": "2021-01-11T14:59:13.195151Z"
    }
   },
   "outputs": [
    {
     "name": "stderr",
     "output_type": "stream",
     "text": [
      "UsageError: Line magic function `%tensorboard` not found.\n"
     ]
    }
   ],
   "source": [
    "%tensorboard --logdir logs"
   ]
  },
  {
   "cell_type": "markdown",
   "metadata": {},
   "source": [
    "## Multiple image import"
   ]
  },
  {
   "cell_type": "code",
   "execution_count": 14,
   "metadata": {
    "execution": {
     "iopub.execute_input": "2021-01-11T15:20:08.043920Z",
     "iopub.status.busy": "2021-01-11T15:20:08.042901Z",
     "iopub.status.idle": "2021-01-11T15:20:08.146654Z",
     "shell.execute_reply": "2021-01-11T15:20:08.144790Z",
     "shell.execute_reply.started": "2021-01-11T15:20:08.043775Z"
    }
   },
   "outputs": [],
   "source": [
    "with file_writer.as_default():\n",
    "    imgs = np.reshape(train_x[:50], (-1, 28, 28, 1))\n",
    "    tf.summary.image('50 training data', imgs, max_outputs=50, step=0)"
   ]
  },
  {
   "cell_type": "markdown",
   "metadata": {},
   "source": [
    "## Custom image data\n",
    "\n"
   ]
  },
  {
   "cell_type": "code",
   "execution_count": 25,
   "metadata": {
    "execution": {
     "iopub.execute_input": "2021-01-11T15:30:44.814636Z",
     "iopub.status.busy": "2021-01-11T15:30:44.813986Z",
     "iopub.status.idle": "2021-01-11T15:30:44.826308Z",
     "shell.execute_reply": "2021-01-11T15:30:44.824266Z",
     "shell.execute_reply.started": "2021-01-11T15:30:44.814562Z"
    }
   },
   "outputs": [],
   "source": [
    "def plot_to_image(figure):\n",
    "    '''Converts the matplotlib plot to PNG dat'''\n",
    "    # save the plot as png\n",
    "    buf = io.BytesIO()\n",
    "    figure.savefig(buf, format='png')\n",
    "    # close the figure\n",
    "    plt.close(figure)\n",
    "    buf.seek(0)\n",
    "    # convert PNG buffer to TF image\n",
    "    image = tf.image.decode_png(buf.getvalue(), channels=4)\n",
    "    #add the batch dimension\n",
    "    image = tf.expand_dims(image, 0)\n",
    "    return image"
   ]
  },
  {
   "cell_type": "code",
   "execution_count": 26,
   "metadata": {
    "execution": {
     "iopub.execute_input": "2021-01-11T15:30:45.620766Z",
     "iopub.status.busy": "2021-01-11T15:30:45.620400Z",
     "iopub.status.idle": "2021-01-11T15:30:46.491478Z",
     "shell.execute_reply": "2021-01-11T15:30:46.490751Z",
     "shell.execute_reply.started": "2021-01-11T15:30:45.620725Z"
    }
   },
   "outputs": [
    {
     "data": {
      "image/png": "[encoded data removed]",
      "text/plain": [
       "<Figure size 720x720 with 25 Axes>"
      ]
     },
     "metadata": {},
     "output_type": "display_data"
    }
   ],
   "source": [
    "figure = plt.figure(figsize=(10,10))\n",
    "for i in range(25):\n",
    "    plt.subplot(5, 5, i+1, title=class_names[train_y[i]])\n",
    "    plt.xticks([])\n",
    "    plt.yticks([])\n",
    "    plt.grid(False)\n",
    "    plt.imshow(train_x[i], cmap=plt.cm.binary)"
   ]
  },
  {
   "cell_type": "code",
   "execution_count": 28,
   "metadata": {
    "execution": {
     "iopub.execute_input": "2021-01-11T15:31:03.865530Z",
     "iopub.status.busy": "2021-01-11T15:31:03.864880Z",
     "iopub.status.idle": "2021-01-11T15:31:04.219972Z",
     "shell.execute_reply": "2021-01-11T15:31:04.219364Z",
     "shell.execute_reply.started": "2021-01-11T15:31:03.865455Z"
    }
   },
   "outputs": [],
   "source": [
    "with file_writer.as_default():\n",
    "    tf.summary.image('Custom Image 2', plot_to_image(figure), step=0)"
   ]
  },
  {
   "cell_type": "markdown",
   "metadata": {},
   "source": [
    "## Visualizing training properly"
   ]
  },
  {
   "cell_type": "code",
   "execution_count": 29,
   "metadata": {
    "execution": {
     "iopub.execute_input": "2021-01-11T15:33:16.891293Z",
     "iopub.status.busy": "2021-01-11T15:33:16.890660Z",
     "iopub.status.idle": "2021-01-11T15:33:17.051033Z",
     "shell.execute_reply": "2021-01-11T15:33:17.048389Z",
     "shell.execute_reply.started": "2021-01-11T15:33:16.891220Z"
    }
   },
   "outputs": [],
   "source": [
    "model = tf.keras.Sequential([\n",
    "    tf.keras.layers.Flatten(input_shape=(28, 28)),\n",
    "    tf.keras.layers.Dense(512, activation='relu'),\n",
    "    tf.keras.layers.Dense(10, activation='softmax')\n",
    "])"
   ]
  },
  {
   "cell_type": "code",
   "execution_count": 30,
   "metadata": {
    "execution": {
     "iopub.execute_input": "2021-01-11T15:33:43.222061Z",
     "iopub.status.busy": "2021-01-11T15:33:43.221479Z",
     "iopub.status.idle": "2021-01-11T15:33:43.274611Z",
     "shell.execute_reply": "2021-01-11T15:33:43.272660Z",
     "shell.execute_reply.started": "2021-01-11T15:33:43.221994Z"
    }
   },
   "outputs": [],
   "source": [
    "model.compile('adam', 'sparse_categorical_crossentropy', metrics=['accuracy'])"
   ]
  },
  {
   "cell_type": "markdown",
   "metadata": {},
   "source": [
    "### Using Confusion Matrix to visualize model"
   ]
  },
  {
   "cell_type": "code",
   "execution_count": 44,
   "metadata": {
    "execution": {
     "iopub.execute_input": "2021-01-11T15:52:51.101519Z",
     "iopub.status.busy": "2021-01-11T15:52:51.100824Z",
     "iopub.status.idle": "2021-01-11T15:52:51.117047Z",
     "shell.execute_reply": "2021-01-11T15:52:51.113973Z",
     "shell.execute_reply.started": "2021-01-11T15:52:51.101407Z"
    }
   },
   "outputs": [],
   "source": [
    "def plt_confusion_matrix(cm, class_names):\n",
    "    '''\n",
    "    Creates the matplotlib figure to visualize a confusion matrix of the model predictions\n",
    "    \n",
    "    Args:\n",
    "        cm(array, shape=[n, n])\n",
    "    '''\n",
    "    # plot the confusion matrix\n",
    "    figure = plt.figure(figsize=(10,10))\n",
    "    plt.imshow(cm, cmap=plt.cm.Blues)\n",
    "    plt.title(\"Confusion Matrix\")\n",
    "    plt.colorbar()\n",
    "    tick_marks = np.arange(len(class_names))\n",
    "    plt.xticks(tick_marks, class_names)\n",
    "    plt.yticks(tick_marks, class_names)\n",
    "    \n",
    "    \n",
    "    # use white text if square is dark else black\n",
    "    \n",
    "    plt.tight_layout()\n",
    "    plt.ylabel('True Label')\n",
    "    plt.xlabel('Predicted Label')\n",
    "    \n",
    "    return figure"
   ]
  },
  {
   "cell_type": "code",
   "execution_count": 33,
   "metadata": {
    "execution": {
     "iopub.execute_input": "2021-01-11T15:40:40.160304Z",
     "iopub.status.busy": "2021-01-11T15:40:40.159646Z",
     "iopub.status.idle": "2021-01-11T15:40:40.481160Z",
     "shell.execute_reply": "2021-01-11T15:40:40.480128Z",
     "shell.execute_reply.started": "2021-01-11T15:40:40.160227Z"
    }
   },
   "outputs": [],
   "source": [
    "tensorboard_callback = tf.keras.callbacks.TensorBoard(logdir)\n",
    "file_writer_cm = tf.summary.create_file_writer(logdir + '/cm')"
   ]
  },
  {
   "cell_type": "code",
   "execution_count": 46,
   "metadata": {
    "execution": {
     "iopub.execute_input": "2021-01-11T15:53:08.179185Z",
     "iopub.status.busy": "2021-01-11T15:53:08.178576Z",
     "iopub.status.idle": "2021-01-11T15:53:08.197127Z",
     "shell.execute_reply": "2021-01-11T15:53:08.194472Z",
     "shell.execute_reply.started": "2021-01-11T15:53:08.179113Z"
    }
   },
   "outputs": [],
   "source": [
    "def log_confusion_matrix(epoch, logs):\n",
    "    '''Custom callback function'''\n",
    "    # get the prediction data\n",
    "    test_pred_raw = model.predict(validation_x)\n",
    "    test_pred = np.argmax(test_pred_raw, axis=1)\n",
    "    \n",
    "    #calculate the confusion matrix\n",
    "    cm = sklearn.metrics.confusion_matrix(validation_y, test_pred)\n",
    "    figure = plt_confusion_matrix(cm, class_names)\n",
    "    cm_image = plot_to_image(figure)\n",
    "    \n",
    "    with file_writer_cm.as_default():\n",
    "        tf.summary.image('Confusion Matrix', cm_image, step=epoch)\n",
    "\n",
    "cm_callback = tf.keras.callbacks.LambdaCallback(on_epoch_end=log_confusion_matrix)"
   ]
  },
  {
   "cell_type": "code",
   "execution_count": 47,
   "metadata": {
    "execution": {
     "iopub.execute_input": "2021-01-11T15:53:09.144783Z",
     "iopub.status.busy": "2021-01-11T15:53:09.144007Z",
     "iopub.status.idle": "2021-01-11T15:54:29.541694Z",
     "shell.execute_reply": "2021-01-11T15:54:29.541041Z",
     "shell.execute_reply.started": "2021-01-11T15:53:09.144704Z"
    }
   },
   "outputs": [
    {
     "name": "stdout",
     "output_type": "stream",
     "text": [
      "Epoch 1/10\n",
      "1875/1875 [==============================] - 8s 5ms/step - loss: 0.4754 - accuracy: 0.8389 - val_loss: 0.5947 - val_accuracy: 0.8016\n",
      "Epoch 2/10\n",
      "1875/1875 [==============================] - 6s 3ms/step - loss: 0.4654 - accuracy: 0.8436 - val_loss: 0.5973 - val_accuracy: 0.8246\n",
      "Epoch 3/10\n",
      "1875/1875 [==============================] - 7s 3ms/step - loss: 0.4662 - accuracy: 0.8431 - val_loss: 0.5275 - val_accuracy: 0.8369\n",
      "Epoch 4/10\n",
      "1875/1875 [==============================] - 7s 4ms/step - loss: 0.4645 - accuracy: 0.8441 - val_loss: 0.5169 - val_accuracy: 0.8378\n",
      "Epoch 5/10\n",
      "1875/1875 [==============================] - 7s 4ms/step - loss: 0.4442 - accuracy: 0.8507 - val_loss: 0.5159 - val_accuracy: 0.8396\n",
      "Epoch 6/10\n",
      "1875/1875 [==============================] - 7s 4ms/step - loss: 0.4548 - accuracy: 0.8485 - val_loss: 0.5434 - val_accuracy: 0.8332\n",
      "Epoch 7/10\n",
      "1875/1875 [==============================] - 7s 4ms/step - loss: 0.4413 - accuracy: 0.8511 - val_loss: 0.4895 - val_accuracy: 0.8419\n",
      "Epoch 8/10\n",
      "1875/1875 [==============================] - 7s 4ms/step - loss: 0.4370 - accuracy: 0.8531 - val_loss: 0.4877 - val_accuracy: 0.8406\n",
      "Epoch 9/10\n",
      "1875/1875 [==============================] - 7s 4ms/step - loss: 0.4326 - accuracy: 0.8523 - val_loss: 0.5737 - val_accuracy: 0.8248\n",
      "Epoch 10/10\n",
      "1875/1875 [==============================] - 7s 4ms/step - loss: 0.4379 - accuracy: 0.8547 - val_loss: 0.4989 - val_accuracy: 0.8376\n"
     ]
    },
    {
     "data": {
      "text/plain": [
       "<tensorflow.python.keras.callbacks.History at 0x7f64348fca00>"
      ]
     },
     "execution_count": 47,
     "metadata": {},
     "output_type": "execute_result"
    }
   ],
   "source": [
    "model.fit(\n",
    "    train_x,\n",
    "    train_y,\n",
    "    epochs=10,\n",
    "    callbacks=[tensorboard_callback, cm_callback],\n",
    "    validation_data=(validation_x, validation_y)\n",
    ")"
   ]
  },
  {
   "cell_type": "code",
   "execution_count": 48,
   "metadata": {
    "execution": {
     "iopub.execute_input": "2021-01-11T17:49:15.360246Z",
     "iopub.status.busy": "2021-01-11T17:49:15.359566Z",
     "iopub.status.idle": "2021-01-11T17:49:15.373432Z",
     "shell.execute_reply": "2021-01-11T17:49:15.371379Z",
     "shell.execute_reply.started": "2021-01-11T17:49:15.360167Z"
    }
   },
   "outputs": [],
   "source": [
    "%load_ext tensorboard"
   ]
  },
  {
   "cell_type": "code",
   "execution_count": 49,
   "metadata": {
    "execution": {
     "iopub.execute_input": "2021-01-11T17:49:28.519734Z",
     "iopub.status.busy": "2021-01-11T17:49:28.519145Z",
     "iopub.status.idle": "2021-01-11T17:49:30.664169Z",
     "shell.execute_reply": "2021-01-11T17:49:30.663396Z",
     "shell.execute_reply.started": "2021-01-11T17:49:28.519646Z"
    }
   },
   "outputs": [
    {
     "data": {
      "text/html": [
       "\n",
       "      <iframe id=\"tensorboard-frame-2f727fe3c0204eb2\" width=\"100%\" height=\"800\" frameborder=\"0\">\n",
       "      </iframe>\n",
       "      <script>\n",
       "        (function() {\n",
       "          const frame = document.getElementById(\"tensorboard-frame-2f727fe3c0204eb2\");\n",
       "          const url = new URL(\"/\", window.location);\n",
       "          const port = 6006;\n",
       "          if (port) {\n",
       "            url.port = port;\n",
       "          }\n",
       "          frame.src = url;\n",
       "        })();\n",
       "      </script>\n",
       "    "
      ],
      "text/plain": [
       "<IPython.core.display.HTML object>"
      ]
     },
     "metadata": {},
     "output_type": "display_data"
    }
   ],
   "source": [
    "%tensorboard --logdir logs"
   ]
  },
  {
   "cell_type": "code",
   "execution_count": null,
   "metadata": {},
   "outputs": [],
   "source": []
  }
 ],
 "metadata": {
  "kernelspec": {
   "display_name": "tf-gpu-2.3",
   "language": "python",
   "name": "tf-gpu-2.3"
  },
  "language_info": {
   "codemirror_mode": {
    "name": "ipython",
    "version": 3
   },
   "file_extension": ".py",
   "mimetype": "text/x-python",
   "name": "python",
   "nbconvert_exporter": "python",
   "pygments_lexer": "ipython3",
   "version": "3.8.3"
  },
  "widgets": {
   "application/vnd.jupyter.widget-state+json": {
    "state": {},
    "version_major": 2,
    "version_minor": 0
   }
  }
 },
 "nbformat": 4,
 "nbformat_minor": 4
}
