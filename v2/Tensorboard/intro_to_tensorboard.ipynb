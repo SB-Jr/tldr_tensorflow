{
 "cells": [
  {
   "cell_type": "markdown",
   "metadata": {},
   "source": [
    "# Intro To Tensorboard\n",
    "\n",
    "We can use tensorboard for monitoring various information during the training of the model and even after the training. It provides good visualizations so that we can easily spot errors if any and then update the model accordingly which also very helpful to debug the model if in case it is not woking as we intended.\n",
    "\n",
    "These are the important features:\n",
    "- Model graph to check if the model has the correct ordering of layers\n",
    "- Model layer weight update on each epoch\n",
    "- Loss and accuracy after each epoch\n",
    "- Data visualization"
   ]
  },
  {
   "cell_type": "markdown",
   "metadata": {},
   "source": [
    "## Example: MNIST DATA MODEL"
   ]
  },
  {
   "cell_type": "code",
   "execution_count": 1,
   "metadata": {
    "execution": {
     "iopub.execute_input": "2021-01-11T09:32:18.368771Z",
     "iopub.status.busy": "2021-01-11T09:32:18.367943Z",
     "iopub.status.idle": "2021-01-11T09:32:21.964147Z",
     "shell.execute_reply": "2021-01-11T09:32:21.962384Z",
     "shell.execute_reply.started": "2021-01-11T09:32:18.368670Z"
    }
   },
   "outputs": [],
   "source": [
    "import tensorflow as tf"
   ]
  },
  {
   "cell_type": "code",
   "execution_count": 8,
   "metadata": {
    "execution": {
     "iopub.execute_input": "2021-01-11T09:33:36.555412Z",
     "iopub.status.busy": "2021-01-11T09:33:36.554749Z",
     "iopub.status.idle": "2021-01-11T09:33:37.039480Z",
     "shell.execute_reply": "2021-01-11T09:33:37.038765Z",
     "shell.execute_reply.started": "2021-01-11T09:33:36.555334Z"
    }
   },
   "outputs": [],
   "source": [
    "train_data, validation_data = tf.keras.datasets.mnist.load_data()"
   ]
  },
  {
   "cell_type": "code",
   "execution_count": 9,
   "metadata": {
    "execution": {
     "iopub.execute_input": "2021-01-11T09:33:47.607769Z",
     "iopub.status.busy": "2021-01-11T09:33:47.606838Z",
     "iopub.status.idle": "2021-01-11T09:33:47.617469Z",
     "shell.execute_reply": "2021-01-11T09:33:47.615233Z",
     "shell.execute_reply.started": "2021-01-11T09:33:47.607653Z"
    }
   },
   "outputs": [],
   "source": [
    "train_x, train_y = train_data"
   ]
  },
  {
   "cell_type": "code",
   "execution_count": 22,
   "metadata": {
    "execution": {
     "iopub.execute_input": "2021-01-11T10:13:26.269182Z",
     "iopub.status.busy": "2021-01-11T10:13:26.268623Z",
     "iopub.status.idle": "2021-01-11T10:13:26.277409Z",
     "shell.execute_reply": "2021-01-11T10:13:26.275744Z",
     "shell.execute_reply.started": "2021-01-11T10:13:26.269106Z"
    }
   },
   "outputs": [],
   "source": [
    "def preprocess(x):\n",
    "    x = x / 255.0\n",
    "    x.reshape((-1, 28, 28, 1))\n",
    "    return x"
   ]
  },
  {
   "cell_type": "code",
   "execution_count": 23,
   "metadata": {
    "execution": {
     "iopub.execute_input": "2021-01-11T10:13:43.859491Z",
     "iopub.status.busy": "2021-01-11T10:13:43.858850Z",
     "iopub.status.idle": "2021-01-11T10:13:44.134084Z",
     "shell.execute_reply": "2021-01-11T10:13:44.133290Z",
     "shell.execute_reply.started": "2021-01-11T10:13:43.859398Z"
    }
   },
   "outputs": [],
   "source": [
    "train_x = preprocess(train_x)"
   ]
  },
  {
   "cell_type": "code",
   "execution_count": 24,
   "metadata": {
    "execution": {
     "iopub.execute_input": "2021-01-11T10:14:25.883449Z",
     "iopub.status.busy": "2021-01-11T10:14:25.882783Z",
     "iopub.status.idle": "2021-01-11T10:14:25.924537Z",
     "shell.execute_reply": "2021-01-11T10:14:25.922075Z",
     "shell.execute_reply.started": "2021-01-11T10:14:25.883375Z"
    }
   },
   "outputs": [],
   "source": [
    "validation_x = preprocess(validation_data[0])"
   ]
  },
  {
   "cell_type": "code",
   "execution_count": 25,
   "metadata": {
    "execution": {
     "iopub.execute_input": "2021-01-11T10:14:27.918321Z",
     "iopub.status.busy": "2021-01-11T10:14:27.917694Z",
     "iopub.status.idle": "2021-01-11T10:14:27.930752Z",
     "shell.execute_reply": "2021-01-11T10:14:27.928226Z",
     "shell.execute_reply.started": "2021-01-11T10:14:27.918247Z"
    }
   },
   "outputs": [
    {
     "data": {
      "text/plain": [
       "(60000, 28, 28)"
      ]
     },
     "execution_count": 25,
     "metadata": {},
     "output_type": "execute_result"
    }
   ],
   "source": [
    "train_x.shape"
   ]
  },
  {
   "cell_type": "code",
   "execution_count": 26,
   "metadata": {
    "execution": {
     "iopub.execute_input": "2021-01-11T10:14:35.060005Z",
     "iopub.status.busy": "2021-01-11T10:14:35.059318Z",
     "iopub.status.idle": "2021-01-11T10:14:35.071153Z",
     "shell.execute_reply": "2021-01-11T10:14:35.068821Z",
     "shell.execute_reply.started": "2021-01-11T10:14:35.059928Z"
    }
   },
   "outputs": [
    {
     "data": {
      "text/plain": [
       "(60000,)"
      ]
     },
     "execution_count": 26,
     "metadata": {},
     "output_type": "execute_result"
    }
   ],
   "source": [
    "train_y.shape"
   ]
  },
  {
   "cell_type": "code",
   "execution_count": 34,
   "metadata": {
    "execution": {
     "iopub.execute_input": "2021-01-11T10:15:57.001149Z",
     "iopub.status.busy": "2021-01-11T10:15:57.000576Z",
     "iopub.status.idle": "2021-01-11T10:15:57.014453Z",
     "shell.execute_reply": "2021-01-11T10:15:57.011878Z",
     "shell.execute_reply.started": "2021-01-11T10:15:57.001081Z"
    }
   },
   "outputs": [],
   "source": [
    "def get_model():\n",
    "    model = tf.keras.Sequential([\n",
    "        tf.keras.layers.Flatten(input_shape=(28,28)),\n",
    "        tf.keras.layers.Dense(512, activation='relu'),\n",
    "        tf.keras.layers.Dropout(0.4),\n",
    "        tf.keras.layers.Dense(10, activation='softmax')\n",
    "    ])\n",
    "    model.compile('adam', 'sparse_categorical_crossentropy', metrics=['accuracy'])\n",
    "    return model"
   ]
  },
  {
   "cell_type": "code",
   "execution_count": 35,
   "metadata": {
    "execution": {
     "iopub.execute_input": "2021-01-11T10:15:57.588230Z",
     "iopub.status.busy": "2021-01-11T10:15:57.587232Z",
     "iopub.status.idle": "2021-01-11T10:15:57.708150Z",
     "shell.execute_reply": "2021-01-11T10:15:57.706250Z",
     "shell.execute_reply.started": "2021-01-11T10:15:57.588109Z"
    }
   },
   "outputs": [],
   "source": [
    "simple_model = get_model()"
   ]
  },
  {
   "cell_type": "code",
   "execution_count": 36,
   "metadata": {
    "execution": {
     "iopub.execute_input": "2021-01-11T10:15:58.521035Z",
     "iopub.status.busy": "2021-01-11T10:15:58.519992Z",
     "iopub.status.idle": "2021-01-11T10:15:58.540112Z",
     "shell.execute_reply": "2021-01-11T10:15:58.537734Z",
     "shell.execute_reply.started": "2021-01-11T10:15:58.520906Z"
    }
   },
   "outputs": [
    {
     "name": "stdout",
     "output_type": "stream",
     "text": [
      "Model: \"sequential_5\"\n",
      "_________________________________________________________________\n",
      "Layer (type)                 Output Shape              Param #   \n",
      "=================================================================\n",
      "flatten_5 (Flatten)          (None, 784)               0         \n",
      "_________________________________________________________________\n",
      "dense_10 (Dense)             (None, 512)               401920    \n",
      "_________________________________________________________________\n",
      "dropout_5 (Dropout)          (None, 512)               0         \n",
      "_________________________________________________________________\n",
      "dense_11 (Dense)             (None, 10)                5130      \n",
      "=================================================================\n",
      "Total params: 407,050\n",
      "Trainable params: 407,050\n",
      "Non-trainable params: 0\n",
      "_________________________________________________________________\n"
     ]
    }
   ],
   "source": [
    "simple_model.summary()"
   ]
  },
  {
   "cell_type": "markdown",
   "metadata": {},
   "source": [
    "### Tensorboard callback\n",
    "\n",
    "To get the data and visualize it on tensorboard we need to add a callback which will collect the data at each epoch for us to visualize it on tensorboard."
   ]
  },
  {
   "cell_type": "code",
   "execution_count": 37,
   "metadata": {
    "execution": {
     "iopub.execute_input": "2021-01-11T10:16:01.785067Z",
     "iopub.status.busy": "2021-01-11T10:16:01.784418Z",
     "iopub.status.idle": "2021-01-11T10:16:02.100324Z",
     "shell.execute_reply": "2021-01-11T10:16:02.099135Z",
     "shell.execute_reply.started": "2021-01-11T10:16:01.784990Z"
    }
   },
   "outputs": [],
   "source": [
    "tensorboard_callback = tf.keras.callbacks.TensorBoard(log_dir='logs', histogram_freq=1)"
   ]
  },
  {
   "cell_type": "code",
   "execution_count": 38,
   "metadata": {
    "execution": {
     "iopub.execute_input": "2021-01-11T10:16:03.874692Z",
     "iopub.status.busy": "2021-01-11T10:16:03.874045Z",
     "iopub.status.idle": "2021-01-11T10:17:29.958489Z",
     "shell.execute_reply": "2021-01-11T10:17:29.956620Z",
     "shell.execute_reply.started": "2021-01-11T10:16:03.874616Z"
    }
   },
   "outputs": [
    {
     "name": "stdout",
     "output_type": "stream",
     "text": [
      "Epoch 1/10\n",
      "1875/1875 [==============================] - 10s 5ms/step - loss: 0.4148 - accuracy: 0.8758 - val_loss: 0.1154 - val_accuracy: 0.9640\n",
      "Epoch 2/10\n",
      "1875/1875 [==============================] - 9s 5ms/step - loss: 0.1252 - accuracy: 0.9622 - val_loss: 0.0836 - val_accuracy: 0.9759\n",
      "Epoch 3/10\n",
      "1875/1875 [==============================] - 8s 4ms/step - loss: 0.0916 - accuracy: 0.9714 - val_loss: 0.0694 - val_accuracy: 0.9777\n",
      "Epoch 4/10\n",
      "1875/1875 [==============================] - 8s 4ms/step - loss: 0.0762 - accuracy: 0.9770 - val_loss: 0.0646 - val_accuracy: 0.9809\n",
      "Epoch 5/10\n",
      "1875/1875 [==============================] - 8s 4ms/step - loss: 0.0647 - accuracy: 0.9797 - val_loss: 0.0725 - val_accuracy: 0.9776\n",
      "Epoch 6/10\n",
      "1875/1875 [==============================] - 9s 5ms/step - loss: 0.0577 - accuracy: 0.9814 - val_loss: 0.0676 - val_accuracy: 0.9817\n",
      "Epoch 7/10\n",
      "1875/1875 [==============================] - 8s 4ms/step - loss: 0.0490 - accuracy: 0.9839 - val_loss: 0.0641 - val_accuracy: 0.9821\n",
      "Epoch 8/10\n",
      "1875/1875 [==============================] - 8s 4ms/step - loss: 0.0465 - accuracy: 0.9847 - val_loss: 0.0702 - val_accuracy: 0.9817\n",
      "Epoch 9/10\n",
      "1875/1875 [==============================] - 8s 4ms/step - loss: 0.0401 - accuracy: 0.9862 - val_loss: 0.0653 - val_accuracy: 0.9837\n",
      "Epoch 10/10\n",
      "1875/1875 [==============================] - 8s 4ms/step - loss: 0.0372 - accuracy: 0.9875 - val_loss: 0.0749 - val_accuracy: 0.9810\n"
     ]
    },
    {
     "data": {
      "text/plain": [
       "<tensorflow.python.keras.callbacks.History at 0x7ff1684a20d0>"
      ]
     },
     "execution_count": 38,
     "metadata": {},
     "output_type": "execute_result"
    }
   ],
   "source": [
    "simple_model.fit(\n",
    "    train_x,\n",
    "    train_y,\n",
    "    validation_data=(validation_x, validation_data[1]),\n",
    "    epochs=10,\n",
    "    callbacks=[tensorboard_callback]\n",
    ")"
   ]
  },
  {
   "cell_type": "code",
   "execution_count": 44,
   "metadata": {
    "execution": {
     "iopub.execute_input": "2021-01-11T10:20:50.843280Z",
     "iopub.status.busy": "2021-01-11T10:20:50.842187Z",
     "iopub.status.idle": "2021-01-11T10:20:51.097483Z",
     "shell.execute_reply": "2021-01-11T10:20:51.094149Z",
     "shell.execute_reply.started": "2021-01-11T10:20:50.843167Z"
    }
   },
   "outputs": [
    {
     "name": "stdout",
     "output_type": "stream",
     "text": [
      "zsh:1: command not found: tensorboard\n"
     ]
    }
   ],
   "source": [
    "!tensorboard --logdir logs"
   ]
  },
  {
   "cell_type": "code",
   "execution_count": null,
   "metadata": {},
   "outputs": [],
   "source": []
  }
 ],
 "metadata": {
  "kernelspec": {
   "display_name": "tf-gpu-2.3",
   "language": "python",
   "name": "tf-gpu-2.3"
  },
  "language_info": {
   "codemirror_mode": {
    "name": "ipython",
    "version": 3
   },
   "file_extension": ".py",
   "mimetype": "text/x-python",
   "name": "python",
   "nbconvert_exporter": "python",
   "pygments_lexer": "ipython3",
   "version": "3.8.3"
  },
  "widgets": {
   "application/vnd.jupyter.widget-state+json": {
    "state": {},
    "version_major": 2,
    "version_minor": 0
   }
  }
 },
 "nbformat": 4,
 "nbformat_minor": 4
}
