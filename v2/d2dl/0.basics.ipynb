{
 "cells": [
  {
   "cell_type": "markdown",
   "metadata": {},
   "source": [
    "# Basics\n",
    "\n",
    "\n",
    "The basic computation used in tensorflow is called a tensor.\n",
    "\n",
    "Tensors are immutable objects, thus when we assign a new value to it, usually the location of the object changes until and unless we take special care in assigning a new value."
   ]
  },
  {
   "cell_type": "code",
   "execution_count": 4,
   "metadata": {
    "execution": {
     "iopub.execute_input": "2020-08-09T11:23:08.026255Z",
     "iopub.status.busy": "2020-08-09T11:23:08.025995Z",
     "iopub.status.idle": "2020-08-09T11:23:08.030068Z",
     "shell.execute_reply": "2020-08-09T11:23:08.028982Z",
     "shell.execute_reply.started": "2020-08-09T11:23:08.026232Z"
    }
   },
   "outputs": [],
   "source": [
    "import tensorflow as tf\n",
    "from IPython.display import display"
   ]
  },
  {
   "cell_type": "markdown",
   "metadata": {},
   "source": [
    "## Saving Memory\n",
    "\n",
    "If we dont use certain methods, then the variable used for storing results of some operation usually allocates new memory and points the variable to the new location in place of changing the value stored in existing location.\n",
    "\n",
    "Here z's location doesn't change when we use `.assign()` but changes if we directly assign the addition of x and y."
   ]
  },
  {
   "cell_type": "code",
   "execution_count": 3,
   "metadata": {
    "execution": {
     "iopub.execute_input": "2020-08-09T11:22:56.042370Z",
     "iopub.status.busy": "2020-08-09T11:22:56.042089Z",
     "iopub.status.idle": "2020-08-09T11:22:56.049025Z",
     "shell.execute_reply": "2020-08-09T11:22:56.048177Z",
     "shell.execute_reply.started": "2020-08-09T11:22:56.042344Z"
    }
   },
   "outputs": [],
   "source": [
    "x = tf.ones((2, 2))\n",
    "y = tf.ones((2, 1))"
   ]
  },
  {
   "cell_type": "code",
   "execution_count": 5,
   "metadata": {
    "execution": {
     "iopub.execute_input": "2020-08-09T11:23:17.188380Z",
     "iopub.status.busy": "2020-08-09T11:23:17.187937Z",
     "iopub.status.idle": "2020-08-09T11:23:17.203086Z",
     "shell.execute_reply": "2020-08-09T11:23:17.202282Z",
     "shell.execute_reply.started": "2020-08-09T11:23:17.188341Z"
    }
   },
   "outputs": [
    {
     "data": {
      "text/plain": [
       "<tf.Tensor: shape=(2, 2), dtype=float32, numpy=\n",
       "array([[1., 1.],\n",
       "       [1., 1.]], dtype=float32)>"
      ]
     },
     "metadata": {},
     "output_type": "display_data"
    },
    {
     "data": {
      "text/plain": [
       "<tf.Tensor: shape=(2, 1), dtype=float32, numpy=\n",
       "array([[1.],\n",
       "       [1.]], dtype=float32)>"
      ]
     },
     "metadata": {},
     "output_type": "display_data"
    }
   ],
   "source": [
    "display(x)\n",
    "display(y)"
   ]
  },
  {
   "cell_type": "code",
   "execution_count": 7,
   "metadata": {
    "execution": {
     "iopub.execute_input": "2020-08-09T11:24:04.749880Z",
     "iopub.status.busy": "2020-08-09T11:24:04.749601Z",
     "iopub.status.idle": "2020-08-09T11:24:04.790951Z",
     "shell.execute_reply": "2020-08-09T11:24:04.790232Z",
     "shell.execute_reply.started": "2020-08-09T11:24:04.749857Z"
    }
   },
   "outputs": [],
   "source": [
    "z = tf.Variable(tf.zeros_like(x))\n",
    "initia_id = id(z)"
   ]
  },
  {
   "cell_type": "code",
   "execution_count": 8,
   "metadata": {
    "execution": {
     "iopub.execute_input": "2020-08-09T11:24:11.897167Z",
     "iopub.status.busy": "2020-08-09T11:24:11.896872Z",
     "iopub.status.idle": "2020-08-09T11:24:11.924242Z",
     "shell.execute_reply": "2020-08-09T11:24:11.923321Z",
     "shell.execute_reply.started": "2020-08-09T11:24:11.897143Z"
    }
   },
   "outputs": [
    {
     "data": {
      "text/plain": [
       "<tf.Variable 'UnreadVariable' shape=(2, 2) dtype=float32, numpy=\n",
       "array([[2., 2.],\n",
       "       [2., 2.]], dtype=float32)>"
      ]
     },
     "execution_count": 8,
     "metadata": {},
     "output_type": "execute_result"
    }
   ],
   "source": [
    "z.assign(x + y)"
   ]
  },
  {
   "cell_type": "code",
   "execution_count": 10,
   "metadata": {
    "execution": {
     "iopub.execute_input": "2020-08-09T11:24:28.121026Z",
     "iopub.status.busy": "2020-08-09T11:24:28.120609Z",
     "iopub.status.idle": "2020-08-09T11:24:28.126635Z",
     "shell.execute_reply": "2020-08-09T11:24:28.125672Z",
     "shell.execute_reply.started": "2020-08-09T11:24:28.120988Z"
    }
   },
   "outputs": [
    {
     "data": {
      "text/plain": [
       "True"
      ]
     },
     "execution_count": 10,
     "metadata": {},
     "output_type": "execute_result"
    }
   ],
   "source": [
    "initia_id == id(z)"
   ]
  },
  {
   "cell_type": "code",
   "execution_count": 11,
   "metadata": {
    "execution": {
     "iopub.execute_input": "2020-08-09T11:26:46.329111Z",
     "iopub.status.busy": "2020-08-09T11:26:46.328621Z",
     "iopub.status.idle": "2020-08-09T11:26:46.338446Z",
     "shell.execute_reply": "2020-08-09T11:26:46.337430Z",
     "shell.execute_reply.started": "2020-08-09T11:26:46.329045Z"
    }
   },
   "outputs": [
    {
     "data": {
      "text/plain": [
       "<tf.Tensor: shape=(2, 2), dtype=float32, numpy=\n",
       "array([[2., 2.],\n",
       "       [2., 2.]], dtype=float32)>"
      ]
     },
     "metadata": {},
     "output_type": "display_data"
    },
    {
     "data": {
      "text/plain": [
       "False"
      ]
     },
     "execution_count": 11,
     "metadata": {},
     "output_type": "execute_result"
    }
   ],
   "source": [
    "z = x + y\n",
    "display(z)\n",
    "initia_id == id(z)"
   ]
  },
  {
   "cell_type": "markdown",
   "metadata": {},
   "source": [
    "Here in the initial statement the id was preserved but in the later section it got reassigned a new location"
   ]
  },
  {
   "cell_type": "markdown",
   "metadata": {},
   "source": [
    "## Tensorflow Decorations\n",
    "\n",
    "\n",
    "TensorFlow provides the `tf.function` decorator to wrap computation inside of a TensorFlow graph that gets compiled and optimized before running. This allows TensorFlow to prune unused values, and to re-use prior allocations that are no longer needed. This minimizes the memory overhead of TensorFlow computations."
   ]
  },
  {
   "cell_type": "code",
   "execution_count": 12,
   "metadata": {
    "execution": {
     "iopub.execute_input": "2020-08-09T11:33:10.818459Z",
     "iopub.status.busy": "2020-08-09T11:33:10.818182Z",
     "iopub.status.idle": "2020-08-09T11:33:10.822542Z",
     "shell.execute_reply": "2020-08-09T11:33:10.821363Z",
     "shell.execute_reply.started": "2020-08-09T11:33:10.818433Z"
    }
   },
   "outputs": [],
   "source": [
    "@tf.function\n",
    "def some_op(a, b, c):\n",
    "    c = a + b\n",
    "    return c"
   ]
  },
  {
   "cell_type": "code",
   "execution_count": 14,
   "metadata": {
    "execution": {
     "iopub.execute_input": "2020-08-09T11:33:53.130115Z",
     "iopub.status.busy": "2020-08-09T11:33:53.129866Z",
     "iopub.status.idle": "2020-08-09T11:33:53.225579Z",
     "shell.execute_reply": "2020-08-09T11:33:53.224414Z",
     "shell.execute_reply.started": "2020-08-09T11:33:53.130093Z"
    }
   },
   "outputs": [
    {
     "data": {
      "text/plain": [
       "False"
      ]
     },
     "execution_count": 14,
     "metadata": {},
     "output_type": "execute_result"
    }
   ],
   "source": [
    "initial_id = id(z)\n",
    "z = some_op(x, y, z)\n",
    "initial_id == id(z)"
   ]
  },
  {
   "cell_type": "markdown",
   "metadata": {},
   "source": [
    "## Creating a matrix"
   ]
  },
  {
   "cell_type": "code",
   "execution_count": 16,
   "metadata": {
    "execution": {
     "iopub.execute_input": "2020-08-09T11:40:18.417520Z",
     "iopub.status.busy": "2020-08-09T11:40:18.417268Z",
     "iopub.status.idle": "2020-08-09T11:40:18.423438Z",
     "shell.execute_reply": "2020-08-09T11:40:18.422771Z",
     "shell.execute_reply.started": "2020-08-09T11:40:18.417497Z"
    }
   },
   "outputs": [
    {
     "data": {
      "text/plain": [
       "<tf.Tensor: shape=(3, 4), dtype=int32, numpy=\n",
       "array([[ 0,  1,  2,  3],\n",
       "       [ 4,  5,  6,  7],\n",
       "       [ 8,  9, 10, 11]], dtype=int32)>"
      ]
     },
     "metadata": {},
     "output_type": "display_data"
    }
   ],
   "source": [
    "a = tf.reshape(tf.range(12), (3, 4))\n",
    "display(a)"
   ]
  },
  {
   "cell_type": "markdown",
   "metadata": {},
   "source": [
    "## Operations on tensors"
   ]
  },
  {
   "cell_type": "markdown",
   "metadata": {},
   "source": [
    "### Reduction"
   ]
  },
  {
   "cell_type": "code",
   "execution_count": 23,
   "metadata": {
    "execution": {
     "iopub.execute_input": "2020-08-09T11:43:42.360628Z",
     "iopub.status.busy": "2020-08-09T11:43:42.360301Z",
     "iopub.status.idle": "2020-08-09T11:43:42.366042Z",
     "shell.execute_reply": "2020-08-09T11:43:42.365361Z",
     "shell.execute_reply.started": "2020-08-09T11:43:42.360602Z"
    }
   },
   "outputs": [
    {
     "data": {
      "text/plain": [
       "<tf.Tensor: shape=(3,), dtype=int32, numpy=array([ 6, 22, 38], dtype=int32)>"
      ]
     },
     "metadata": {},
     "output_type": "display_data"
    }
   ],
   "source": [
    "display(tf.reduce_sum(a, axis=1))"
   ]
  },
  {
   "cell_type": "code",
   "execution_count": 25,
   "metadata": {
    "execution": {
     "iopub.execute_input": "2020-08-09T11:44:08.539809Z",
     "iopub.status.busy": "2020-08-09T11:44:08.539558Z",
     "iopub.status.idle": "2020-08-09T11:44:08.545074Z",
     "shell.execute_reply": "2020-08-09T11:44:08.543900Z",
     "shell.execute_reply.started": "2020-08-09T11:44:08.539785Z"
    }
   },
   "outputs": [
    {
     "data": {
      "text/plain": [
       "<tf.Tensor: shape=(3, 1), dtype=int32, numpy=\n",
       "array([[ 6],\n",
       "       [22],\n",
       "       [38]], dtype=int32)>"
      ]
     },
     "metadata": {},
     "output_type": "display_data"
    }
   ],
   "source": [
    "display(tf.reduce_sum(a, axis=1, keepdims=True))"
   ]
  },
  {
   "cell_type": "markdown",
   "metadata": {},
   "source": [
    "### Dot product"
   ]
  },
  {
   "cell_type": "code",
   "execution_count": 31,
   "metadata": {
    "execution": {
     "iopub.execute_input": "2020-08-09T11:46:17.264508Z",
     "iopub.status.busy": "2020-08-09T11:46:17.264236Z",
     "iopub.status.idle": "2020-08-09T11:46:17.293742Z",
     "shell.execute_reply": "2020-08-09T11:46:17.293068Z",
     "shell.execute_reply.started": "2020-08-09T11:46:17.264485Z"
    }
   },
   "outputs": [
    {
     "data": {
      "text/plain": [
       "<tf.Tensor: shape=(3, 5), dtype=float32, numpy=\n",
       "array([[4., 4., 4., 4., 4.],\n",
       "       [4., 4., 4., 4., 4.],\n",
       "       [4., 4., 4., 4., 4.]], dtype=float32)>"
      ]
     },
     "metadata": {},
     "output_type": "display_data"
    }
   ],
   "source": [
    "x = tf.ones((3,4))\n",
    "y = tf.ones((4,5))\n",
    "z = tf.tensordot(x, y, axes=1)\n",
    "display(z)"
   ]
  },
  {
   "cell_type": "code",
   "execution_count": 39,
   "metadata": {
    "execution": {
     "iopub.execute_input": "2020-08-09T11:51:48.471777Z",
     "iopub.status.busy": "2020-08-09T11:51:48.471475Z",
     "iopub.status.idle": "2020-08-09T11:51:48.482685Z",
     "shell.execute_reply": "2020-08-09T11:51:48.481702Z",
     "shell.execute_reply.started": "2020-08-09T11:51:48.471748Z"
    }
   },
   "outputs": [
    {
     "data": {
      "text/plain": [
       "<tf.Tensor: shape=(3, 4, 3, 4), dtype=float32, numpy=\n",
       "array([[[[ 0.,  1.,  2.,  3.],\n",
       "         [ 4.,  5.,  6.,  7.],\n",
       "         [ 8.,  9., 10., 11.]],\n",
       "\n",
       "        [[ 0.,  1.,  2.,  3.],\n",
       "         [ 4.,  5.,  6.,  7.],\n",
       "         [ 8.,  9., 10., 11.]],\n",
       "\n",
       "        [[ 0.,  1.,  2.,  3.],\n",
       "         [ 4.,  5.,  6.,  7.],\n",
       "         [ 8.,  9., 10., 11.]],\n",
       "\n",
       "        [[ 0.,  1.,  2.,  3.],\n",
       "         [ 4.,  5.,  6.,  7.],\n",
       "         [ 8.,  9., 10., 11.]]],\n",
       "\n",
       "\n",
       "       [[[ 0.,  1.,  2.,  3.],\n",
       "         [ 4.,  5.,  6.,  7.],\n",
       "         [ 8.,  9., 10., 11.]],\n",
       "\n",
       "        [[ 0.,  1.,  2.,  3.],\n",
       "         [ 4.,  5.,  6.,  7.],\n",
       "         [ 8.,  9., 10., 11.]],\n",
       "\n",
       "        [[ 0.,  1.,  2.,  3.],\n",
       "         [ 4.,  5.,  6.,  7.],\n",
       "         [ 8.,  9., 10., 11.]],\n",
       "\n",
       "        [[ 0.,  1.,  2.,  3.],\n",
       "         [ 4.,  5.,  6.,  7.],\n",
       "         [ 8.,  9., 10., 11.]]],\n",
       "\n",
       "\n",
       "       [[[ 0.,  1.,  2.,  3.],\n",
       "         [ 4.,  5.,  6.,  7.],\n",
       "         [ 8.,  9., 10., 11.]],\n",
       "\n",
       "        [[ 0.,  1.,  2.,  3.],\n",
       "         [ 4.,  5.,  6.,  7.],\n",
       "         [ 8.,  9., 10., 11.]],\n",
       "\n",
       "        [[ 0.,  1.,  2.,  3.],\n",
       "         [ 4.,  5.,  6.,  7.],\n",
       "         [ 8.,  9., 10., 11.]],\n",
       "\n",
       "        [[ 0.,  1.,  2.,  3.],\n",
       "         [ 4.,  5.,  6.,  7.],\n",
       "         [ 8.,  9., 10., 11.]]]], dtype=float32)>"
      ]
     },
     "metadata": {},
     "output_type": "display_data"
    }
   ],
   "source": [
    "x = tf.ones((3,4))\n",
    "y = tf.reshape(tf.range(12, dtype=tf.float32), (3, 4))\n",
    "z = tf.tensordot(x, y, axes=0)\n",
    "display(z)"
   ]
  },
  {
   "cell_type": "markdown",
   "metadata": {},
   "source": [
    "### Matrix Multiplication"
   ]
  },
  {
   "cell_type": "code",
   "execution_count": 41,
   "metadata": {
    "execution": {
     "iopub.execute_input": "2020-08-09T11:55:20.257253Z",
     "iopub.status.busy": "2020-08-09T11:55:20.256974Z",
     "iopub.status.idle": "2020-08-09T11:55:20.263891Z",
     "shell.execute_reply": "2020-08-09T11:55:20.263179Z",
     "shell.execute_reply.started": "2020-08-09T11:55:20.257231Z"
    }
   },
   "outputs": [
    {
     "data": {
      "text/plain": [
       "<tf.Tensor: shape=(2, 3), dtype=float32, numpy=\n",
       "array([[ 90., 100., 110.],\n",
       "       [240., 275., 310.]], dtype=float32)>"
      ]
     },
     "metadata": {},
     "output_type": "display_data"
    }
   ],
   "source": [
    "x = tf.reshape(tf.range(10, dtype=tf.float32), (2, 5))\n",
    "y = tf.reshape(tf.range(15, dtype=tf.float32), (5, 3))\n",
    "z = tf.matmul(x, y)\n",
    "display(z)"
   ]
  },
  {
   "cell_type": "markdown",
   "metadata": {},
   "source": [
    "### Norm"
   ]
  },
  {
   "cell_type": "markdown",
   "metadata": {},
   "source": [
    "#### L1"
   ]
  },
  {
   "cell_type": "code",
   "execution_count": 43,
   "metadata": {
    "execution": {
     "iopub.execute_input": "2020-08-09T11:55:53.271133Z",
     "iopub.status.busy": "2020-08-09T11:55:53.270839Z",
     "iopub.status.idle": "2020-08-09T11:55:53.276007Z",
     "shell.execute_reply": "2020-08-09T11:55:53.275284Z",
     "shell.execute_reply.started": "2020-08-09T11:55:53.271109Z"
    }
   },
   "outputs": [
    {
     "data": {
      "text/plain": [
       "<tf.Tensor: shape=(), dtype=float32, numpy=16.881943>"
      ]
     },
     "metadata": {},
     "output_type": "display_data"
    }
   ],
   "source": [
    "z = tf.norm(x)\n",
    "display(z)"
   ]
  },
  {
   "cell_type": "markdown",
   "metadata": {},
   "source": [
    "#### L2"
   ]
  },
  {
   "cell_type": "code",
   "execution_count": 44,
   "metadata": {
    "execution": {
     "iopub.execute_input": "2020-08-09T11:56:38.970530Z",
     "iopub.status.busy": "2020-08-09T11:56:38.970088Z",
     "iopub.status.idle": "2020-08-09T11:56:38.976949Z",
     "shell.execute_reply": "2020-08-09T11:56:38.976019Z",
     "shell.execute_reply.started": "2020-08-09T11:56:38.970491Z"
    }
   },
   "outputs": [
    {
     "data": {
      "text/plain": [
       "<tf.Tensor: shape=(), dtype=float32, numpy=45.0>"
      ]
     },
     "execution_count": 44,
     "metadata": {},
     "output_type": "execute_result"
    }
   ],
   "source": [
    "tf.reduce_sum(tf.abs(x))"
   ]
  },
  {
   "cell_type": "markdown",
   "metadata": {},
   "source": [
    "## Automatic Diferentiation"
   ]
  },
  {
   "cell_type": "code",
   "execution_count": 45,
   "metadata": {
    "execution": {
     "iopub.execute_input": "2020-08-09T11:58:19.181805Z",
     "iopub.status.busy": "2020-08-09T11:58:19.181500Z",
     "iopub.status.idle": "2020-08-09T11:58:19.186912Z",
     "shell.execute_reply": "2020-08-09T11:58:19.185815Z",
     "shell.execute_reply.started": "2020-08-09T11:58:19.181779Z"
    }
   },
   "outputs": [],
   "source": [
    "x = tf.range(4, dtype=tf.float32)"
   ]
  },
  {
   "cell_type": "markdown",
   "metadata": {},
   "source": [
    "To find the gradient of a function $y = f(x)$ we will need to \n",
    "- convert x into a variable\n",
    "- record the function calculation under the `tf.GradientTape()` context\n",
    "- find gradient of y with respect to x"
   ]
  },
  {
   "cell_type": "code",
   "execution_count": 46,
   "metadata": {
    "execution": {
     "iopub.execute_input": "2020-08-09T13:01:55.515507Z",
     "iopub.status.busy": "2020-08-09T13:01:55.515252Z",
     "iopub.status.idle": "2020-08-09T13:01:55.519372Z",
     "shell.execute_reply": "2020-08-09T13:01:55.518627Z",
     "shell.execute_reply.started": "2020-08-09T13:01:55.515483Z"
    }
   },
   "outputs": [],
   "source": [
    "x = tf.Variable(x)"
   ]
  },
  {
   "cell_type": "code",
   "execution_count": 52,
   "metadata": {
    "execution": {
     "iopub.execute_input": "2020-08-09T13:03:54.652864Z",
     "iopub.status.busy": "2020-08-09T13:03:54.652353Z",
     "iopub.status.idle": "2020-08-09T13:03:54.658312Z",
     "shell.execute_reply": "2020-08-09T13:03:54.657568Z",
     "shell.execute_reply.started": "2020-08-09T13:03:54.652816Z"
    }
   },
   "outputs": [],
   "source": [
    "with tf.GradientTape() as gt:\n",
    "    y = 2 * tf.tensordot(x, x, axes=1)"
   ]
  },
  {
   "cell_type": "code",
   "execution_count": 53,
   "metadata": {
    "execution": {
     "iopub.execute_input": "2020-08-09T13:03:55.102023Z",
     "iopub.status.busy": "2020-08-09T13:03:55.101731Z",
     "iopub.status.idle": "2020-08-09T13:03:55.109953Z",
     "shell.execute_reply": "2020-08-09T13:03:55.109220Z",
     "shell.execute_reply.started": "2020-08-09T13:03:55.102001Z"
    }
   },
   "outputs": [
    {
     "data": {
      "text/plain": [
       "<tf.Tensor: shape=(4,), dtype=float32, numpy=array([ 0.,  4.,  8., 12.], dtype=float32)>"
      ]
     },
     "metadata": {},
     "output_type": "display_data"
    }
   ],
   "source": [
    "x_grad = gt.gradient(y, x)\n",
    "display(x_grad)"
   ]
  },
  {
   "cell_type": "markdown",
   "metadata": {},
   "source": [
    "### Detaching gradient\n",
    "\n",
    "Sometimes we dont want to find gradient of certain intermediate variables and treat them as constants. In this case we need to use the `stop_gradient()` on these variables."
   ]
  },
  {
   "cell_type": "code",
   "execution_count": 59,
   "metadata": {
    "execution": {
     "iopub.execute_input": "2020-08-09T13:08:32.396816Z",
     "iopub.status.busy": "2020-08-09T13:08:32.396558Z",
     "iopub.status.idle": "2020-08-09T13:08:32.401036Z",
     "shell.execute_reply": "2020-08-09T13:08:32.400333Z",
     "shell.execute_reply.started": "2020-08-09T13:08:32.396788Z"
    }
   },
   "outputs": [],
   "source": [
    "with tf.GradientTape(persistent = True) as gt:\n",
    "    y = x * x\n",
    "    u = tf.stop_gradient(y)\n",
    "    z = u * x"
   ]
  },
  {
   "cell_type": "code",
   "execution_count": 63,
   "metadata": {
    "execution": {
     "iopub.execute_input": "2020-08-09T13:09:15.002864Z",
     "iopub.status.busy": "2020-08-09T13:09:15.002619Z",
     "iopub.status.idle": "2020-08-09T13:09:15.040662Z",
     "shell.execute_reply": "2020-08-09T13:09:15.039567Z",
     "shell.execute_reply.started": "2020-08-09T13:09:15.002842Z"
    }
   },
   "outputs": [
    {
     "data": {
      "text/plain": [
       "<tf.Tensor: shape=(4,), dtype=float32, numpy=array([0., 1., 4., 9.], dtype=float32)>"
      ]
     },
     "metadata": {},
     "output_type": "display_data"
    },
    {
     "data": {
      "text/plain": [
       "<tf.Tensor: shape=(4,), dtype=bool, numpy=array([ True,  True,  True,  True])>"
      ]
     },
     "execution_count": 63,
     "metadata": {},
     "output_type": "execute_result"
    }
   ],
   "source": [
    "d_z = gt.gradient(z, x)\n",
    "display(d_z)\n",
    "d_z == u"
   ]
  },
  {
   "cell_type": "code",
   "execution_count": null,
   "metadata": {},
   "outputs": [],
   "source": []
  }
 ],
 "metadata": {
  "kernelspec": {
   "display_name": "Python 3",
   "language": "python",
   "name": "python3"
  },
  "language_info": {
   "codemirror_mode": {
    "name": "ipython",
    "version": 3
   },
   "file_extension": ".py",
   "mimetype": "text/x-python",
   "name": "python",
   "nbconvert_exporter": "python",
   "pygments_lexer": "ipython3",
   "version": "3.8.3"
  },
  "toc-autonumbering": true,
  "widgets": {
   "application/vnd.jupyter.widget-state+json": {
    "state": {},
    "version_major": 2,
    "version_minor": 0
   }
  }
 },
 "nbformat": 4,
 "nbformat_minor": 4
}
