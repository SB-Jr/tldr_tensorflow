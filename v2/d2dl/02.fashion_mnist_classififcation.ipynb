{
 "cells": [
  {
   "cell_type": "markdown",
   "metadata": {},
   "source": [
    "# Image Classification"
   ]
  },
  {
   "cell_type": "markdown",
   "metadata": {},
   "source": [
    "## Load the dataset"
   ]
  },
  {
   "cell_type": "code",
   "execution_count": 64,
   "metadata": {
    "execution": {
     "iopub.execute_input": "2020-08-11T08:22:23.393619Z",
     "iopub.status.busy": "2020-08-11T08:22:23.393351Z",
     "iopub.status.idle": "2020-08-11T08:22:23.397082Z",
     "shell.execute_reply": "2020-08-11T08:22:23.396273Z",
     "shell.execute_reply.started": "2020-08-11T08:22:23.393596Z"
    },
    "tags": [
     "import"
    ]
   },
   "outputs": [],
   "source": [
    "import tensorflow as tf\n",
    "import matplotlib.pyplot as plt\n",
    "import numpy as np\n",
    "from IPython.display import display"
   ]
  },
  {
   "cell_type": "code",
   "execution_count": 4,
   "metadata": {
    "execution": {
     "iopub.execute_input": "2020-08-11T06:07:03.829127Z",
     "iopub.status.busy": "2020-08-11T06:07:03.828846Z",
     "iopub.status.idle": "2020-08-11T06:07:03.838860Z",
     "shell.execute_reply": "2020-08-11T06:07:03.837842Z",
     "shell.execute_reply.started": "2020-08-11T06:07:03.829105Z"
    },
    "tags": [
     "import"
    ]
   },
   "outputs": [],
   "source": [
    "tf.random.set_seed(10)"
   ]
  },
  {
   "cell_type": "code",
   "execution_count": 5,
   "metadata": {
    "execution": {
     "iopub.execute_input": "2020-08-11T06:07:03.840696Z",
     "iopub.status.busy": "2020-08-11T06:07:03.840131Z",
     "iopub.status.idle": "2020-08-11T06:07:03.885873Z",
     "shell.execute_reply": "2020-08-11T06:07:03.885146Z",
     "shell.execute_reply.started": "2020-08-11T06:07:03.840663Z"
    },
    "tags": [
     "import"
    ]
   },
   "outputs": [],
   "source": [
    "assert len(tf.config.list_physical_devices('GPU')) == 1"
   ]
  },
  {
   "cell_type": "code",
   "execution_count": 2,
   "metadata": {
    "execution": {
     "iopub.execute_input": "2020-08-11T06:06:49.182825Z",
     "iopub.status.busy": "2020-08-11T06:06:49.182556Z",
     "iopub.status.idle": "2020-08-11T06:06:49.624542Z",
     "shell.execute_reply": "2020-08-11T06:06:49.623831Z",
     "shell.execute_reply.started": "2020-08-11T06:06:49.182803Z"
    },
    "tags": [
     "load_data"
    ]
   },
   "outputs": [],
   "source": [
    "data, data_test = tf.keras.datasets.fashion_mnist.load_data()"
   ]
  },
  {
   "cell_type": "code",
   "execution_count": 6,
   "metadata": {
    "execution": {
     "iopub.execute_input": "2020-08-11T06:07:18.806412Z",
     "iopub.status.busy": "2020-08-11T06:07:18.806108Z",
     "iopub.status.idle": "2020-08-11T06:07:18.814555Z",
     "shell.execute_reply": "2020-08-11T06:07:18.813903Z",
     "shell.execute_reply.started": "2020-08-11T06:07:18.806385Z"
    },
    "tags": [
     "log"
    ]
   },
   "outputs": [
    {
     "data": {
      "text/plain": [
       "2"
      ]
     },
     "metadata": {},
     "output_type": "display_data"
    },
    {
     "data": {
      "text/plain": [
       "tuple"
      ]
     },
     "metadata": {},
     "output_type": "display_data"
    },
    {
     "data": {
      "text/plain": [
       "tuple"
      ]
     },
     "metadata": {},
     "output_type": "display_data"
    },
    {
     "data": {
      "text/plain": [
       "2"
      ]
     },
     "metadata": {},
     "output_type": "display_data"
    }
   ],
   "source": [
    "display(len(data))\n",
    "display(type(data))\n",
    "display(type(data_test))\n",
    "display(len(data_test))"
   ]
  },
  {
   "cell_type": "code",
   "execution_count": 7,
   "metadata": {
    "execution": {
     "iopub.execute_input": "2020-08-11T06:07:18.817157Z",
     "iopub.status.busy": "2020-08-11T06:07:18.816885Z",
     "iopub.status.idle": "2020-08-11T06:07:18.848363Z",
     "shell.execute_reply": "2020-08-11T06:07:18.847602Z",
     "shell.execute_reply.started": "2020-08-11T06:07:18.817133Z"
    },
    "tags": [
     "log"
    ]
   },
   "outputs": [
    {
     "data": {
      "text/plain": [
       "numpy.ndarray"
      ]
     },
     "execution_count": 7,
     "metadata": {},
     "output_type": "execute_result"
    }
   ],
   "source": [
    "type(data[0])"
   ]
  },
  {
   "cell_type": "code",
   "execution_count": 8,
   "metadata": {
    "execution": {
     "iopub.execute_input": "2020-08-11T06:07:18.849864Z",
     "iopub.status.busy": "2020-08-11T06:07:18.849536Z",
     "iopub.status.idle": "2020-08-11T06:07:18.862570Z",
     "shell.execute_reply": "2020-08-11T06:07:18.861758Z",
     "shell.execute_reply.started": "2020-08-11T06:07:18.849833Z"
    },
    "tags": [
     "log"
    ]
   },
   "outputs": [
    {
     "data": {
      "text/plain": [
       "numpy.ndarray"
      ]
     },
     "execution_count": 8,
     "metadata": {},
     "output_type": "execute_result"
    }
   ],
   "source": [
    "type(data[1])"
   ]
  },
  {
   "cell_type": "code",
   "execution_count": 9,
   "metadata": {
    "execution": {
     "iopub.execute_input": "2020-08-11T06:07:18.864349Z",
     "iopub.status.busy": "2020-08-11T06:07:18.864000Z",
     "iopub.status.idle": "2020-08-11T06:07:18.873527Z",
     "shell.execute_reply": "2020-08-11T06:07:18.872790Z",
     "shell.execute_reply.started": "2020-08-11T06:07:18.864316Z"
    },
    "tags": [
     "log"
    ]
   },
   "outputs": [
    {
     "data": {
      "text/plain": [
       "(60000, 28, 28)"
      ]
     },
     "execution_count": 9,
     "metadata": {},
     "output_type": "execute_result"
    }
   ],
   "source": [
    "data[0].shape"
   ]
  },
  {
   "cell_type": "code",
   "execution_count": 10,
   "metadata": {
    "execution": {
     "iopub.execute_input": "2020-08-11T06:07:18.874740Z",
     "iopub.status.busy": "2020-08-11T06:07:18.874507Z",
     "iopub.status.idle": "2020-08-11T06:07:18.886207Z",
     "shell.execute_reply": "2020-08-11T06:07:18.885492Z",
     "shell.execute_reply.started": "2020-08-11T06:07:18.874717Z"
    },
    "tags": [
     "log"
    ]
   },
   "outputs": [
    {
     "data": {
      "text/plain": [
       "(60000,)"
      ]
     },
     "execution_count": 10,
     "metadata": {},
     "output_type": "execute_result"
    }
   ],
   "source": [
    "data[1].shape"
   ]
  },
  {
   "cell_type": "code",
   "execution_count": 11,
   "metadata": {
    "execution": {
     "iopub.execute_input": "2020-08-11T06:07:18.887346Z",
     "iopub.status.busy": "2020-08-11T06:07:18.887105Z",
     "iopub.status.idle": "2020-08-11T06:07:19.045415Z",
     "shell.execute_reply": "2020-08-11T06:07:19.044477Z",
     "shell.execute_reply.started": "2020-08-11T06:07:18.887323Z"
    },
    "tags": [
     "log"
    ]
   },
   "outputs": [
    {
     "data": {
      "image/png": "[encoded data removed]",
      "text/plain": [
       "<Figure size 72x72 with 1 Axes>"
      ]
     },
     "metadata": {
      "needs_background": "light"
     },
     "output_type": "display_data"
    }
   ],
   "source": [
    "plt.figure(figsize=(1,1))\n",
    "plt.imshow(data[0][0], cmap='gray')\n",
    "plt.title(data[1][0])\n",
    "plt.show()"
   ]
  },
  {
   "cell_type": "code",
   "execution_count": 18,
   "metadata": {
    "execution": {
     "iopub.execute_input": "2020-08-11T06:07:55.372310Z",
     "iopub.status.busy": "2020-08-11T06:07:55.372032Z",
     "iopub.status.idle": "2020-08-11T06:07:55.375760Z",
     "shell.execute_reply": "2020-08-11T06:07:55.375051Z",
     "shell.execute_reply.started": "2020-08-11T06:07:55.372276Z"
    },
    "tags": [
     "def"
    ]
   },
   "outputs": [],
   "source": [
    "label_categories = ['t-shirt', 'trouser', 'pullover', 'dress', 'coat', 'sandal', 'shirt', 'sneaker', 'bag', 'ankle boot']"
   ]
  },
  {
   "cell_type": "markdown",
   "metadata": {},
   "source": [
    "## Reading data"
   ]
  },
  {
   "cell_type": "code",
   "execution_count": 19,
   "metadata": {
    "execution": {
     "iopub.execute_input": "2020-08-11T06:07:55.377366Z",
     "iopub.status.busy": "2020-08-11T06:07:55.377115Z",
     "iopub.status.idle": "2020-08-11T06:07:55.411985Z",
     "shell.execute_reply": "2020-08-11T06:07:55.411088Z",
     "shell.execute_reply.started": "2020-08-11T06:07:55.377343Z"
    },
    "tags": [
     "def"
    ]
   },
   "outputs": [],
   "source": [
    "batch_size = 32"
   ]
  },
  {
   "cell_type": "code",
   "execution_count": 20,
   "metadata": {
    "execution": {
     "iopub.execute_input": "2020-08-11T06:07:55.413363Z",
     "iopub.status.busy": "2020-08-11T06:07:55.413129Z",
     "iopub.status.idle": "2020-08-11T06:07:55.438871Z",
     "shell.execute_reply": "2020-08-11T06:07:55.438062Z",
     "shell.execute_reply.started": "2020-08-11T06:07:55.413342Z"
    },
    "tags": [
     "def"
    ]
   },
   "outputs": [],
   "source": [
    "train_itter = tf.data.Dataset.from_tensor_slices(data).batch(batch_size).shuffle(len(data[0]))"
   ]
  },
  {
   "cell_type": "markdown",
   "metadata": {},
   "source": [
    "## Defining Model"
   ]
  },
  {
   "cell_type": "code",
   "execution_count": 66,
   "metadata": {
    "execution": {
     "iopub.execute_input": "2020-08-11T08:25:01.790603Z",
     "iopub.status.busy": "2020-08-11T08:25:01.790346Z",
     "iopub.status.idle": "2020-08-11T08:25:01.794489Z",
     "shell.execute_reply": "2020-08-11T08:25:01.793660Z",
     "shell.execute_reply.started": "2020-08-11T08:25:01.790580Z"
    },
    "tags": [
     "def"
    ]
   },
   "outputs": [],
   "source": [
    "num_inputs = data[0].shape[1] * data[0].shape[2]\n",
    "num_outputs = len(label_categories)"
   ]
  },
  {
   "cell_type": "code",
   "execution_count": 171,
   "metadata": {
    "execution": {
     "iopub.execute_input": "2020-08-11T10:52:17.120768Z",
     "iopub.status.busy": "2020-08-11T10:52:17.120498Z",
     "iopub.status.idle": "2020-08-11T10:52:17.125502Z",
     "shell.execute_reply": "2020-08-11T10:52:17.124447Z",
     "shell.execute_reply.started": "2020-08-11T10:52:17.120745Z"
    },
    "tags": [
     "def"
    ]
   },
   "outputs": [],
   "source": [
    "def init_model_params(no_of_features, no_of_output):\n",
    "    w = tf.Variable(tf.random.normal((no_of_features, no_of_output), stddev=0.1), trainable=True)\n",
    "    b = tf.Variable(tf.zeros((no_of_output)), trainable=True)\n",
    "    return w, b"
   ]
  },
  {
   "cell_type": "code",
   "execution_count": 172,
   "metadata": {
    "execution": {
     "iopub.execute_input": "2020-08-11T10:52:17.677405Z",
     "iopub.status.busy": "2020-08-11T10:52:17.677130Z",
     "iopub.status.idle": "2020-08-11T10:52:17.685880Z",
     "shell.execute_reply": "2020-08-11T10:52:17.685090Z",
     "shell.execute_reply.started": "2020-08-11T10:52:17.677383Z"
    },
    "tags": [
     "test"
    ]
   },
   "outputs": [
    {
     "name": "stdout",
     "output_type": "stream",
     "text": [
      "Test sucessfull\n"
     ]
    }
   ],
   "source": [
    "def test_init_model_params():\n",
    "    w, b = init_model_params(100, 10)\n",
    "    assert w.shape == (100, 10)\n",
    "    assert b.shape == (10)\n",
    "    assert not np.isnan(np.sum(w.numpy()))\n",
    "    assert not np.isnan(np.sum(b.numpy()))\n",
    "    print('Test sucessfull')\n",
    "\n",
    "\n",
    "test_init_model_params()"
   ]
  },
  {
   "cell_type": "code",
   "execution_count": 215,
   "metadata": {
    "execution": {
     "iopub.execute_input": "2020-08-11T13:08:16.108214Z",
     "iopub.status.busy": "2020-08-11T13:08:16.107947Z",
     "iopub.status.idle": "2020-08-11T13:08:16.112171Z",
     "shell.execute_reply": "2020-08-11T13:08:16.111374Z",
     "shell.execute_reply.started": "2020-08-11T13:08:16.108191Z"
    }
   },
   "outputs": [],
   "source": [
    "def normalize_matrix(x):\n",
    "    if type(x) != np.ndarray:\n",
    "        x = x.numpy()\n",
    "    return (x - x.mean()) / x.std()"
   ]
  },
  {
   "cell_type": "code",
   "execution_count": 217,
   "metadata": {
    "execution": {
     "iopub.execute_input": "2020-08-11T13:08:32.648869Z",
     "iopub.status.busy": "2020-08-11T13:08:32.648578Z",
     "iopub.status.idle": "2020-08-11T13:08:32.653104Z",
     "shell.execute_reply": "2020-08-11T13:08:32.652107Z",
     "shell.execute_reply.started": "2020-08-11T13:08:32.648845Z"
    },
    "tags": [
     "def"
    ]
   },
   "outputs": [],
   "source": [
    "def softmax_op(x):\n",
    "    e_x = tf.exp(x)\n",
    "    sum_e_x_k = tf.reduce_sum(e_x, 1, keepdims=True)\n",
    "    return e_x / sum_e_x_k"
   ]
  },
  {
   "cell_type": "code",
   "execution_count": 218,
   "metadata": {
    "execution": {
     "iopub.execute_input": "2020-08-11T13:08:33.119608Z",
     "iopub.status.busy": "2020-08-11T13:08:33.119127Z",
     "iopub.status.idle": "2020-08-11T13:08:33.131821Z",
     "shell.execute_reply": "2020-08-11T13:08:33.130912Z",
     "shell.execute_reply.started": "2020-08-11T13:08:33.119570Z"
    },
    "tags": [
     "test"
    ]
   },
   "outputs": [
    {
     "name": "stdout",
     "output_type": "stream",
     "text": [
      "Softmax test successfull\n"
     ]
    }
   ],
   "source": [
    "def test_softmax_op():\n",
    "    x = tf.random.normal((5, 2), 255, 0.01)\n",
    "    x = normalize_matrix(x)\n",
    "    softmax_x = softmax_op(x)\n",
    "    assert softmax_x.dtype == tf.float32\n",
    "    assert softmax_x.shape == x.shape\n",
    "    sum_softmax_x = tf.reduce_sum(softmax_x, 1)\n",
    "    assert [i == 1 for i in sum_softmax_x]\n",
    "    print('Softmax test successfull')\n",
    "\n",
    "\n",
    "test_softmax_op()"
   ]
  },
  {
   "cell_type": "code",
   "execution_count": 188,
   "metadata": {
    "execution": {
     "iopub.execute_input": "2020-08-11T11:27:51.573775Z",
     "iopub.status.busy": "2020-08-11T11:27:51.573495Z",
     "iopub.status.idle": "2020-08-11T11:27:51.578154Z",
     "shell.execute_reply": "2020-08-11T11:27:51.577518Z",
     "shell.execute_reply.started": "2020-08-11T11:27:51.573752Z"
    },
    "tags": [
     "def"
    ]
   },
   "outputs": [],
   "source": [
    "def single_nn_model(x, w, b):\n",
    "    x = tf.cast(tf.reshape(x, (-1, w.shape[0])), dtype=tf.float32)\n",
    "    pred_raw = tf.matmul(x, w) + b\n",
    "    return softmax_op(pred_raw)"
   ]
  },
  {
   "cell_type": "code",
   "execution_count": 236,
   "metadata": {
    "execution": {
     "iopub.execute_input": "2020-08-11T13:36:21.281226Z",
     "iopub.status.busy": "2020-08-11T13:36:21.280971Z",
     "iopub.status.idle": "2020-08-11T13:36:21.294244Z",
     "shell.execute_reply": "2020-08-11T13:36:21.293195Z",
     "shell.execute_reply.started": "2020-08-11T13:36:21.281203Z"
    },
    "tags": [
     "test"
    ]
   },
   "outputs": [
    {
     "name": "stdout",
     "output_type": "stream",
     "text": [
      "Test Successfull\n"
     ]
    }
   ],
   "source": [
    "def test_single_nn_model():\n",
    "    no_of_feat = 100\n",
    "    no_classes = 4\n",
    "    no_of_examples = 1000\n",
    "    w, b = init_model_params(no_of_feat, no_classes)\n",
    "    x = tf.Variable(tf.random.normal((no_of_examples, no_of_feat)))\n",
    "    pred = single_nn_model(x, w, b)\n",
    "    assert pred.shape == (no_of_examples, no_classes)\n",
    "    assert np.isfinite(np.sum(pred))\n",
    "    print('Test Successfull')\n",
    "\n",
    "\n",
    "test_single_nn_model()"
   ]
  },
  {
   "cell_type": "code",
   "execution_count": 123,
   "metadata": {
    "execution": {
     "iopub.execute_input": "2020-08-11T10:19:40.665144Z",
     "iopub.status.busy": "2020-08-11T10:19:40.664885Z",
     "iopub.status.idle": "2020-08-11T10:19:40.669803Z",
     "shell.execute_reply": "2020-08-11T10:19:40.668825Z",
     "shell.execute_reply.started": "2020-08-11T10:19:40.665122Z"
    },
    "tags": [
     "def"
    ]
   },
   "outputs": [],
   "source": [
    "def cross_entropy_loss(y_pred, y_actual):\n",
    "    one_hot_y = tf.one_hot(y_actual, depth=y_pred.shape[-1])\n",
    "    assert one_hot_y.shape == y_pred.shape\n",
    "    masked_y_pred = tf.boolean_mask(y_pred, one_hot_y)\n",
    "    return - tf.math.log(masked_y_pred)"
   ]
  },
  {
   "cell_type": "code",
   "execution_count": 124,
   "metadata": {
    "execution": {
     "iopub.execute_input": "2020-08-11T10:19:41.170640Z",
     "iopub.status.busy": "2020-08-11T10:19:41.170150Z",
     "iopub.status.idle": "2020-08-11T10:19:41.189046Z",
     "shell.execute_reply": "2020-08-11T10:19:41.188137Z",
     "shell.execute_reply.started": "2020-08-11T10:19:41.170596Z"
    },
    "tags": [
     "test"
    ]
   },
   "outputs": [
    {
     "name": "stdout",
     "output_type": "stream",
     "text": [
      "Cross Entropy Test successful\n"
     ]
    }
   ],
   "source": [
    "def test_cross_entropy():\n",
    "    y_pred = tf.constant([[0.3, 0.5, 0.2], [0.1, 0.6, 0.3]])\n",
    "    y_actual_good = tf.constant([1, 1])\n",
    "    y_actual_bad = tf.constant([2, 0])\n",
    "    loss_good = cross_entropy_loss(y_pred, y_actual_good)\n",
    "    loss_bad = cross_entropy_loss(y_pred, y_actual_bad)\n",
    "    assert (loss_good < loss_bad).numpy().all()\n",
    "    print('Cross Entropy Test successful')\n",
    "\n",
    "\n",
    "test_cross_entropy()"
   ]
  },
  {
   "cell_type": "code",
   "execution_count": 245,
   "metadata": {
    "execution": {
     "iopub.execute_input": "2020-08-11T13:45:52.074705Z",
     "iopub.status.busy": "2020-08-11T13:45:52.074446Z",
     "iopub.status.idle": "2020-08-11T13:45:52.079183Z",
     "shell.execute_reply": "2020-08-11T13:45:52.078419Z",
     "shell.execute_reply.started": "2020-08-11T13:45:52.074683Z"
    },
    "tags": [
     "def"
    ]
   },
   "outputs": [],
   "source": [
    "def accuracy(y_pred, y_actual):\n",
    "    y_pred_class = tf.argmax(y_pred, axis=1)\n",
    "    y_actual_class = tf.cast(y_actual, y_pred_class.dtype)\n",
    "    comparison_matrix = (y_actual_class == y_pred_class)\n",
    "    return tf.reduce_sum(tf.cast(comparison_matrix, y_pred.dtype))"
   ]
  },
  {
   "cell_type": "code",
   "execution_count": 246,
   "metadata": {
    "execution": {
     "iopub.execute_input": "2020-08-11T13:45:52.696899Z",
     "iopub.status.busy": "2020-08-11T13:45:52.696648Z",
     "iopub.status.idle": "2020-08-11T13:45:52.732752Z",
     "shell.execute_reply": "2020-08-11T13:45:52.731951Z",
     "shell.execute_reply.started": "2020-08-11T13:45:52.696877Z"
    },
    "tags": [
     "test"
    ]
   },
   "outputs": [
    {
     "name": "stdout",
     "output_type": "stream",
     "text": [
      "Accuracy Test Successfull\n"
     ]
    }
   ],
   "source": [
    "def test_accuracy():\n",
    "    y_pred = tf.constant([[0.3, 0.5, 0.2], [0.1, 0.6, 0.3]])\n",
    "    y_actual_good = tf.constant([1, 1])\n",
    "    y_actual_medium = tf.constant([1, 0])\n",
    "    y_actual_bad = tf.constant([2, 0])\n",
    "    acc_good = accuracy(y_pred, y_actual_good) / len(y_actual_good)\n",
    "    acc_bad = accuracy(y_pred, y_actual_bad) / len(y_actual_bad)\n",
    "    acc_medium = accuracy(y_pred, y_actual_medium) / len(y_actual_medium)\n",
    "    assert acc_good == 1\n",
    "    assert acc_bad == 0\n",
    "    assert acc_medium == 0.5\n",
    "    print('Accuracy Test Successfull')\n",
    "\n",
    "\n",
    "test_accuracy()"
   ]
  },
  {
   "cell_type": "code",
   "execution_count": 247,
   "metadata": {
    "execution": {
     "iopub.execute_input": "2020-08-11T13:46:02.371116Z",
     "iopub.status.busy": "2020-08-11T13:46:02.370693Z",
     "iopub.status.idle": "2020-08-11T13:46:02.376278Z",
     "shell.execute_reply": "2020-08-11T13:46:02.375338Z",
     "shell.execute_reply.started": "2020-08-11T13:46:02.371078Z"
    }
   },
   "outputs": [],
   "source": [
    "def sgd_optimizer(params, gradients, learning_rate, batch_size):\n",
    "    for param, grad in zip(params, gradients):\n",
    "        param.assign(param - learning_rate * grad)"
   ]
  },
  {
   "cell_type": "code",
   "execution_count": 248,
   "metadata": {
    "execution": {
     "iopub.execute_input": "2020-08-11T13:46:03.208864Z",
     "iopub.status.busy": "2020-08-11T13:46:03.208452Z",
     "iopub.status.idle": "2020-08-11T13:46:03.492719Z",
     "shell.execute_reply": "2020-08-11T13:46:03.492001Z",
     "shell.execute_reply.started": "2020-08-11T13:46:03.208831Z"
    },
    "tags": [
     "test"
    ]
   },
   "outputs": [
    {
     "name": "stdout",
     "output_type": "stream",
     "text": [
      "Test Successfull\n"
     ]
    }
   ],
   "source": [
    "def test_sgd_optimizer():\n",
    "    no_of_feat = 100\n",
    "    no_classes = 4\n",
    "    no_of_examples = 1000\n",
    "    learning_rate = 0.01\n",
    "    batch_size = 32\n",
    "    w, b = init_model_params(no_of_feat, no_classes)\n",
    "    x = tf.Variable(tf.random.normal((no_of_examples, no_of_feat)))\n",
    "    y = tf.constant(tf.ones((no_of_examples), dtype=tf.int32))\n",
    "    for i in range(0, 1000, 32):\n",
    "        x_train = x[i:(i+32)]\n",
    "        y_train = y[i:(i+32)]\n",
    "        with tf.GradientTape() as g:\n",
    "            pred = single_nn_model(x_train, w, b)\n",
    "            loss = cross_entropy_loss(pred, y_train)\n",
    "        params = [w, b]\n",
    "        grad = g.gradient(loss, params)\n",
    "        assert grad[0].shape == params[0].shape\n",
    "        assert grad[1].shape == params[1].shape\n",
    "        assert not np.isnan(np.sum(grad[0].numpy()))\n",
    "        assert not np.isnan(np.sum(grad[1].numpy()))\n",
    "        sgd_optimizer(params, grad, learning_rate, batch_size)\n",
    "        assert not np.isnan(np.sum(params[0].numpy()))\n",
    "        assert not np.isnan(np.sum(params[1].numpy()))\n",
    "    print('Test Successfull')\n",
    "\n",
    "\n",
    "test_sgd_optimizer()"
   ]
  },
  {
   "cell_type": "code",
   "execution_count": 249,
   "metadata": {
    "execution": {
     "iopub.execute_input": "2020-08-11T13:46:05.680139Z",
     "iopub.status.busy": "2020-08-11T13:46:05.679712Z",
     "iopub.status.idle": "2020-08-11T13:46:05.691100Z",
     "shell.execute_reply": "2020-08-11T13:46:05.690112Z",
     "shell.execute_reply.started": "2020-08-11T13:46:05.680103Z"
    }
   },
   "outputs": [],
   "source": [
    "def gradient_descent(x, y, w, b):\n",
    "    with tf.GradientTape() as g:\n",
    "        y_pred = single_nn_model(x, w, b)\n",
    "        assert np.isfinite(np.sum(y_pred.numpy())), print(y_pred)\n",
    "        loss = cross_entropy_loss(y_pred, y)\n",
    "        assert np.isfinite(np.sum(loss.numpy())), print(loss)\n",
    "    trainable_params = [w, b]\n",
    "    trainable_params_grad = g.gradient(loss, trainable_params)\n",
    "    assert not np.isnan(np.sum(trainable_params_grad[0].numpy()))\n",
    "    assert not np.isnan(np.sum(trainable_params_grad[1].numpy()))\n",
    "    sgd_optimizer(trainable_params, trainable_params_grad, learning_rate, batch_size)"
   ]
  },
  {
   "cell_type": "markdown",
   "metadata": {},
   "source": [
    "## Training"
   ]
  },
  {
   "cell_type": "code",
   "execution_count": 70,
   "metadata": {
    "execution": {
     "iopub.execute_input": "2020-08-11T08:31:42.847098Z",
     "iopub.status.busy": "2020-08-11T08:31:42.846828Z",
     "iopub.status.idle": "2020-08-11T08:31:42.850398Z",
     "shell.execute_reply": "2020-08-11T08:31:42.849414Z",
     "shell.execute_reply.started": "2020-08-11T08:31:42.847076Z"
    },
    "tags": [
     "def"
    ]
   },
   "outputs": [],
   "source": [
    "num_epochs = 1000\n",
    "learning_rate = 0.01"
   ]
  },
  {
   "cell_type": "code",
   "execution_count": 65,
   "metadata": {
    "execution": {
     "iopub.execute_input": "2020-08-11T08:22:28.189536Z",
     "iopub.status.busy": "2020-08-11T08:22:28.189284Z",
     "iopub.status.idle": "2020-08-11T08:22:28.192712Z",
     "shell.execute_reply": "2020-08-11T08:22:28.191897Z",
     "shell.execute_reply.started": "2020-08-11T08:22:28.189514Z"
    },
    "tags": [
     "def"
    ]
   },
   "outputs": [],
   "source": [
    "history_accuracy = np.zeros((num_epochs))"
   ]
  },
  {
   "cell_type": "code",
   "execution_count": 241,
   "metadata": {
    "execution": {
     "iopub.execute_input": "2020-08-11T13:44:15.098483Z",
     "iopub.status.busy": "2020-08-11T13:44:15.098195Z",
     "iopub.status.idle": "2020-08-11T13:44:15.107615Z",
     "shell.execute_reply": "2020-08-11T13:44:15.106676Z",
     "shell.execute_reply.started": "2020-08-11T13:44:15.098456Z"
    },
    "tags": [
     "def"
    ]
   },
   "outputs": [],
   "source": [
    "w, b = init_model_params(num_inputs, num_outputs)"
   ]
  },
  {
   "cell_type": "code",
   "execution_count": 250,
   "metadata": {
    "execution": {
     "iopub.execute_input": "2020-08-11T13:46:08.770449Z",
     "iopub.status.busy": "2020-08-11T13:46:08.770068Z",
     "iopub.status.idle": "2020-08-11T13:46:08.879491Z",
     "shell.execute_reply": "2020-08-11T13:46:08.878376Z",
     "shell.execute_reply.started": "2020-08-11T13:46:08.770413Z"
    },
    "tags": [
     "def"
    ]
   },
   "outputs": [
    {
     "name": "stdout",
     "output_type": "stream",
     "text": [
      "tf.Tensor(\n",
      "[ 5.7599249e+00 -0.0000000e+00  2.1300067e-01  3.7073421e+00\n",
      "  8.4060486e+01  5.8514128e+00  6.0947609e+00  3.1090767e+01\n",
      "  5.9922085e+00  1.7618975e+01  9.9175644e+00  2.1946275e+00\n",
      " -0.0000000e+00  1.1112756e-02  7.1090427e-03            inf\n",
      "  5.6487747e+01  4.3366342e+00  6.5538473e+00  8.8811312e-06\n",
      " -0.0000000e+00  3.1463041e+01  1.1456907e+00  4.1507831e-01\n",
      "  3.7935314e+00  8.6377800e+01  5.2956166e+00  4.3512337e-05\n",
      "  1.8759341e-04  1.6122124e+01  1.2469424e+00  1.4813371e+01], shape=(32,), dtype=float32)\n"
     ]
    },
    {
     "ename": "AssertionError",
     "evalue": "None",
     "output_type": "error",
     "traceback": [
      "\u001b[0;31m---------------------------------------------------------------------------\u001b[0m",
      "\u001b[0;31mAssertionError\u001b[0m                            Traceback (most recent call last)",
      "\u001b[0;32m<ipython-input-250-fdcad27ed927>\u001b[0m in \u001b[0;36m<module>\u001b[0;34m\u001b[0m\n\u001b[1;32m      2\u001b[0m     \u001b[0;32mfor\u001b[0m \u001b[0mx\u001b[0m\u001b[0;34m,\u001b[0m \u001b[0my\u001b[0m \u001b[0;32min\u001b[0m \u001b[0mtrain_itter\u001b[0m\u001b[0;34m:\u001b[0m\u001b[0;34m\u001b[0m\u001b[0;34m\u001b[0m\u001b[0m\n\u001b[1;32m      3\u001b[0m         \u001b[0mx\u001b[0m \u001b[0;34m=\u001b[0m \u001b[0mnormalize_matrix\u001b[0m\u001b[0;34m(\u001b[0m\u001b[0mx\u001b[0m\u001b[0;34m)\u001b[0m\u001b[0;34m\u001b[0m\u001b[0;34m\u001b[0m\u001b[0m\n\u001b[0;32m----> 4\u001b[0;31m         \u001b[0mgradient_descent\u001b[0m\u001b[0;34m(\u001b[0m\u001b[0mx\u001b[0m\u001b[0;34m,\u001b[0m \u001b[0my\u001b[0m\u001b[0;34m,\u001b[0m \u001b[0mw\u001b[0m\u001b[0;34m,\u001b[0m \u001b[0mb\u001b[0m\u001b[0;34m)\u001b[0m\u001b[0;34m\u001b[0m\u001b[0;34m\u001b[0m\u001b[0m\n\u001b[0m\u001b[1;32m      5\u001b[0m     \u001b[0mloss_epoch\u001b[0m \u001b[0;34m=\u001b[0m \u001b[0mcross_entropy_loss\u001b[0m\u001b[0;34m(\u001b[0m\u001b[0msingle_nn_model\u001b[0m\u001b[0;34m(\u001b[0m\u001b[0mx\u001b[0m\u001b[0;34m,\u001b[0m \u001b[0mw\u001b[0m\u001b[0;34m,\u001b[0m \u001b[0mb\u001b[0m\u001b[0;34m)\u001b[0m\u001b[0;34m,\u001b[0m \u001b[0my\u001b[0m\u001b[0;34m)\u001b[0m\u001b[0;34m\u001b[0m\u001b[0;34m\u001b[0m\u001b[0m\n\u001b[1;32m      6\u001b[0m     \u001b[0mprint\u001b[0m\u001b[0;34m(\u001b[0m\u001b[0;34m'Loss in epoch {} is =====> {}'\u001b[0m\u001b[0;34m.\u001b[0m\u001b[0mformat\u001b[0m\u001b[0;34m(\u001b[0m\u001b[0mepoch\u001b[0m\u001b[0;34m,\u001b[0m \u001b[0mloss_epoch\u001b[0m\u001b[0;34m.\u001b[0m\u001b[0mnumpy\u001b[0m\u001b[0;34m(\u001b[0m\u001b[0;34m)\u001b[0m\u001b[0;34m.\u001b[0m\u001b[0mmean\u001b[0m\u001b[0;34m(\u001b[0m\u001b[0;34m)\u001b[0m\u001b[0;34m)\u001b[0m\u001b[0;34m)\u001b[0m\u001b[0;34m\u001b[0m\u001b[0;34m\u001b[0m\u001b[0m\n",
      "\u001b[0;32m<ipython-input-249-67db1feffa19>\u001b[0m in \u001b[0;36mgradient_descent\u001b[0;34m(x, y, w, b)\u001b[0m\n\u001b[1;32m      4\u001b[0m         \u001b[0;32massert\u001b[0m \u001b[0mnp\u001b[0m\u001b[0;34m.\u001b[0m\u001b[0misfinite\u001b[0m\u001b[0;34m(\u001b[0m\u001b[0mnp\u001b[0m\u001b[0;34m.\u001b[0m\u001b[0msum\u001b[0m\u001b[0;34m(\u001b[0m\u001b[0my_pred\u001b[0m\u001b[0;34m.\u001b[0m\u001b[0mnumpy\u001b[0m\u001b[0;34m(\u001b[0m\u001b[0;34m)\u001b[0m\u001b[0;34m)\u001b[0m\u001b[0;34m)\u001b[0m\u001b[0;34m,\u001b[0m \u001b[0mprint\u001b[0m\u001b[0;34m(\u001b[0m\u001b[0my_pred\u001b[0m\u001b[0;34m)\u001b[0m\u001b[0;34m\u001b[0m\u001b[0;34m\u001b[0m\u001b[0m\n\u001b[1;32m      5\u001b[0m         \u001b[0mloss\u001b[0m \u001b[0;34m=\u001b[0m \u001b[0mcross_entropy_loss\u001b[0m\u001b[0;34m(\u001b[0m\u001b[0my_pred\u001b[0m\u001b[0;34m,\u001b[0m \u001b[0my\u001b[0m\u001b[0;34m)\u001b[0m\u001b[0;34m\u001b[0m\u001b[0;34m\u001b[0m\u001b[0m\n\u001b[0;32m----> 6\u001b[0;31m         \u001b[0;32massert\u001b[0m \u001b[0mnp\u001b[0m\u001b[0;34m.\u001b[0m\u001b[0misfinite\u001b[0m\u001b[0;34m(\u001b[0m\u001b[0mnp\u001b[0m\u001b[0;34m.\u001b[0m\u001b[0msum\u001b[0m\u001b[0;34m(\u001b[0m\u001b[0mloss\u001b[0m\u001b[0;34m.\u001b[0m\u001b[0mnumpy\u001b[0m\u001b[0;34m(\u001b[0m\u001b[0;34m)\u001b[0m\u001b[0;34m)\u001b[0m\u001b[0;34m)\u001b[0m\u001b[0;34m,\u001b[0m \u001b[0mprint\u001b[0m\u001b[0;34m(\u001b[0m\u001b[0mloss\u001b[0m\u001b[0;34m)\u001b[0m\u001b[0;34m\u001b[0m\u001b[0;34m\u001b[0m\u001b[0m\n\u001b[0m\u001b[1;32m      7\u001b[0m     \u001b[0mtrainable_params\u001b[0m \u001b[0;34m=\u001b[0m \u001b[0;34m[\u001b[0m\u001b[0mw\u001b[0m\u001b[0;34m,\u001b[0m \u001b[0mb\u001b[0m\u001b[0;34m]\u001b[0m\u001b[0;34m\u001b[0m\u001b[0;34m\u001b[0m\u001b[0m\n\u001b[1;32m      8\u001b[0m     \u001b[0mtrainable_params_grad\u001b[0m \u001b[0;34m=\u001b[0m \u001b[0mg\u001b[0m\u001b[0;34m.\u001b[0m\u001b[0mgradient\u001b[0m\u001b[0;34m(\u001b[0m\u001b[0mloss\u001b[0m\u001b[0;34m,\u001b[0m \u001b[0mtrainable_params\u001b[0m\u001b[0;34m)\u001b[0m\u001b[0;34m\u001b[0m\u001b[0;34m\u001b[0m\u001b[0m\n",
      "\u001b[0;31mAssertionError\u001b[0m: None"
     ]
    }
   ],
   "source": [
    "for epoch in range(num_epochs):\n",
    "    for x, y in train_itter:\n",
    "        x = normalize_matrix(x)\n",
    "        gradient_descent(x, y, w, b)\n",
    "    loss_epoch = cross_entropy_loss(single_nn_model(x, w, b), y)\n",
    "    print('Loss in epoch {} is =====> {}'.format(epoch, loss_epoch.numpy().mean()))\n",
    "    history_accuracy[epoch] = loss_epoch.numpy().mean()"
   ]
  },
  {
   "cell_type": "code",
   "execution_count": null,
   "metadata": {},
   "outputs": [],
   "source": []
  }
 ],
 "metadata": {
  "kernelspec": {
   "display_name": "Python 3",
   "language": "python",
   "name": "python3"
  },
  "language_info": {
   "codemirror_mode": {
    "name": "ipython",
    "version": 3
   },
   "file_extension": ".py",
   "mimetype": "text/x-python",
   "name": "python",
   "nbconvert_exporter": "python",
   "pygments_lexer": "ipython3",
   "version": "3.8.3"
  },
  "widgets": {
   "application/vnd.jupyter.widget-state+json": {
    "state": {},
    "version_major": 2,
    "version_minor": 0
   }
  }
 },
 "nbformat": 4,
 "nbformat_minor": 4
}
