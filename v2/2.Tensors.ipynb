{
 "cells": [
  {
   "cell_type": "markdown",
   "metadata": {},
   "source": [
    "# Tensors"
   ]
  },
  {
   "cell_type": "markdown",
   "metadata": {},
   "source": [
    "Tensors are multi-dimensional arrays that are the basic compute unit in Tensorflow."
   ]
  },
  {
   "cell_type": "code",
   "execution_count": 1,
   "metadata": {
    "execution": {
     "iopub.execute_input": "2020-11-03T14:13:52.123237Z",
     "iopub.status.busy": "2020-11-03T14:13:52.122640Z",
     "iopub.status.idle": "2020-11-03T14:13:57.305147Z",
     "shell.execute_reply": "2020-11-03T14:13:57.303443Z",
     "shell.execute_reply.started": "2020-11-03T14:13:52.123155Z"
    }
   },
   "outputs": [],
   "source": [
    "import tensorflow as tf\n",
    "import numpy as np"
   ]
  },
  {
   "cell_type": "markdown",
   "metadata": {},
   "source": [
    "## Type of Tensors\n",
    "\n",
    "- Constant\n",
    "- Variable"
   ]
  },
  {
   "cell_type": "code",
   "execution_count": 2,
   "metadata": {
    "execution": {
     "iopub.execute_input": "2020-11-03T14:15:07.003672Z",
     "iopub.status.busy": "2020-11-03T14:15:07.002697Z",
     "iopub.status.idle": "2020-11-03T14:15:07.775995Z",
     "shell.execute_reply": "2020-11-03T14:15:07.773878Z",
     "shell.execute_reply.started": "2020-11-03T14:15:07.003556Z"
    }
   },
   "outputs": [
    {
     "name": "stdout",
     "output_type": "stream",
     "text": [
      "Constant Tensor:  tf.Tensor(0, shape=(), dtype=int32)\n",
      "Rank is:  tf.Tensor(0, shape=(), dtype=int32)\n",
      "Tensor object:  tf.Tensor(0, shape=(), dtype=int32)\n"
     ]
    }
   ],
   "source": [
    "tensor_object = tf.constant(0)\n",
    "print('Constant Tensor: ', tensor_object)\n",
    "print('Rank is: ', tf.rank(tensor_object))\n",
    "print('Tensor object: ', tensor_object)"
   ]
  },
  {
   "cell_type": "markdown",
   "metadata": {},
   "source": [
    "## Tensor Operations"
   ]
  },
  {
   "cell_type": "code",
   "execution_count": 3,
   "metadata": {
    "execution": {
     "iopub.execute_input": "2020-11-03T14:17:10.384081Z",
     "iopub.status.busy": "2020-11-03T14:17:10.383262Z",
     "iopub.status.idle": "2020-11-03T14:17:10.660517Z",
     "shell.execute_reply": "2020-11-03T14:17:10.659568Z",
     "shell.execute_reply.started": "2020-11-03T14:17:10.383974Z"
    }
   },
   "outputs": [
    {
     "name": "stdout",
     "output_type": "stream",
     "text": [
      "tf.Tensor(\n",
      "[[3 3]\n",
      " [3 3]], shape=(2, 2), dtype=int32)\n",
      "tf.Tensor(\n",
      "[[4 4]\n",
      " [4 4]], shape=(2, 2), dtype=int32)\n"
     ]
    }
   ],
   "source": [
    "x = tf.constant([[1, 1],\n",
    "                 [1, 1]])\n",
    "y = tf.constant([[2, 2],\n",
    "                 [2, 2]])\n",
    "print(tf.add(x, y))\n",
    "print(tf.matmul(x, y))"
   ]
  },
  {
   "cell_type": "markdown",
   "metadata": {},
   "source": [
    "## Numpy Type Tensors\n",
    "\n",
    "Most numpy operations are available in TF2.x and we can easily access them by using the same api but from tf in place of np.\n",
    "\n",
    "The special numpy array functions like `ones`, `zeros`, etc are also available in TF2.x"
   ]
  },
  {
   "cell_type": "markdown",
   "metadata": {},
   "source": [
    "**NOTE: To access the actual value stored in a tensor object, use `<object>.numpy()` function.**"
   ]
  },
  {
   "cell_type": "code",
   "execution_count": null,
   "metadata": {},
   "outputs": [],
   "source": []
  }
 ],
 "metadata": {
  "kernelspec": {
   "display_name": "Python 3",
   "language": "python",
   "name": "python3"
  },
  "language_info": {
   "codemirror_mode": {
    "name": "ipython",
    "version": 3
   },
   "file_extension": ".py",
   "mimetype": "text/x-python",
   "name": "python",
   "nbconvert_exporter": "python",
   "pygments_lexer": "ipython3",
   "version": "3.8.3"
  }
 },
 "nbformat": 4,
 "nbformat_minor": 4
}
