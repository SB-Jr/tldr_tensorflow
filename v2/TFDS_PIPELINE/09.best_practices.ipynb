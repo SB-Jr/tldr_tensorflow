{
 "cells": [
  {
   "cell_type": "markdown",
   "metadata": {},
   "source": [
    "# Best practices that we can use"
   ]
  },
  {
   "cell_type": "markdown",
   "metadata": {},
   "source": [
    "## Ordering the operations\n",
    "\n",
    "\n",
    "Correct ordering of `map`, `batch`, and other operations is very necessary for efficient use of system resources"
   ]
  },
  {
   "cell_type": "markdown",
   "metadata": {},
   "source": [
    "### Batching\n",
    "\n",
    "\n",
    "Batching can signficantly improve mapping operation because when we use the `batch()` operation before the `map()` operation the map operation is transformed into a vectorized format thus in place of working on each row at a time, it starts working on multiple rows simultaneously"
   ]
  },
  {
   "cell_type": "markdown",
   "metadata": {},
   "source": [
    "### Options"
   ]
  },
  {
   "cell_type": "markdown",
   "metadata": {},
   "source": [
    "We can also use options on a dataset to further customize our needs. The vectorization of the map function can also be achieved by using the options on the dataset.\n",
    "\n",
    "eg:\n",
    "```python\n",
    "options = tf.data.Options()\n",
    "options.experimental_optimization.map_vectorization.enable = True\n",
    "dataset = dataset.with_options(options)\n",
    "```"
   ]
  },
  {
   "cell_type": "markdown",
   "metadata": {},
   "source": [
    "### Caching\n",
    "\n",
    "If we are doing some heavy transformations, we should cache the transformations on the memory or local storage so that the heavy transformation dont need to be repeated."
   ]
  },
  {
   "cell_type": "markdown",
   "metadata": {},
   "source": [
    "### Repeat and Shuffle\n",
    "\n",
    "If we use repeat before shuffle operation, some elements that were used in the previous epoch can again come into the current epoch due to shuffling after repeat. Whereas if we use shuffle before repeat then we might see some performance hit as the data elements are shuffled before repeating.\n",
    "\n",
    "- So, if we want better ordering we should use shuffle and then repeat\n",
    "- If we want better performance, we should use repeat and then shuffle  "
   ]
  },
  {
   "cell_type": "code",
   "execution_count": null,
   "metadata": {},
   "outputs": [],
   "source": []
  }
 ],
 "metadata": {
  "kernelspec": {
   "display_name": "Python 3",
   "language": "python",
   "name": "python3"
  },
  "language_info": {
   "codemirror_mode": {
    "name": "ipython",
    "version": 3
   },
   "file_extension": ".py",
   "mimetype": "text/x-python",
   "name": "python",
   "nbconvert_exporter": "python",
   "pygments_lexer": "ipython3",
   "version": "3.8.3"
  }
 },
 "nbformat": 4,
 "nbformat_minor": 4
}
