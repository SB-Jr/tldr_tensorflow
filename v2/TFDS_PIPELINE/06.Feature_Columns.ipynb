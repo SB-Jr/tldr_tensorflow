{
 "cells": [
  {
   "cell_type": "markdown",
   "metadata": {},
   "source": [
    "# TF Pipeline"
   ]
  },
  {
   "cell_type": "markdown",
   "metadata": {},
   "source": [
    "TFDS also helps us working with non standard datasets which are not available in the TFDS library. These datasets can be of any type and we can easily create pipelines so that we dont need to work too hard to perform the same operations again and again and can just directly deploy the pipeline."
   ]
  },
  {
   "cell_type": "markdown",
   "metadata": {},
   "source": [
    "So our basic idea here is to take a datasource and then convert it into a `tf.data.dataset`. This will help us then easily handle the dataset for transformations."
   ]
  },
  {
   "cell_type": "markdown",
   "metadata": {},
   "source": [
    "Once we have the data in a `tf.data.dataset` object, we can store them in many forms. The most useful forms are int and float. So to help us with this, we can have multiple types of data in a single dataset and these are shown as `Feature Columns`.\n",
    "\n",
    "There are 2 main type of feature columns:\n",
    "- Categorical column\n",
    "- Dense Column\n",
    "\n",
    "In Categorical Column we have:\n",
    "- Categorical with Identity column\n",
    "- Categorical with Vocubulary column\n",
    "- Categorical with Hashed column\n",
    "- Crossed Column\n",
    "\n",
    "In Dense Column we have:\n",
    "- Numeric column\n",
    "- Indicator column\n",
    "- Embedding column\n",
    "\n",
    "We also have a hybrid type called 'Bucketized Column'"
   ]
  },
  {
   "cell_type": "markdown",
   "metadata": {},
   "source": [
    "## Feature Column"
   ]
  },
  {
   "cell_type": "markdown",
   "metadata": {},
   "source": [
    "To create feature columns we can use the `tf.feature_column` package. Inside which we can find all the types of columns that we mentioned above"
   ]
  },
  {
   "cell_type": "markdown",
   "metadata": {},
   "source": [
    "## Example\n",
    "\n",
    "using Pandas dataframe as a source to create a pipeline"
   ]
  },
  {
   "cell_type": "markdown",
   "metadata": {},
   "source": [
    "### Imports"
   ]
  },
  {
   "cell_type": "code",
   "execution_count": 9,
   "metadata": {
    "execution": {
     "iopub.execute_input": "2020-12-01T10:24:03.845503Z",
     "iopub.status.busy": "2020-12-01T10:24:03.844860Z",
     "iopub.status.idle": "2020-12-01T10:24:08.059222Z",
     "shell.execute_reply": "2020-12-01T10:24:08.057286Z",
     "shell.execute_reply.started": "2020-12-01T10:24:03.845429Z"
    }
   },
   "outputs": [],
   "source": [
    "import pandas as pd\n",
    "import tensorflow as tf\n",
    "from sklearn.model_selection import train_test_split"
   ]
  },
  {
   "cell_type": "markdown",
   "metadata": {},
   "source": [
    "### Read Raw data into Dataframe"
   ]
  },
  {
   "cell_type": "code",
   "execution_count": 2,
   "metadata": {
    "execution": {
     "iopub.execute_input": "2020-12-01T10:18:06.292870Z",
     "iopub.status.busy": "2020-12-01T10:18:06.291884Z",
     "iopub.status.idle": "2020-12-01T10:18:06.315081Z",
     "shell.execute_reply": "2020-12-01T10:18:06.313211Z",
     "shell.execute_reply.started": "2020-12-01T10:18:06.292735Z"
    }
   },
   "outputs": [],
   "source": [
    "heart_disease = pd.read_csv('dataset/heart.csv')"
   ]
  },
  {
   "cell_type": "code",
   "execution_count": 28,
   "metadata": {
    "execution": {
     "iopub.execute_input": "2020-12-01T11:35:45.854409Z",
     "iopub.status.busy": "2020-12-01T11:35:45.853782Z",
     "iopub.status.idle": "2020-12-01T11:35:45.922357Z",
     "shell.execute_reply": "2020-12-01T11:35:45.919647Z",
     "shell.execute_reply.started": "2020-12-01T11:35:45.854337Z"
    }
   },
   "outputs": [
    {
     "data": {
      "text/html": [
       "<div>\n",
       "<style scoped>\n",
       "    .dataframe tbody tr th:only-of-type {\n",
       "        vertical-align: middle;\n",
       "    }\n",
       "\n",
       "    .dataframe tbody tr th {\n",
       "        vertical-align: top;\n",
       "    }\n",
       "\n",
       "    .dataframe thead th {\n",
       "        text-align: right;\n",
       "    }\n",
       "</style>\n",
       "<table border=\"1\" class=\"dataframe\">\n",
       "  <thead>\n",
       "    <tr style=\"text-align: right;\">\n",
       "      <th></th>\n",
       "      <th>age</th>\n",
       "      <th>sex</th>\n",
       "      <th>cp</th>\n",
       "      <th>trestbps</th>\n",
       "      <th>chol</th>\n",
       "      <th>fbs</th>\n",
       "      <th>restecg</th>\n",
       "      <th>thalach</th>\n",
       "      <th>exang</th>\n",
       "      <th>oldpeak</th>\n",
       "      <th>slope</th>\n",
       "      <th>ca</th>\n",
       "      <th>thal</th>\n",
       "      <th>target</th>\n",
       "    </tr>\n",
       "  </thead>\n",
       "  <tbody>\n",
       "    <tr>\n",
       "      <th>0</th>\n",
       "      <td>63</td>\n",
       "      <td>1</td>\n",
       "      <td>1</td>\n",
       "      <td>145</td>\n",
       "      <td>233</td>\n",
       "      <td>1</td>\n",
       "      <td>2</td>\n",
       "      <td>150</td>\n",
       "      <td>0</td>\n",
       "      <td>2.3</td>\n",
       "      <td>3</td>\n",
       "      <td>0</td>\n",
       "      <td>fixed</td>\n",
       "      <td>0</td>\n",
       "    </tr>\n",
       "    <tr>\n",
       "      <th>1</th>\n",
       "      <td>67</td>\n",
       "      <td>1</td>\n",
       "      <td>4</td>\n",
       "      <td>160</td>\n",
       "      <td>286</td>\n",
       "      <td>0</td>\n",
       "      <td>2</td>\n",
       "      <td>108</td>\n",
       "      <td>1</td>\n",
       "      <td>1.5</td>\n",
       "      <td>2</td>\n",
       "      <td>3</td>\n",
       "      <td>normal</td>\n",
       "      <td>1</td>\n",
       "    </tr>\n",
       "    <tr>\n",
       "      <th>2</th>\n",
       "      <td>67</td>\n",
       "      <td>1</td>\n",
       "      <td>4</td>\n",
       "      <td>120</td>\n",
       "      <td>229</td>\n",
       "      <td>0</td>\n",
       "      <td>2</td>\n",
       "      <td>129</td>\n",
       "      <td>1</td>\n",
       "      <td>2.6</td>\n",
       "      <td>2</td>\n",
       "      <td>2</td>\n",
       "      <td>reversible</td>\n",
       "      <td>0</td>\n",
       "    </tr>\n",
       "    <tr>\n",
       "      <th>3</th>\n",
       "      <td>37</td>\n",
       "      <td>1</td>\n",
       "      <td>3</td>\n",
       "      <td>130</td>\n",
       "      <td>250</td>\n",
       "      <td>0</td>\n",
       "      <td>0</td>\n",
       "      <td>187</td>\n",
       "      <td>0</td>\n",
       "      <td>3.5</td>\n",
       "      <td>3</td>\n",
       "      <td>0</td>\n",
       "      <td>normal</td>\n",
       "      <td>0</td>\n",
       "    </tr>\n",
       "    <tr>\n",
       "      <th>4</th>\n",
       "      <td>41</td>\n",
       "      <td>0</td>\n",
       "      <td>2</td>\n",
       "      <td>130</td>\n",
       "      <td>204</td>\n",
       "      <td>0</td>\n",
       "      <td>2</td>\n",
       "      <td>172</td>\n",
       "      <td>0</td>\n",
       "      <td>1.4</td>\n",
       "      <td>1</td>\n",
       "      <td>0</td>\n",
       "      <td>normal</td>\n",
       "      <td>0</td>\n",
       "    </tr>\n",
       "    <tr>\n",
       "      <th>5</th>\n",
       "      <td>56</td>\n",
       "      <td>1</td>\n",
       "      <td>2</td>\n",
       "      <td>120</td>\n",
       "      <td>236</td>\n",
       "      <td>0</td>\n",
       "      <td>0</td>\n",
       "      <td>178</td>\n",
       "      <td>0</td>\n",
       "      <td>0.8</td>\n",
       "      <td>1</td>\n",
       "      <td>0</td>\n",
       "      <td>normal</td>\n",
       "      <td>0</td>\n",
       "    </tr>\n",
       "    <tr>\n",
       "      <th>6</th>\n",
       "      <td>62</td>\n",
       "      <td>0</td>\n",
       "      <td>4</td>\n",
       "      <td>140</td>\n",
       "      <td>268</td>\n",
       "      <td>0</td>\n",
       "      <td>2</td>\n",
       "      <td>160</td>\n",
       "      <td>0</td>\n",
       "      <td>3.6</td>\n",
       "      <td>3</td>\n",
       "      <td>2</td>\n",
       "      <td>normal</td>\n",
       "      <td>1</td>\n",
       "    </tr>\n",
       "    <tr>\n",
       "      <th>7</th>\n",
       "      <td>57</td>\n",
       "      <td>0</td>\n",
       "      <td>4</td>\n",
       "      <td>120</td>\n",
       "      <td>354</td>\n",
       "      <td>0</td>\n",
       "      <td>0</td>\n",
       "      <td>163</td>\n",
       "      <td>1</td>\n",
       "      <td>0.6</td>\n",
       "      <td>1</td>\n",
       "      <td>0</td>\n",
       "      <td>normal</td>\n",
       "      <td>0</td>\n",
       "    </tr>\n",
       "    <tr>\n",
       "      <th>8</th>\n",
       "      <td>63</td>\n",
       "      <td>1</td>\n",
       "      <td>4</td>\n",
       "      <td>130</td>\n",
       "      <td>254</td>\n",
       "      <td>0</td>\n",
       "      <td>2</td>\n",
       "      <td>147</td>\n",
       "      <td>0</td>\n",
       "      <td>1.4</td>\n",
       "      <td>2</td>\n",
       "      <td>1</td>\n",
       "      <td>reversible</td>\n",
       "      <td>1</td>\n",
       "    </tr>\n",
       "    <tr>\n",
       "      <th>9</th>\n",
       "      <td>53</td>\n",
       "      <td>1</td>\n",
       "      <td>4</td>\n",
       "      <td>140</td>\n",
       "      <td>203</td>\n",
       "      <td>1</td>\n",
       "      <td>2</td>\n",
       "      <td>155</td>\n",
       "      <td>1</td>\n",
       "      <td>3.1</td>\n",
       "      <td>3</td>\n",
       "      <td>0</td>\n",
       "      <td>reversible</td>\n",
       "      <td>0</td>\n",
       "    </tr>\n",
       "    <tr>\n",
       "      <th>10</th>\n",
       "      <td>57</td>\n",
       "      <td>1</td>\n",
       "      <td>4</td>\n",
       "      <td>140</td>\n",
       "      <td>192</td>\n",
       "      <td>0</td>\n",
       "      <td>0</td>\n",
       "      <td>148</td>\n",
       "      <td>0</td>\n",
       "      <td>0.4</td>\n",
       "      <td>2</td>\n",
       "      <td>0</td>\n",
       "      <td>fixed</td>\n",
       "      <td>0</td>\n",
       "    </tr>\n",
       "    <tr>\n",
       "      <th>11</th>\n",
       "      <td>56</td>\n",
       "      <td>0</td>\n",
       "      <td>2</td>\n",
       "      <td>140</td>\n",
       "      <td>294</td>\n",
       "      <td>0</td>\n",
       "      <td>2</td>\n",
       "      <td>153</td>\n",
       "      <td>0</td>\n",
       "      <td>1.3</td>\n",
       "      <td>2</td>\n",
       "      <td>0</td>\n",
       "      <td>normal</td>\n",
       "      <td>0</td>\n",
       "    </tr>\n",
       "    <tr>\n",
       "      <th>12</th>\n",
       "      <td>56</td>\n",
       "      <td>1</td>\n",
       "      <td>3</td>\n",
       "      <td>130</td>\n",
       "      <td>256</td>\n",
       "      <td>1</td>\n",
       "      <td>2</td>\n",
       "      <td>142</td>\n",
       "      <td>1</td>\n",
       "      <td>0.6</td>\n",
       "      <td>2</td>\n",
       "      <td>1</td>\n",
       "      <td>fixed</td>\n",
       "      <td>1</td>\n",
       "    </tr>\n",
       "    <tr>\n",
       "      <th>13</th>\n",
       "      <td>44</td>\n",
       "      <td>1</td>\n",
       "      <td>2</td>\n",
       "      <td>120</td>\n",
       "      <td>263</td>\n",
       "      <td>0</td>\n",
       "      <td>0</td>\n",
       "      <td>173</td>\n",
       "      <td>0</td>\n",
       "      <td>0.0</td>\n",
       "      <td>1</td>\n",
       "      <td>0</td>\n",
       "      <td>reversible</td>\n",
       "      <td>0</td>\n",
       "    </tr>\n",
       "    <tr>\n",
       "      <th>14</th>\n",
       "      <td>52</td>\n",
       "      <td>1</td>\n",
       "      <td>3</td>\n",
       "      <td>172</td>\n",
       "      <td>199</td>\n",
       "      <td>1</td>\n",
       "      <td>0</td>\n",
       "      <td>162</td>\n",
       "      <td>0</td>\n",
       "      <td>0.5</td>\n",
       "      <td>1</td>\n",
       "      <td>0</td>\n",
       "      <td>reversible</td>\n",
       "      <td>0</td>\n",
       "    </tr>\n",
       "    <tr>\n",
       "      <th>15</th>\n",
       "      <td>57</td>\n",
       "      <td>1</td>\n",
       "      <td>3</td>\n",
       "      <td>150</td>\n",
       "      <td>168</td>\n",
       "      <td>0</td>\n",
       "      <td>0</td>\n",
       "      <td>174</td>\n",
       "      <td>0</td>\n",
       "      <td>1.6</td>\n",
       "      <td>1</td>\n",
       "      <td>0</td>\n",
       "      <td>normal</td>\n",
       "      <td>0</td>\n",
       "    </tr>\n",
       "    <tr>\n",
       "      <th>16</th>\n",
       "      <td>48</td>\n",
       "      <td>1</td>\n",
       "      <td>2</td>\n",
       "      <td>110</td>\n",
       "      <td>229</td>\n",
       "      <td>0</td>\n",
       "      <td>0</td>\n",
       "      <td>168</td>\n",
       "      <td>0</td>\n",
       "      <td>1.0</td>\n",
       "      <td>3</td>\n",
       "      <td>0</td>\n",
       "      <td>reversible</td>\n",
       "      <td>0</td>\n",
       "    </tr>\n",
       "    <tr>\n",
       "      <th>17</th>\n",
       "      <td>54</td>\n",
       "      <td>1</td>\n",
       "      <td>4</td>\n",
       "      <td>140</td>\n",
       "      <td>239</td>\n",
       "      <td>0</td>\n",
       "      <td>0</td>\n",
       "      <td>160</td>\n",
       "      <td>0</td>\n",
       "      <td>1.2</td>\n",
       "      <td>1</td>\n",
       "      <td>0</td>\n",
       "      <td>normal</td>\n",
       "      <td>0</td>\n",
       "    </tr>\n",
       "    <tr>\n",
       "      <th>18</th>\n",
       "      <td>48</td>\n",
       "      <td>0</td>\n",
       "      <td>3</td>\n",
       "      <td>130</td>\n",
       "      <td>275</td>\n",
       "      <td>0</td>\n",
       "      <td>0</td>\n",
       "      <td>139</td>\n",
       "      <td>0</td>\n",
       "      <td>0.2</td>\n",
       "      <td>1</td>\n",
       "      <td>0</td>\n",
       "      <td>normal</td>\n",
       "      <td>0</td>\n",
       "    </tr>\n",
       "    <tr>\n",
       "      <th>19</th>\n",
       "      <td>49</td>\n",
       "      <td>1</td>\n",
       "      <td>2</td>\n",
       "      <td>130</td>\n",
       "      <td>266</td>\n",
       "      <td>0</td>\n",
       "      <td>0</td>\n",
       "      <td>171</td>\n",
       "      <td>0</td>\n",
       "      <td>0.6</td>\n",
       "      <td>1</td>\n",
       "      <td>0</td>\n",
       "      <td>normal</td>\n",
       "      <td>0</td>\n",
       "    </tr>\n",
       "    <tr>\n",
       "      <th>20</th>\n",
       "      <td>64</td>\n",
       "      <td>1</td>\n",
       "      <td>1</td>\n",
       "      <td>110</td>\n",
       "      <td>211</td>\n",
       "      <td>0</td>\n",
       "      <td>2</td>\n",
       "      <td>144</td>\n",
       "      <td>1</td>\n",
       "      <td>1.8</td>\n",
       "      <td>2</td>\n",
       "      <td>0</td>\n",
       "      <td>normal</td>\n",
       "      <td>0</td>\n",
       "    </tr>\n",
       "    <tr>\n",
       "      <th>21</th>\n",
       "      <td>58</td>\n",
       "      <td>0</td>\n",
       "      <td>1</td>\n",
       "      <td>150</td>\n",
       "      <td>283</td>\n",
       "      <td>1</td>\n",
       "      <td>2</td>\n",
       "      <td>162</td>\n",
       "      <td>0</td>\n",
       "      <td>1.0</td>\n",
       "      <td>1</td>\n",
       "      <td>0</td>\n",
       "      <td>normal</td>\n",
       "      <td>0</td>\n",
       "    </tr>\n",
       "    <tr>\n",
       "      <th>22</th>\n",
       "      <td>58</td>\n",
       "      <td>1</td>\n",
       "      <td>2</td>\n",
       "      <td>120</td>\n",
       "      <td>284</td>\n",
       "      <td>0</td>\n",
       "      <td>2</td>\n",
       "      <td>160</td>\n",
       "      <td>0</td>\n",
       "      <td>1.8</td>\n",
       "      <td>2</td>\n",
       "      <td>0</td>\n",
       "      <td>normal</td>\n",
       "      <td>0</td>\n",
       "    </tr>\n",
       "    <tr>\n",
       "      <th>23</th>\n",
       "      <td>58</td>\n",
       "      <td>1</td>\n",
       "      <td>3</td>\n",
       "      <td>132</td>\n",
       "      <td>224</td>\n",
       "      <td>0</td>\n",
       "      <td>2</td>\n",
       "      <td>173</td>\n",
       "      <td>0</td>\n",
       "      <td>3.2</td>\n",
       "      <td>1</td>\n",
       "      <td>2</td>\n",
       "      <td>reversible</td>\n",
       "      <td>1</td>\n",
       "    </tr>\n",
       "    <tr>\n",
       "      <th>24</th>\n",
       "      <td>60</td>\n",
       "      <td>1</td>\n",
       "      <td>4</td>\n",
       "      <td>130</td>\n",
       "      <td>206</td>\n",
       "      <td>0</td>\n",
       "      <td>2</td>\n",
       "      <td>132</td>\n",
       "      <td>1</td>\n",
       "      <td>2.4</td>\n",
       "      <td>2</td>\n",
       "      <td>2</td>\n",
       "      <td>reversible</td>\n",
       "      <td>1</td>\n",
       "    </tr>\n",
       "    <tr>\n",
       "      <th>25</th>\n",
       "      <td>50</td>\n",
       "      <td>0</td>\n",
       "      <td>3</td>\n",
       "      <td>120</td>\n",
       "      <td>219</td>\n",
       "      <td>0</td>\n",
       "      <td>0</td>\n",
       "      <td>158</td>\n",
       "      <td>0</td>\n",
       "      <td>1.6</td>\n",
       "      <td>2</td>\n",
       "      <td>0</td>\n",
       "      <td>normal</td>\n",
       "      <td>0</td>\n",
       "    </tr>\n",
       "    <tr>\n",
       "      <th>26</th>\n",
       "      <td>58</td>\n",
       "      <td>0</td>\n",
       "      <td>3</td>\n",
       "      <td>120</td>\n",
       "      <td>340</td>\n",
       "      <td>0</td>\n",
       "      <td>0</td>\n",
       "      <td>172</td>\n",
       "      <td>0</td>\n",
       "      <td>0.0</td>\n",
       "      <td>1</td>\n",
       "      <td>0</td>\n",
       "      <td>normal</td>\n",
       "      <td>0</td>\n",
       "    </tr>\n",
       "    <tr>\n",
       "      <th>27</th>\n",
       "      <td>66</td>\n",
       "      <td>0</td>\n",
       "      <td>1</td>\n",
       "      <td>150</td>\n",
       "      <td>226</td>\n",
       "      <td>0</td>\n",
       "      <td>0</td>\n",
       "      <td>114</td>\n",
       "      <td>0</td>\n",
       "      <td>2.6</td>\n",
       "      <td>3</td>\n",
       "      <td>0</td>\n",
       "      <td>normal</td>\n",
       "      <td>0</td>\n",
       "    </tr>\n",
       "    <tr>\n",
       "      <th>28</th>\n",
       "      <td>43</td>\n",
       "      <td>1</td>\n",
       "      <td>4</td>\n",
       "      <td>150</td>\n",
       "      <td>247</td>\n",
       "      <td>0</td>\n",
       "      <td>0</td>\n",
       "      <td>171</td>\n",
       "      <td>0</td>\n",
       "      <td>1.5</td>\n",
       "      <td>1</td>\n",
       "      <td>0</td>\n",
       "      <td>normal</td>\n",
       "      <td>0</td>\n",
       "    </tr>\n",
       "    <tr>\n",
       "      <th>29</th>\n",
       "      <td>40</td>\n",
       "      <td>1</td>\n",
       "      <td>4</td>\n",
       "      <td>110</td>\n",
       "      <td>167</td>\n",
       "      <td>0</td>\n",
       "      <td>2</td>\n",
       "      <td>114</td>\n",
       "      <td>1</td>\n",
       "      <td>2.0</td>\n",
       "      <td>2</td>\n",
       "      <td>0</td>\n",
       "      <td>reversible</td>\n",
       "      <td>1</td>\n",
       "    </tr>\n",
       "    <tr>\n",
       "      <th>30</th>\n",
       "      <td>69</td>\n",
       "      <td>0</td>\n",
       "      <td>1</td>\n",
       "      <td>140</td>\n",
       "      <td>239</td>\n",
       "      <td>0</td>\n",
       "      <td>0</td>\n",
       "      <td>151</td>\n",
       "      <td>0</td>\n",
       "      <td>1.8</td>\n",
       "      <td>1</td>\n",
       "      <td>2</td>\n",
       "      <td>normal</td>\n",
       "      <td>0</td>\n",
       "    </tr>\n",
       "    <tr>\n",
       "      <th>31</th>\n",
       "      <td>60</td>\n",
       "      <td>1</td>\n",
       "      <td>4</td>\n",
       "      <td>117</td>\n",
       "      <td>230</td>\n",
       "      <td>1</td>\n",
       "      <td>0</td>\n",
       "      <td>160</td>\n",
       "      <td>1</td>\n",
       "      <td>1.4</td>\n",
       "      <td>1</td>\n",
       "      <td>2</td>\n",
       "      <td>reversible</td>\n",
       "      <td>1</td>\n",
       "    </tr>\n",
       "  </tbody>\n",
       "</table>\n",
       "</div>"
      ],
      "text/plain": [
       "    age  sex  cp  trestbps  chol  fbs  restecg  thalach  exang  oldpeak  \\\n",
       "0    63    1   1       145   233    1        2      150      0      2.3   \n",
       "1    67    1   4       160   286    0        2      108      1      1.5   \n",
       "2    67    1   4       120   229    0        2      129      1      2.6   \n",
       "3    37    1   3       130   250    0        0      187      0      3.5   \n",
       "4    41    0   2       130   204    0        2      172      0      1.4   \n",
       "5    56    1   2       120   236    0        0      178      0      0.8   \n",
       "6    62    0   4       140   268    0        2      160      0      3.6   \n",
       "7    57    0   4       120   354    0        0      163      1      0.6   \n",
       "8    63    1   4       130   254    0        2      147      0      1.4   \n",
       "9    53    1   4       140   203    1        2      155      1      3.1   \n",
       "10   57    1   4       140   192    0        0      148      0      0.4   \n",
       "11   56    0   2       140   294    0        2      153      0      1.3   \n",
       "12   56    1   3       130   256    1        2      142      1      0.6   \n",
       "13   44    1   2       120   263    0        0      173      0      0.0   \n",
       "14   52    1   3       172   199    1        0      162      0      0.5   \n",
       "15   57    1   3       150   168    0        0      174      0      1.6   \n",
       "16   48    1   2       110   229    0        0      168      0      1.0   \n",
       "17   54    1   4       140   239    0        0      160      0      1.2   \n",
       "18   48    0   3       130   275    0        0      139      0      0.2   \n",
       "19   49    1   2       130   266    0        0      171      0      0.6   \n",
       "20   64    1   1       110   211    0        2      144      1      1.8   \n",
       "21   58    0   1       150   283    1        2      162      0      1.0   \n",
       "22   58    1   2       120   284    0        2      160      0      1.8   \n",
       "23   58    1   3       132   224    0        2      173      0      3.2   \n",
       "24   60    1   4       130   206    0        2      132      1      2.4   \n",
       "25   50    0   3       120   219    0        0      158      0      1.6   \n",
       "26   58    0   3       120   340    0        0      172      0      0.0   \n",
       "27   66    0   1       150   226    0        0      114      0      2.6   \n",
       "28   43    1   4       150   247    0        0      171      0      1.5   \n",
       "29   40    1   4       110   167    0        2      114      1      2.0   \n",
       "30   69    0   1       140   239    0        0      151      0      1.8   \n",
       "31   60    1   4       117   230    1        0      160      1      1.4   \n",
       "\n",
       "    slope  ca        thal  target  \n",
       "0       3   0       fixed       0  \n",
       "1       2   3      normal       1  \n",
       "2       2   2  reversible       0  \n",
       "3       3   0      normal       0  \n",
       "4       1   0      normal       0  \n",
       "5       1   0      normal       0  \n",
       "6       3   2      normal       1  \n",
       "7       1   0      normal       0  \n",
       "8       2   1  reversible       1  \n",
       "9       3   0  reversible       0  \n",
       "10      2   0       fixed       0  \n",
       "11      2   0      normal       0  \n",
       "12      2   1       fixed       1  \n",
       "13      1   0  reversible       0  \n",
       "14      1   0  reversible       0  \n",
       "15      1   0      normal       0  \n",
       "16      3   0  reversible       0  \n",
       "17      1   0      normal       0  \n",
       "18      1   0      normal       0  \n",
       "19      1   0      normal       0  \n",
       "20      2   0      normal       0  \n",
       "21      1   0      normal       0  \n",
       "22      2   0      normal       0  \n",
       "23      1   2  reversible       1  \n",
       "24      2   2  reversible       1  \n",
       "25      2   0      normal       0  \n",
       "26      1   0      normal       0  \n",
       "27      3   0      normal       0  \n",
       "28      1   0      normal       0  \n",
       "29      2   0  reversible       1  \n",
       "30      1   2      normal       0  \n",
       "31      1   2  reversible       1  "
      ]
     },
     "execution_count": 28,
     "metadata": {},
     "output_type": "execute_result"
    }
   ],
   "source": [
    "heart_disease.head(32)"
   ]
  },
  {
   "cell_type": "markdown",
   "metadata": {},
   "source": [
    "### Create Test, Train and Validation splits"
   ]
  },
  {
   "cell_type": "code",
   "execution_count": 4,
   "metadata": {
    "execution": {
     "iopub.execute_input": "2020-12-01T10:18:15.928679Z",
     "iopub.status.busy": "2020-12-01T10:18:15.928032Z",
     "iopub.status.idle": "2020-12-01T10:18:15.971153Z",
     "shell.execute_reply": "2020-12-01T10:18:15.969245Z",
     "shell.execute_reply.started": "2020-12-01T10:18:15.928590Z"
    }
   },
   "outputs": [],
   "source": [
    "train, test = train_test_split(heart_disease, test_size=0.2)\n",
    "train, validation = train_test_split(train, test_size=0.2)"
   ]
  },
  {
   "cell_type": "code",
   "execution_count": 5,
   "metadata": {
    "execution": {
     "iopub.execute_input": "2020-12-01T10:18:16.620403Z",
     "iopub.status.busy": "2020-12-01T10:18:16.619756Z",
     "iopub.status.idle": "2020-12-01T10:18:16.637148Z",
     "shell.execute_reply": "2020-12-01T10:18:16.634450Z",
     "shell.execute_reply.started": "2020-12-01T10:18:16.620331Z"
    }
   },
   "outputs": [
    {
     "name": "stdout",
     "output_type": "stream",
     "text": [
      "Train size 193\n",
      "Validaion size 49\n",
      "Test size 61\n"
     ]
    }
   ],
   "source": [
    "print('Train size', len(train))\n",
    "print('Validaion size', len(validation))\n",
    "print('Test size', len(test))"
   ]
  },
  {
   "cell_type": "markdown",
   "metadata": {},
   "source": [
    "### Create input Pipeline\n",
    "\n",
    "This is where we will take the data and transform it into a tf.data.dataset object for easy use.\n",
    "\n",
    "**Note: If the data is too large, i.e. the csv file is so large that it wont fit into memory then use tf.data to directly read it form the source rather than reading it using a dataframe first and then converting it into a tf.data.dataset object**"
   ]
  },
  {
   "cell_type": "code",
   "execution_count": 6,
   "metadata": {
    "execution": {
     "iopub.execute_input": "2020-12-01T10:22:53.712805Z",
     "iopub.status.busy": "2020-12-01T10:22:53.711989Z",
     "iopub.status.idle": "2020-12-01T10:22:53.727148Z",
     "shell.execute_reply": "2020-12-01T10:22:53.725019Z",
     "shell.execute_reply.started": "2020-12-01T10:22:53.712708Z"
    }
   },
   "outputs": [],
   "source": [
    "def df_to_ds(df, shuffle=False, batch_size=32):\n",
    "    df = df.copy()\n",
    "    labels = df.pop('target')\n",
    "    ds = tf.data.Dataset.from_tensor_slices((dict(df), labels))\n",
    "    if shuffle:\n",
    "        ds = ds.shuffle(buffer_size=len(df))\n",
    "    ds = ds.batch(batch_size)\n",
    "    return ds"
   ]
  },
  {
   "cell_type": "code",
   "execution_count": 10,
   "metadata": {
    "execution": {
     "iopub.execute_input": "2020-12-01T10:24:11.488500Z",
     "iopub.status.busy": "2020-12-01T10:24:11.488283Z",
     "iopub.status.idle": "2020-12-01T10:24:12.084205Z",
     "shell.execute_reply": "2020-12-01T10:24:12.081924Z",
     "shell.execute_reply.started": "2020-12-01T10:24:11.488478Z"
    }
   },
   "outputs": [],
   "source": [
    "train_ds = df_to_ds(train, True)\n",
    "validation_ds = df_to_ds(validation)\n",
    "test_ds = df_to_ds(test)"
   ]
  },
  {
   "cell_type": "markdown",
   "metadata": {},
   "source": [
    "### Checking the input pipeline"
   ]
  },
  {
   "cell_type": "code",
   "execution_count": 21,
   "metadata": {
    "execution": {
     "iopub.execute_input": "2020-12-01T10:29:22.409111Z",
     "iopub.status.busy": "2020-12-01T10:29:22.408460Z",
     "iopub.status.idle": "2020-12-01T10:29:22.441685Z",
     "shell.execute_reply": "2020-12-01T10:29:22.439675Z",
     "shell.execute_reply.started": "2020-12-01T10:29:22.409038Z"
    }
   },
   "outputs": [
    {
     "name": "stdout",
     "output_type": "stream",
     "text": [
      "Length of the batch:  32\n",
      "Keys in the feature batch ['age', 'sex', 'cp', 'trestbps', 'chol', 'fbs', 'restecg', 'thalach', 'exang', 'oldpeak', 'slope', 'ca', 'thal']\n"
     ]
    }
   ],
   "source": [
    "for feat_batch, label_batch in train_ds.take(1):\n",
    "    keys = list(feat_batch.keys())\n",
    "    len_batch = len(feat_batch[keys[0]])\n",
    "    print('Length of the batch: ', len_batch)\n",
    "    print('Keys in the feature batch', keys)"
   ]
  },
  {
   "cell_type": "markdown",
   "metadata": {},
   "source": [
    "### Checking numerous Feature Column\n",
    "\n",
    "The output of these feature columns is what will be given as input to the model we define."
   ]
  },
  {
   "cell_type": "code",
   "execution_count": 29,
   "metadata": {
    "execution": {
     "iopub.execute_input": "2020-12-01T11:35:58.428088Z",
     "iopub.status.busy": "2020-12-01T11:35:58.427500Z",
     "iopub.status.idle": "2020-12-01T11:35:58.461128Z",
     "shell.execute_reply": "2020-12-01T11:35:58.458395Z",
     "shell.execute_reply.started": "2020-12-01T11:35:58.428019Z"
    }
   },
   "outputs": [
    {
     "name": "stdout",
     "output_type": "stream",
     "text": [
      "<class 'dict'>\n"
     ]
    }
   ],
   "source": [
    "example_batch = next(iter(train_ds))[0]\n",
    "print(type(example_batch))"
   ]
  },
  {
   "cell_type": "markdown",
   "metadata": {},
   "source": [
    "#### Numeric Column\n",
    "\n",
    "This is used to give real valued input to the model. The data from the dataset goes unchanged in this case."
   ]
  },
  {
   "cell_type": "code",
   "execution_count": 30,
   "metadata": {
    "execution": {
     "iopub.execute_input": "2020-12-01T11:36:01.807523Z",
     "iopub.status.busy": "2020-12-01T11:36:01.806477Z",
     "iopub.status.idle": "2020-12-01T11:36:04.215066Z",
     "shell.execute_reply": "2020-12-01T11:36:04.212908Z",
     "shell.execute_reply.started": "2020-12-01T11:36:01.807392Z"
    }
   },
   "outputs": [
    {
     "name": "stdout",
     "output_type": "stream",
     "text": [
      "WARNING:tensorflow:Layer dense_features_1 is casting an input tensor from dtype float64 to the layer's dtype of float32, which is new behavior in TensorFlow 2.  The layer has dtype float32 because it's dtype defaults to floatx.\n",
      "\n",
      "If you intended to run this layer in float32, you can safely ignore this warning. If in doubt, this warning is likely only an issue if you are porting a TensorFlow 1.X model to TensorFlow 2.\n",
      "\n",
      "To change all layers to have dtype float64 by default, call `tf.keras.backend.set_floatx('float64')`. To change just this layer, pass dtype='float64' to the layer constructor. If you are the author of this layer, you can disable autocasting by passing autocast=False to the base Layer constructor.\n",
      "\n"
     ]
    },
    {
     "data": {
      "text/plain": [
       "<tf.Tensor: shape=(32, 1), dtype=float32, numpy=\n",
       "array([[57.],\n",
       "       [52.],\n",
       "       [63.],\n",
       "       [48.],\n",
       "       [56.],\n",
       "       [54.],\n",
       "       [45.],\n",
       "       [55.],\n",
       "       [64.],\n",
       "       [42.],\n",
       "       [39.],\n",
       "       [55.],\n",
       "       [42.],\n",
       "       [60.],\n",
       "       [63.],\n",
       "       [40.],\n",
       "       [57.],\n",
       "       [51.],\n",
       "       [43.],\n",
       "       [40.],\n",
       "       [64.],\n",
       "       [58.],\n",
       "       [49.],\n",
       "       [60.],\n",
       "       [68.],\n",
       "       [43.],\n",
       "       [62.],\n",
       "       [66.],\n",
       "       [58.],\n",
       "       [57.],\n",
       "       [43.],\n",
       "       [53.]], dtype=float32)>"
      ]
     },
     "execution_count": 30,
     "metadata": {},
     "output_type": "execute_result"
    }
   ],
   "source": [
    "age = tf.feature_column.numeric_column('age')\n",
    "feat_col = tf.keras.layers.DenseFeatures(age)\n",
    "feat_col(example_batch)"
   ]
  },
  {
   "cell_type": "markdown",
   "metadata": {},
   "source": [
    "#### Bucketized Column\n",
    "\n",
    "The values will be split and the values will be represented by the bucket the belong to after splitting.\n",
    "\n",
    "**Note: the input to the Bucketized column must be a Numeric Column object rather than the name of the column to be picked from the dataset**"
   ]
  },
  {
   "cell_type": "code",
   "execution_count": 32,
   "metadata": {
    "execution": {
     "iopub.execute_input": "2020-12-01T11:39:29.361881Z",
     "iopub.status.busy": "2020-12-01T11:39:29.361256Z",
     "iopub.status.idle": "2020-12-01T11:39:29.426119Z",
     "shell.execute_reply": "2020-12-01T11:39:29.423922Z",
     "shell.execute_reply.started": "2020-12-01T11:39:29.361809Z"
    }
   },
   "outputs": [
    {
     "name": "stdout",
     "output_type": "stream",
     "text": [
      "WARNING:tensorflow:Layer dense_features_2 is casting an input tensor from dtype float64 to the layer's dtype of float32, which is new behavior in TensorFlow 2.  The layer has dtype float32 because it's dtype defaults to floatx.\n",
      "\n",
      "If you intended to run this layer in float32, you can safely ignore this warning. If in doubt, this warning is likely only an issue if you are porting a TensorFlow 1.X model to TensorFlow 2.\n",
      "\n",
      "To change all layers to have dtype float64 by default, call `tf.keras.backend.set_floatx('float64')`. To change just this layer, pass dtype='float64' to the layer constructor. If you are the author of this layer, you can disable autocasting by passing autocast=False to the base Layer constructor.\n",
      "\n"
     ]
    },
    {
     "data": {
      "text/plain": [
       "<tf.Tensor: shape=(32, 12), dtype=float32, numpy=\n",
       "array([[0., 0., 0., 0., 0., 0., 0., 0., 1., 0., 0., 0.],\n",
       "       [0., 0., 0., 0., 0., 0., 0., 1., 0., 0., 0., 0.],\n",
       "       [0., 0., 0., 0., 0., 0., 0., 0., 0., 1., 0., 0.],\n",
       "       [0., 0., 0., 0., 0., 0., 1., 0., 0., 0., 0., 0.],\n",
       "       [0., 0., 0., 0., 0., 0., 0., 0., 1., 0., 0., 0.],\n",
       "       [0., 0., 0., 0., 0., 0., 0., 1., 0., 0., 0., 0.],\n",
       "       [0., 0., 0., 0., 0., 0., 1., 0., 0., 0., 0., 0.],\n",
       "       [0., 0., 0., 0., 0., 0., 0., 0., 1., 0., 0., 0.],\n",
       "       [0., 0., 0., 0., 0., 0., 0., 0., 0., 1., 0., 0.],\n",
       "       [0., 0., 0., 0., 0., 1., 0., 0., 0., 0., 0., 0.],\n",
       "       [0., 0., 0., 0., 1., 0., 0., 0., 0., 0., 0., 0.],\n",
       "       [0., 0., 0., 0., 0., 0., 0., 0., 1., 0., 0., 0.],\n",
       "       [0., 0., 0., 0., 0., 1., 0., 0., 0., 0., 0., 0.],\n",
       "       [0., 0., 0., 0., 0., 0., 0., 0., 0., 1., 0., 0.],\n",
       "       [0., 0., 0., 0., 0., 0., 0., 0., 0., 1., 0., 0.],\n",
       "       [0., 0., 0., 0., 0., 1., 0., 0., 0., 0., 0., 0.],\n",
       "       [0., 0., 0., 0., 0., 0., 0., 0., 1., 0., 0., 0.],\n",
       "       [0., 0., 0., 0., 0., 0., 0., 1., 0., 0., 0., 0.],\n",
       "       [0., 0., 0., 0., 0., 1., 0., 0., 0., 0., 0., 0.],\n",
       "       [0., 0., 0., 0., 0., 1., 0., 0., 0., 0., 0., 0.],\n",
       "       [0., 0., 0., 0., 0., 0., 0., 0., 0., 1., 0., 0.],\n",
       "       [0., 0., 0., 0., 0., 0., 0., 0., 1., 0., 0., 0.],\n",
       "       [0., 0., 0., 0., 0., 0., 1., 0., 0., 0., 0., 0.],\n",
       "       [0., 0., 0., 0., 0., 0., 0., 0., 0., 1., 0., 0.],\n",
       "       [0., 0., 0., 0., 0., 0., 0., 0., 0., 0., 1., 0.],\n",
       "       [0., 0., 0., 0., 0., 1., 0., 0., 0., 0., 0., 0.],\n",
       "       [0., 0., 0., 0., 0., 0., 0., 0., 0., 1., 0., 0.],\n",
       "       [0., 0., 0., 0., 0., 0., 0., 0., 0., 0., 1., 0.],\n",
       "       [0., 0., 0., 0., 0., 0., 0., 0., 1., 0., 0., 0.],\n",
       "       [0., 0., 0., 0., 0., 0., 0., 0., 1., 0., 0., 0.],\n",
       "       [0., 0., 0., 0., 0., 1., 0., 0., 0., 0., 0., 0.],\n",
       "       [0., 0., 0., 0., 0., 0., 0., 1., 0., 0., 0., 0.]], dtype=float32)>"
      ]
     },
     "execution_count": 32,
     "metadata": {},
     "output_type": "execute_result"
    }
   ],
   "source": [
    "age_bucket = tf.feature_column.bucketized_column(age, boundaries=[18, 25, 30, 35, 40, 45, 50, 55, 60, 65, 70])\n",
    "feat_col = tf.keras.layers.DenseFeatures(age_bucket)\n",
    "feat_col(example_batch)"
   ]
  },
  {
   "cell_type": "markdown",
   "metadata": {},
   "source": [
    "#### Categorical Columns\n",
    "\n",
    "Here the column that we want to convert will be a string rather than numeric data. As we can't pass the string data to the model, we convert it into a numeric value as in one-hot encoded value by passing a vocabulary to denote the value."
   ]
  },
  {
   "cell_type": "code",
   "execution_count": 33,
   "metadata": {
    "execution": {
     "iopub.execute_input": "2020-12-01T11:43:46.320220Z",
     "iopub.status.busy": "2020-12-01T11:43:46.319512Z",
     "iopub.status.idle": "2020-12-01T11:43:46.403411Z",
     "shell.execute_reply": "2020-12-01T11:43:46.400780Z",
     "shell.execute_reply.started": "2020-12-01T11:43:46.320139Z"
    }
   },
   "outputs": [
    {
     "name": "stdout",
     "output_type": "stream",
     "text": [
      "WARNING:tensorflow:Layer dense_features_3 is casting an input tensor from dtype float64 to the layer's dtype of float32, which is new behavior in TensorFlow 2.  The layer has dtype float32 because it's dtype defaults to floatx.\n",
      "\n",
      "If you intended to run this layer in float32, you can safely ignore this warning. If in doubt, this warning is likely only an issue if you are porting a TensorFlow 1.X model to TensorFlow 2.\n",
      "\n",
      "To change all layers to have dtype float64 by default, call `tf.keras.backend.set_floatx('float64')`. To change just this layer, pass dtype='float64' to the layer constructor. If you are the author of this layer, you can disable autocasting by passing autocast=False to the base Layer constructor.\n",
      "\n"
     ]
    },
    {
     "data": {
      "text/plain": [
       "<tf.Tensor: shape=(32, 3), dtype=float32, numpy=\n",
       "array([[0., 1., 0.],\n",
       "       [0., 1., 0.],\n",
       "       [0., 0., 1.],\n",
       "       [0., 1., 0.],\n",
       "       [0., 1., 0.],\n",
       "       [0., 1., 0.],\n",
       "       [0., 1., 0.],\n",
       "       [0., 0., 1.],\n",
       "       [0., 0., 1.],\n",
       "       [0., 1., 0.],\n",
       "       [0., 1., 0.],\n",
       "       [0., 1., 0.],\n",
       "       [0., 0., 1.],\n",
       "       [0., 0., 1.],\n",
       "       [0., 0., 1.],\n",
       "       [0., 0., 1.],\n",
       "       [0., 0., 1.],\n",
       "       [0., 1., 0.],\n",
       "       [0., 1., 0.],\n",
       "       [0., 0., 1.],\n",
       "       [0., 0., 1.],\n",
       "       [1., 0., 0.],\n",
       "       [0., 1., 0.],\n",
       "       [0., 0., 1.],\n",
       "       [0., 0., 1.],\n",
       "       [0., 1., 0.],\n",
       "       [0., 0., 1.],\n",
       "       [0., 1., 0.],\n",
       "       [0., 0., 1.],\n",
       "       [1., 0., 0.],\n",
       "       [0., 0., 1.],\n",
       "       [0., 1., 0.]], dtype=float32)>"
      ]
     },
     "execution_count": 33,
     "metadata": {},
     "output_type": "execute_result"
    }
   ],
   "source": [
    "thal = tf.feature_column.categorical_column_with_vocabulary_list('thal', ['fixed', 'normal', 'reversible'])\n",
    "thal_one_hot = tf.feature_column.indicator_column(thal)\n",
    "feat_col = tf.keras.layers.DenseFeatures(thal_one_hot)\n",
    "feat_col(example_batch)"
   ]
  },
  {
   "cell_type": "markdown",
   "metadata": {},
   "source": [
    "#### Embedding Columns\n",
    "\n",
    "In the above case, just in case of having few category, we have thousands of category then we cant convert them feasibly to a one-hot encoding. We in place of encoding them in one-hot vectors, we encode them into a dense vector with minimal number of 0s.\n",
    "\n",
    "**Note: here we need to pass the categorical_column_with_vocabulary_list object and not the name of the column**"
   ]
  },
  {
   "cell_type": "code",
   "execution_count": 34,
   "metadata": {
    "execution": {
     "iopub.execute_input": "2020-12-01T11:47:25.724399Z",
     "iopub.status.busy": "2020-12-01T11:47:25.723428Z",
     "iopub.status.idle": "2020-12-01T11:47:25.891386Z",
     "shell.execute_reply": "2020-12-01T11:47:25.889134Z",
     "shell.execute_reply.started": "2020-12-01T11:47:25.724281Z"
    }
   },
   "outputs": [
    {
     "name": "stdout",
     "output_type": "stream",
     "text": [
      "WARNING:tensorflow:Layer dense_features_4 is casting an input tensor from dtype float64 to the layer's dtype of float32, which is new behavior in TensorFlow 2.  The layer has dtype float32 because it's dtype defaults to floatx.\n",
      "\n",
      "If you intended to run this layer in float32, you can safely ignore this warning. If in doubt, this warning is likely only an issue if you are porting a TensorFlow 1.X model to TensorFlow 2.\n",
      "\n",
      "To change all layers to have dtype float64 by default, call `tf.keras.backend.set_floatx('float64')`. To change just this layer, pass dtype='float64' to the layer constructor. If you are the author of this layer, you can disable autocasting by passing autocast=False to the base Layer constructor.\n",
      "\n"
     ]
    },
    {
     "data": {
      "text/plain": [
       "<tf.Tensor: shape=(32, 8), dtype=float32, numpy=\n",
       "array([[ 0.0417821 ,  0.4522052 , -0.03355381,  0.5166072 , -0.02963242,\n",
       "         0.07643393, -0.1067495 , -0.51274467],\n",
       "       [ 0.0417821 ,  0.4522052 , -0.03355381,  0.5166072 , -0.02963242,\n",
       "         0.07643393, -0.1067495 , -0.51274467],\n",
       "       [-0.44705936,  0.5012992 , -0.3451139 , -0.6306948 , -0.01072552,\n",
       "         0.06884802, -0.5132365 , -0.16622813],\n",
       "       [ 0.0417821 ,  0.4522052 , -0.03355381,  0.5166072 , -0.02963242,\n",
       "         0.07643393, -0.1067495 , -0.51274467],\n",
       "       [ 0.0417821 ,  0.4522052 , -0.03355381,  0.5166072 , -0.02963242,\n",
       "         0.07643393, -0.1067495 , -0.51274467],\n",
       "       [ 0.0417821 ,  0.4522052 , -0.03355381,  0.5166072 , -0.02963242,\n",
       "         0.07643393, -0.1067495 , -0.51274467],\n",
       "       [ 0.0417821 ,  0.4522052 , -0.03355381,  0.5166072 , -0.02963242,\n",
       "         0.07643393, -0.1067495 , -0.51274467],\n",
       "       [-0.44705936,  0.5012992 , -0.3451139 , -0.6306948 , -0.01072552,\n",
       "         0.06884802, -0.5132365 , -0.16622813],\n",
       "       [-0.44705936,  0.5012992 , -0.3451139 , -0.6306948 , -0.01072552,\n",
       "         0.06884802, -0.5132365 , -0.16622813],\n",
       "       [ 0.0417821 ,  0.4522052 , -0.03355381,  0.5166072 , -0.02963242,\n",
       "         0.07643393, -0.1067495 , -0.51274467],\n",
       "       [ 0.0417821 ,  0.4522052 , -0.03355381,  0.5166072 , -0.02963242,\n",
       "         0.07643393, -0.1067495 , -0.51274467],\n",
       "       [ 0.0417821 ,  0.4522052 , -0.03355381,  0.5166072 , -0.02963242,\n",
       "         0.07643393, -0.1067495 , -0.51274467],\n",
       "       [-0.44705936,  0.5012992 , -0.3451139 , -0.6306948 , -0.01072552,\n",
       "         0.06884802, -0.5132365 , -0.16622813],\n",
       "       [-0.44705936,  0.5012992 , -0.3451139 , -0.6306948 , -0.01072552,\n",
       "         0.06884802, -0.5132365 , -0.16622813],\n",
       "       [-0.44705936,  0.5012992 , -0.3451139 , -0.6306948 , -0.01072552,\n",
       "         0.06884802, -0.5132365 , -0.16622813],\n",
       "       [-0.44705936,  0.5012992 , -0.3451139 , -0.6306948 , -0.01072552,\n",
       "         0.06884802, -0.5132365 , -0.16622813],\n",
       "       [-0.44705936,  0.5012992 , -0.3451139 , -0.6306948 , -0.01072552,\n",
       "         0.06884802, -0.5132365 , -0.16622813],\n",
       "       [ 0.0417821 ,  0.4522052 , -0.03355381,  0.5166072 , -0.02963242,\n",
       "         0.07643393, -0.1067495 , -0.51274467],\n",
       "       [ 0.0417821 ,  0.4522052 , -0.03355381,  0.5166072 , -0.02963242,\n",
       "         0.07643393, -0.1067495 , -0.51274467],\n",
       "       [-0.44705936,  0.5012992 , -0.3451139 , -0.6306948 , -0.01072552,\n",
       "         0.06884802, -0.5132365 , -0.16622813],\n",
       "       [-0.44705936,  0.5012992 , -0.3451139 , -0.6306948 , -0.01072552,\n",
       "         0.06884802, -0.5132365 , -0.16622813],\n",
       "       [ 0.29967022, -0.53977513, -0.08740915,  0.02632249, -0.18213189,\n",
       "        -0.4406487 ,  0.3153813 , -0.03392383],\n",
       "       [ 0.0417821 ,  0.4522052 , -0.03355381,  0.5166072 , -0.02963242,\n",
       "         0.07643393, -0.1067495 , -0.51274467],\n",
       "       [-0.44705936,  0.5012992 , -0.3451139 , -0.6306948 , -0.01072552,\n",
       "         0.06884802, -0.5132365 , -0.16622813],\n",
       "       [-0.44705936,  0.5012992 , -0.3451139 , -0.6306948 , -0.01072552,\n",
       "         0.06884802, -0.5132365 , -0.16622813],\n",
       "       [ 0.0417821 ,  0.4522052 , -0.03355381,  0.5166072 , -0.02963242,\n",
       "         0.07643393, -0.1067495 , -0.51274467],\n",
       "       [-0.44705936,  0.5012992 , -0.3451139 , -0.6306948 , -0.01072552,\n",
       "         0.06884802, -0.5132365 , -0.16622813],\n",
       "       [ 0.0417821 ,  0.4522052 , -0.03355381,  0.5166072 , -0.02963242,\n",
       "         0.07643393, -0.1067495 , -0.51274467],\n",
       "       [-0.44705936,  0.5012992 , -0.3451139 , -0.6306948 , -0.01072552,\n",
       "         0.06884802, -0.5132365 , -0.16622813],\n",
       "       [ 0.29967022, -0.53977513, -0.08740915,  0.02632249, -0.18213189,\n",
       "        -0.4406487 ,  0.3153813 , -0.03392383],\n",
       "       [-0.44705936,  0.5012992 , -0.3451139 , -0.6306948 , -0.01072552,\n",
       "         0.06884802, -0.5132365 , -0.16622813],\n",
       "       [ 0.0417821 ,  0.4522052 , -0.03355381,  0.5166072 , -0.02963242,\n",
       "         0.07643393, -0.1067495 , -0.51274467]], dtype=float32)>"
      ]
     },
     "execution_count": 34,
     "metadata": {},
     "output_type": "execute_result"
    }
   ],
   "source": [
    "thal_embedding = tf.feature_column.embedding_column(thal, dimension=8)\n",
    "feat_col = tf.keras.layers.DenseFeatures(thal_embedding)\n",
    "feat_col(example_batch)"
   ]
  },
  {
   "cell_type": "markdown",
   "metadata": {},
   "source": [
    "#### Hashed Feature Column\n",
    "\n",
    "Here we se the feature_column_with_hashed_bucket method. We don't need to provide any vocabulary. It will be taken care by the method.\n",
    "\n",
    "Only issues is that if the hash_bucket_size is not big enough to map all the possible values, then there can be collision and we can mis-represent some values."
   ]
  },
  {
   "cell_type": "code",
   "execution_count": 37,
   "metadata": {
    "execution": {
     "iopub.execute_input": "2020-12-01T11:50:51.439879Z",
     "iopub.status.busy": "2020-12-01T11:50:51.439219Z",
     "iopub.status.idle": "2020-12-01T11:50:51.494365Z",
     "shell.execute_reply": "2020-12-01T11:50:51.491824Z",
     "shell.execute_reply.started": "2020-12-01T11:50:51.439804Z"
    }
   },
   "outputs": [
    {
     "name": "stdout",
     "output_type": "stream",
     "text": [
      "WARNING:tensorflow:Layer dense_features_6 is casting an input tensor from dtype float64 to the layer's dtype of float32, which is new behavior in TensorFlow 2.  The layer has dtype float32 because it's dtype defaults to floatx.\n",
      "\n",
      "If you intended to run this layer in float32, you can safely ignore this warning. If in doubt, this warning is likely only an issue if you are porting a TensorFlow 1.X model to TensorFlow 2.\n",
      "\n",
      "To change all layers to have dtype float64 by default, call `tf.keras.backend.set_floatx('float64')`. To change just this layer, pass dtype='float64' to the layer constructor. If you are the author of this layer, you can disable autocasting by passing autocast=False to the base Layer constructor.\n",
      "\n"
     ]
    },
    {
     "data": {
      "text/plain": [
       "<tf.Tensor: shape=(32, 1000), dtype=float32, numpy=\n",
       "array([[0., 0., 0., ..., 0., 0., 0.],\n",
       "       [0., 0., 0., ..., 0., 0., 0.],\n",
       "       [0., 0., 0., ..., 0., 0., 0.],\n",
       "       ...,\n",
       "       [0., 0., 0., ..., 0., 0., 0.],\n",
       "       [0., 0., 0., ..., 0., 0., 0.],\n",
       "       [0., 0., 0., ..., 0., 0., 0.]], dtype=float32)>"
      ]
     },
     "execution_count": 37,
     "metadata": {},
     "output_type": "execute_result"
    }
   ],
   "source": [
    "thal_hashed = tf.feature_column.categorical_column_with_hash_bucket('thal', hash_bucket_size=1000)\n",
    "thal_hashed_col = tf.feature_column.indicator_column(thal_hashed)\n",
    "feat_col = tf.keras.layers.DenseFeatures(thal_hashed_col)\n",
    "feat_col(example_batch)"
   ]
  },
  {
   "cell_type": "markdown",
   "metadata": {},
   "source": [
    "#### Crossed Feature Columns\n",
    "\n",
    "Here we create new feature columns by combining more than columns so that the model can learn separate weights for complex features."
   ]
  },
  {
   "cell_type": "code",
   "execution_count": 38,
   "metadata": {
    "execution": {
     "iopub.execute_input": "2020-12-01T11:54:22.812952Z",
     "iopub.status.busy": "2020-12-01T11:54:22.812287Z",
     "iopub.status.idle": "2020-12-01T11:54:22.904382Z",
     "shell.execute_reply": "2020-12-01T11:54:22.902088Z",
     "shell.execute_reply.started": "2020-12-01T11:54:22.812877Z"
    }
   },
   "outputs": [
    {
     "name": "stdout",
     "output_type": "stream",
     "text": [
      "WARNING:tensorflow:Layer dense_features_7 is casting an input tensor from dtype float64 to the layer's dtype of float32, which is new behavior in TensorFlow 2.  The layer has dtype float32 because it's dtype defaults to floatx.\n",
      "\n",
      "If you intended to run this layer in float32, you can safely ignore this warning. If in doubt, this warning is likely only an issue if you are porting a TensorFlow 1.X model to TensorFlow 2.\n",
      "\n",
      "To change all layers to have dtype float64 by default, call `tf.keras.backend.set_floatx('float64')`. To change just this layer, pass dtype='float64' to the layer constructor. If you are the author of this layer, you can disable autocasting by passing autocast=False to the base Layer constructor.\n",
      "\n"
     ]
    },
    {
     "data": {
      "text/plain": [
       "<tf.Tensor: shape=(32, 1000), dtype=float32, numpy=\n",
       "array([[0., 0., 0., ..., 0., 0., 0.],\n",
       "       [0., 0., 0., ..., 0., 0., 0.],\n",
       "       [0., 0., 0., ..., 0., 0., 0.],\n",
       "       ...,\n",
       "       [0., 0., 0., ..., 0., 0., 0.],\n",
       "       [0., 0., 0., ..., 0., 0., 0.],\n",
       "       [0., 0., 0., ..., 0., 0., 0.]], dtype=float32)>"
      ]
     },
     "execution_count": 38,
     "metadata": {},
     "output_type": "execute_result"
    }
   ],
   "source": [
    "crossed_feat = tf.feature_column.crossed_column([age_bucket, thal], hash_bucket_size=1000)\n",
    "crossed_feat_col = tf.feature_column.indicator_column(crossed_feat)\n",
    "feat_col = tf.keras.layers.DenseFeatures(crossed_feat_col)\n",
    "feat_col(example_batch)"
   ]
  },
  {
   "cell_type": "markdown",
   "metadata": {},
   "source": [
    "### Creating the Feature Columns\n",
    "\n",
    "Now that we have seen what all feat columns we can create, lets create some real feat columsn for our dataset."
   ]
  },
  {
   "cell_type": "code",
   "execution_count": 41,
   "metadata": {
    "execution": {
     "iopub.execute_input": "2020-12-01T12:04:37.664695Z",
     "iopub.status.busy": "2020-12-01T12:04:37.664091Z",
     "iopub.status.idle": "2020-12-01T12:04:37.681543Z",
     "shell.execute_reply": "2020-12-01T12:04:37.679690Z",
     "shell.execute_reply.started": "2020-12-01T12:04:37.664626Z"
    }
   },
   "outputs": [],
   "source": [
    "feature_columns = []\n",
    "\n",
    "# numeric feat col\n",
    "for col in ['age', 'trestbps', 'chol', 'thalach', 'oldpeak', 'slope', 'ca']:\n",
    "    feature_columns.append(tf.feature_column.numeric_column(col))\n",
    "    \n",
    "# bucketized feat col\n",
    "age_bucket = tf.feature_column.bucketized_column(age, boundaries=[18,20, 25, 30, 35, 40, 45, 50, 55, 60, 65, 70])\n",
    "feature_columns.append(age_bucket)\n",
    "\n",
    "# indicator feat cols\n",
    "thal = tf.feature_column.categorical_column_with_vocabulary_list('thal', ['fixed', 'normal', 'reversible'])\n",
    "thal_one_hot = tf.feature_column.indicator_column(thal)\n",
    "feature_columns.append(thal_one_hot)\n",
    "\n",
    "# embedding feat cols\n",
    "thal_embedding = tf.feature_column.embedding_column(thal, dimension=8)\n",
    "feature_columns.append(thal_embedding)\n",
    "\n",
    "# crossed feat cols\n",
    "crossed_feat = tf.feature_column.crossed_column([age_bucket, thal], hash_bucket_size=1000)\n",
    "crossed_feat_col = tf.feature_column.indicator_column(crossed_feat)\n",
    "feature_columns.append(crossed_feat_col)"
   ]
  },
  {
   "cell_type": "markdown",
   "metadata": {},
   "source": [
    "### Create an input layer for the model"
   ]
  },
  {
   "cell_type": "code",
   "execution_count": 42,
   "metadata": {
    "execution": {
     "iopub.execute_input": "2020-12-01T12:04:38.819811Z",
     "iopub.status.busy": "2020-12-01T12:04:38.818760Z",
     "iopub.status.idle": "2020-12-01T12:04:38.839493Z",
     "shell.execute_reply": "2020-12-01T12:04:38.837284Z",
     "shell.execute_reply.started": "2020-12-01T12:04:38.819678Z"
    }
   },
   "outputs": [],
   "source": [
    "feature_layer = tf.keras.layers.DenseFeatures(feature_columns)"
   ]
  },
  {
   "cell_type": "markdown",
   "metadata": {},
   "source": [
    "### Model Section"
   ]
  },
  {
   "cell_type": "code",
   "execution_count": 43,
   "metadata": {
    "execution": {
     "iopub.execute_input": "2020-12-01T12:06:08.381715Z",
     "iopub.status.busy": "2020-12-01T12:06:08.381027Z",
     "iopub.status.idle": "2020-12-01T12:06:08.412470Z",
     "shell.execute_reply": "2020-12-01T12:06:08.409956Z",
     "shell.execute_reply.started": "2020-12-01T12:06:08.381618Z"
    }
   },
   "outputs": [],
   "source": [
    "model = tf.keras.models.Sequential([\n",
    "    feature_layer,\n",
    "    tf.keras.layers.Dense(128, activation='relu'),\n",
    "    tf.keras.layers.Dense(128, activation='relu'),\n",
    "    tf.keras.layers.Dense(1, activation='sigmoid')\n",
    "])"
   ]
  },
  {
   "cell_type": "code",
   "execution_count": 45,
   "metadata": {
    "execution": {
     "iopub.execute_input": "2020-12-01T12:06:48.213208Z",
     "iopub.status.busy": "2020-12-01T12:06:48.212620Z",
     "iopub.status.idle": "2020-12-01T12:06:48.256883Z",
     "shell.execute_reply": "2020-12-01T12:06:48.254505Z",
     "shell.execute_reply.started": "2020-12-01T12:06:48.213139Z"
    }
   },
   "outputs": [],
   "source": [
    "model.compile(optimizer='adam', loss='binary_crossentropy', metrics=['accuracy'])"
   ]
  },
  {
   "cell_type": "code",
   "execution_count": 49,
   "metadata": {
    "execution": {
     "iopub.execute_input": "2020-12-01T12:08:07.643905Z",
     "iopub.status.busy": "2020-12-01T12:08:07.643265Z",
     "iopub.status.idle": "2020-12-01T12:08:13.693922Z",
     "shell.execute_reply": "2020-12-01T12:08:13.692161Z",
     "shell.execute_reply.started": "2020-12-01T12:08:07.643830Z"
    }
   },
   "outputs": [
    {
     "name": "stdout",
     "output_type": "stream",
     "text": [
      "Epoch 1/50\n",
      "7/7 [==============================] - 0s 18ms/step - loss: 0.3780 - accuracy: 0.8342 - val_loss: 0.5891 - val_accuracy: 0.7347\n",
      "Epoch 2/50\n",
      "7/7 [==============================] - 0s 15ms/step - loss: 0.4412 - accuracy: 0.7876 - val_loss: 0.5417 - val_accuracy: 0.7347\n",
      "Epoch 3/50\n",
      "7/7 [==============================] - 0s 6ms/step - loss: 0.3958 - accuracy: 0.8290 - val_loss: 0.5143 - val_accuracy: 0.7143\n",
      "Epoch 4/50\n",
      "7/7 [==============================] - 0s 6ms/step - loss: 0.3900 - accuracy: 0.8083 - val_loss: 0.5278 - val_accuracy: 0.7143\n",
      "Epoch 5/50\n",
      "7/7 [==============================] - 0s 6ms/step - loss: 0.3649 - accuracy: 0.8446 - val_loss: 0.4938 - val_accuracy: 0.7347\n",
      "Epoch 6/50\n",
      "7/7 [==============================] - 0s 7ms/step - loss: 0.3742 - accuracy: 0.8446 - val_loss: 0.5436 - val_accuracy: 0.7143\n",
      "Epoch 7/50\n",
      "7/7 [==============================] - 0s 6ms/step - loss: 0.4119 - accuracy: 0.8135 - val_loss: 0.6072 - val_accuracy: 0.7143\n",
      "Epoch 8/50\n",
      "7/7 [==============================] - 0s 16ms/step - loss: 0.4068 - accuracy: 0.7876 - val_loss: 0.5894 - val_accuracy: 0.7143\n",
      "Epoch 9/50\n",
      "7/7 [==============================] - 0s 15ms/step - loss: 0.3768 - accuracy: 0.8290 - val_loss: 0.6102 - val_accuracy: 0.6939\n",
      "Epoch 10/50\n",
      "7/7 [==============================] - 0s 7ms/step - loss: 0.5114 - accuracy: 0.7720 - val_loss: 0.6461 - val_accuracy: 0.7143\n",
      "Epoch 11/50\n",
      "7/7 [==============================] - 0s 6ms/step - loss: 0.4038 - accuracy: 0.7617 - val_loss: 0.6513 - val_accuracy: 0.7551\n",
      "Epoch 12/50\n",
      "7/7 [==============================] - 0s 6ms/step - loss: 0.3903 - accuracy: 0.8446 - val_loss: 0.8512 - val_accuracy: 0.6939\n",
      "Epoch 13/50\n",
      "7/7 [==============================] - 0s 6ms/step - loss: 1.3398 - accuracy: 0.7150 - val_loss: 0.7442 - val_accuracy: 0.7143\n",
      "Epoch 14/50\n",
      "7/7 [==============================] - 0s 7ms/step - loss: 0.6198 - accuracy: 0.7254 - val_loss: 0.4829 - val_accuracy: 0.7347\n",
      "Epoch 15/50\n",
      "7/7 [==============================] - 0s 7ms/step - loss: 0.5171 - accuracy: 0.7617 - val_loss: 0.6314 - val_accuracy: 0.7347\n",
      "Epoch 16/50\n",
      "7/7 [==============================] - 0s 10ms/step - loss: 0.4252 - accuracy: 0.8083 - val_loss: 0.6432 - val_accuracy: 0.6735\n",
      "Epoch 17/50\n",
      "7/7 [==============================] - 0s 15ms/step - loss: 0.3632 - accuracy: 0.8238 - val_loss: 0.5954 - val_accuracy: 0.7347\n",
      "Epoch 18/50\n",
      "7/7 [==============================] - 0s 19ms/step - loss: 0.4102 - accuracy: 0.7720 - val_loss: 0.6564 - val_accuracy: 0.6939\n",
      "Epoch 19/50\n",
      "7/7 [==============================] - 0s 19ms/step - loss: 0.4770 - accuracy: 0.7565 - val_loss: 0.5405 - val_accuracy: 0.7143\n",
      "Epoch 20/50\n",
      "7/7 [==============================] - 0s 8ms/step - loss: 0.4416 - accuracy: 0.7617 - val_loss: 0.5871 - val_accuracy: 0.7143\n",
      "Epoch 21/50\n",
      "7/7 [==============================] - 0s 7ms/step - loss: 0.4188 - accuracy: 0.8031 - val_loss: 0.5416 - val_accuracy: 0.7143\n",
      "Epoch 22/50\n",
      "7/7 [==============================] - 0s 7ms/step - loss: 0.3958 - accuracy: 0.7720 - val_loss: 0.5185 - val_accuracy: 0.7143\n",
      "Epoch 23/50\n",
      "7/7 [==============================] - 0s 7ms/step - loss: 0.3441 - accuracy: 0.8446 - val_loss: 0.4936 - val_accuracy: 0.7347\n",
      "Epoch 24/50\n",
      "7/7 [==============================] - 0s 9ms/step - loss: 0.3763 - accuracy: 0.7876 - val_loss: 0.4902 - val_accuracy: 0.7143\n",
      "Epoch 25/50\n",
      "7/7 [==============================] - 0s 15ms/step - loss: 0.3296 - accuracy: 0.8497 - val_loss: 0.4934 - val_accuracy: 0.6939\n",
      "Epoch 26/50\n",
      "7/7 [==============================] - 0s 19ms/step - loss: 0.3308 - accuracy: 0.8497 - val_loss: 0.4821 - val_accuracy: 0.7347\n",
      "Epoch 27/50\n",
      "7/7 [==============================] - 0s 16ms/step - loss: 0.3368 - accuracy: 0.8446 - val_loss: 0.5105 - val_accuracy: 0.7347\n",
      "Epoch 28/50\n",
      "7/7 [==============================] - 0s 17ms/step - loss: 0.3377 - accuracy: 0.8446 - val_loss: 0.4921 - val_accuracy: 0.7347\n",
      "Epoch 29/50\n",
      "7/7 [==============================] - 0s 16ms/step - loss: 0.3703 - accuracy: 0.8135 - val_loss: 0.4870 - val_accuracy: 0.7347\n",
      "Epoch 30/50\n",
      "7/7 [==============================] - 0s 17ms/step - loss: 0.3389 - accuracy: 0.8290 - val_loss: 0.4964 - val_accuracy: 0.7143\n",
      "Epoch 31/50\n",
      "7/7 [==============================] - 0s 16ms/step - loss: 0.3565 - accuracy: 0.8342 - val_loss: 0.5468 - val_accuracy: 0.7347\n",
      "Epoch 32/50\n",
      "7/7 [==============================] - 0s 19ms/step - loss: 0.3782 - accuracy: 0.8497 - val_loss: 0.5379 - val_accuracy: 0.7347\n",
      "Epoch 33/50\n",
      "7/7 [==============================] - 0s 21ms/step - loss: 0.3372 - accuracy: 0.8342 - val_loss: 0.5468 - val_accuracy: 0.7143\n",
      "Epoch 34/50\n",
      "7/7 [==============================] - 0s 18ms/step - loss: 0.3496 - accuracy: 0.8342 - val_loss: 0.5710 - val_accuracy: 0.7551\n",
      "Epoch 35/50\n",
      "7/7 [==============================] - 0s 17ms/step - loss: 0.3601 - accuracy: 0.8342 - val_loss: 0.5393 - val_accuracy: 0.7143\n",
      "Epoch 36/50\n",
      "7/7 [==============================] - 0s 16ms/step - loss: 0.3181 - accuracy: 0.8446 - val_loss: 0.5357 - val_accuracy: 0.7347\n",
      "Epoch 37/50\n",
      "7/7 [==============================] - 0s 17ms/step - loss: 0.3173 - accuracy: 0.8601 - val_loss: 0.5144 - val_accuracy: 0.7143\n",
      "Epoch 38/50\n",
      "7/7 [==============================] - 0s 17ms/step - loss: 0.3143 - accuracy: 0.8497 - val_loss: 0.5055 - val_accuracy: 0.7551\n",
      "Epoch 39/50\n",
      "7/7 [==============================] - 0s 16ms/step - loss: 0.3034 - accuracy: 0.8653 - val_loss: 0.5506 - val_accuracy: 0.7347\n",
      "Epoch 40/50\n",
      "7/7 [==============================] - 0s 16ms/step - loss: 0.3570 - accuracy: 0.8446 - val_loss: 0.5851 - val_accuracy: 0.7347\n",
      "Epoch 41/50\n",
      "7/7 [==============================] - 0s 17ms/step - loss: 0.4518 - accuracy: 0.7720 - val_loss: 0.4879 - val_accuracy: 0.7143\n",
      "Epoch 42/50\n",
      "7/7 [==============================] - 0s 16ms/step - loss: 0.2967 - accuracy: 0.8446 - val_loss: 0.5169 - val_accuracy: 0.7551\n",
      "Epoch 43/50\n",
      "7/7 [==============================] - 0s 16ms/step - loss: 0.3023 - accuracy: 0.8446 - val_loss: 0.5136 - val_accuracy: 0.7143\n",
      "Epoch 44/50\n",
      "7/7 [==============================] - 0s 17ms/step - loss: 0.2985 - accuracy: 0.8549 - val_loss: 0.5039 - val_accuracy: 0.7143\n",
      "Epoch 45/50\n",
      "7/7 [==============================] - 0s 21ms/step - loss: 0.2976 - accuracy: 0.8497 - val_loss: 0.5108 - val_accuracy: 0.7959\n",
      "Epoch 46/50\n",
      "7/7 [==============================] - 0s 18ms/step - loss: 0.2969 - accuracy: 0.8549 - val_loss: 0.4972 - val_accuracy: 0.7755\n",
      "Epoch 47/50\n",
      "7/7 [==============================] - 0s 18ms/step - loss: 0.2932 - accuracy: 0.8446 - val_loss: 0.4890 - val_accuracy: 0.7551\n",
      "Epoch 48/50\n",
      "7/7 [==============================] - 0s 6ms/step - loss: 0.2917 - accuracy: 0.8394 - val_loss: 0.4962 - val_accuracy: 0.7551\n",
      "Epoch 49/50\n",
      "7/7 [==============================] - 0s 7ms/step - loss: 0.3092 - accuracy: 0.8549 - val_loss: 0.5952 - val_accuracy: 0.7551\n",
      "Epoch 50/50\n",
      "7/7 [==============================] - 0s 19ms/step - loss: 0.3236 - accuracy: 0.8290 - val_loss: 0.6000 - val_accuracy: 0.7143\n"
     ]
    },
    {
     "data": {
      "text/plain": [
       "<tensorflow.python.keras.callbacks.History at 0x7f6d60719ca0>"
      ]
     },
     "execution_count": 49,
     "metadata": {},
     "output_type": "execute_result"
    }
   ],
   "source": [
    "model.fit(train_ds, validation_data=validation_ds, epochs=50)"
   ]
  },
  {
   "cell_type": "code",
   "execution_count": 50,
   "metadata": {
    "execution": {
     "iopub.execute_input": "2020-12-01T12:08:45.906240Z",
     "iopub.status.busy": "2020-12-01T12:08:45.905486Z",
     "iopub.status.idle": "2020-12-01T12:08:45.982508Z",
     "shell.execute_reply": "2020-12-01T12:08:45.980627Z",
     "shell.execute_reply.started": "2020-12-01T12:08:45.906097Z"
    }
   },
   "outputs": [
    {
     "name": "stdout",
     "output_type": "stream",
     "text": [
      "2/2 [==============================] - 0s 6ms/step - loss: 0.4037 - accuracy: 0.8525\n",
      "Accuracy:  0.8524590134620667\n"
     ]
    }
   ],
   "source": [
    "loss, accuracy = model.evaluate(test_ds)\n",
    "print('Accuracy: ', accuracy)"
   ]
  },
  {
   "cell_type": "code",
   "execution_count": null,
   "metadata": {},
   "outputs": [],
   "source": []
  }
 ],
 "metadata": {
  "kernelspec": {
   "display_name": "Python 3",
   "language": "python",
   "name": "python3"
  },
  "language_info": {
   "codemirror_mode": {
    "name": "ipython",
    "version": 3
   },
   "file_extension": ".py",
   "mimetype": "text/x-python",
   "name": "python",
   "nbconvert_exporter": "python",
   "pygments_lexer": "ipython3",
   "version": "3.8.3"
  }
 },
 "nbformat": 4,
 "nbformat_minor": 4
}
