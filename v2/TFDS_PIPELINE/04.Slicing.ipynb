{
 "cells": [
  {
   "cell_type": "markdown",
   "metadata": {},
   "source": [
    "# Slicing TFDS"
   ]
  },
  {
   "cell_type": "markdown",
   "metadata": {},
   "source": [
    "This is very similar to the Slicing and Splitting in Python i.e. using the string positional notation.\n",
    "\n",
    "Here we can also put the percentage of the slice i.e. without calculating the whole length and then doing the slicing upto a absolute value, we can slice using the percentage value by `array[:Percentage]`"
   ]
  },
  {
   "cell_type": "markdown",
   "metadata": {},
   "source": [
    "We can also include this in the TFDS load API for eg:\n",
    "- train, test = tfds.load('some dataset', split=['train', 'test'])\n",
    "- combined = tfds.load('some dataset', split='train + test')\n",
    "- test_1000 = tfds.load('some dataset', split='train[:1000]')\n",
    "- first_20_percent = tfds.load('some dataset', split='train[:20%]')"
   ]
  },
  {
   "cell_type": "markdown",
   "metadata": {},
   "source": [
    "## K-FOLD Example"
   ]
  },
  {
   "cell_type": "markdown",
   "metadata": {},
   "source": [
    "Here we can easily implement the KFold method.\n",
    "eg: \n",
    "```\n",
    "    validation_ds = tfds.load('mnist', split='train[{}%:{}%]'.format(k, k+20) for k in range(0,100,20))\n",
    "    train_ds = tfds.load('mnist', split='train[:{}%]+train[{}%:]'.format(k, k+20) for k in range(0, 100, 20))\n",
    "```\n",
    "\n",
    "This will generate 5 sets:\n",
    "- val=0-20% and train=20-100\n",
    "- val=20-40% and train=0-20%+40-100%\n",
    "- val=40-60% and train=0-40%+60-100%\n",
    "- val=60-80% and train=0-60%+80-100%\n",
    "- val=80-100% and train=0-80%"
   ]
  },
  {
   "cell_type": "code",
   "execution_count": null,
   "metadata": {},
   "outputs": [],
   "source": []
  }
 ],
 "metadata": {
  "kernelspec": {
   "display_name": "Python 3",
   "language": "python",
   "name": "python3"
  },
  "language_info": {
   "codemirror_mode": {
    "name": "ipython",
    "version": 3
   },
   "file_extension": ".py",
   "mimetype": "text/x-python",
   "name": "python",
   "nbconvert_exporter": "python",
   "pygments_lexer": "ipython3",
   "version": "3.8.3"
  }
 },
 "nbformat": 4,
 "nbformat_minor": 4
}
