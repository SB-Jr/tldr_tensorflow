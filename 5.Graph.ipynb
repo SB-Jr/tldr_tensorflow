{
 "cells": [
  {
   "cell_type": "markdown",
   "metadata": {},
   "source": [
    "# Graphs"
   ]
  },
  {
   "cell_type": "markdown",
   "metadata": {},
   "source": [
    "All the computations are represented with a dataflow scheme. The dataflow graph has been developed to see to data dependencies between individual operation. Mathematical formula or algorithm are made of a number of successive operations. A graph is a convenient way to visualize how the computations are coordinated.\n",
    "\n",
    "The graph shows a <b>node</b> and an <b>edge</b>.<br>\n",
    "\n",
    "<b>Node</b>:The node is the representation of a operation, i.e. the unit of computation.<br>\n",
    "\n",
    "<b>Edge</b>:The edge is the tensor, it can produce a new tensor or consume the input data. It depends on the dependencies between individual operation.\n",
    "\n",
    "The structure of the graph connects together the operations (i.e. the nodes) and how those are operation are feed.<br>\n",
    "<b>Note<b> that the graph does not display the output of the operations, it only helps to visualize the connection between individual operations."
   ]
  },
  {
   "cell_type": "markdown",
   "metadata": {},
   "source": [
    "eg:<br>\n",
    "\\begin{equation}\n",
    "f(x,z) = xz + x^2 + z + 5\n",
    "\\end{equation}\n",
    "\n",
    "<img src='artifacts/graph1.png'/>"
   ]
  },
  {
   "cell_type": "code",
   "execution_count": 23,
   "metadata": {
    "ExecuteTime": {
     "end_time": "2020-02-03T11:01:24.030999Z",
     "start_time": "2020-02-03T11:01:24.006259Z"
    }
   },
   "outputs": [],
   "source": [
    "#Tensorflow Code:\n",
    "import tensorflow.compat.v1 as tf\n",
    "tf.disable_eager_execution()\n",
    "\n",
    "x = tf.placeholder(tf.int32, name=\"x\")    #dimension of x is 1\n",
    "z = tf.placeholder(tf.int32, name=\"z\")\n",
    "c = tf.constant([5], name = 'c')\n",
    "square_pow = tf.constant([2])\n",
    "f = tf.multiply(x,z) + tf.pow(x,square_pow) + z + c"
   ]
  },
  {
   "cell_type": "code",
   "execution_count": 27,
   "metadata": {
    "ExecuteTime": {
     "end_time": "2020-02-03T11:02:25.255386Z",
     "start_time": "2020-02-03T11:02:25.237819Z"
    }
   },
   "outputs": [
    {
     "name": "stdout",
     "output_type": "stream",
     "text": [
      "[10]\n",
      "[10]\n"
     ]
    }
   ],
   "source": [
    "#Running the graph in a session\n",
    "init = tf.global_variables_initializer()       # prepare to initialize all variables\n",
    "with tf.Session() as session:\n",
    "    init.run()     # Initialize x and z\n",
    "    result = f.eval(feed_dict = {x :[1], z:[2]})\n",
    "    result2 = session.run(f, feed_dict = {x :[1], z:[2]})\n",
    "    print(result)\n",
    "    print(result2)"
   ]
  },
  {
   "cell_type": "code",
   "execution_count": null,
   "metadata": {},
   "outputs": [],
   "source": []
  }
 ],
 "metadata": {
  "kernelspec": {
   "display_name": "Python 3",
   "language": "python",
   "name": "python3"
  },
  "toc": {
   "base_numbering": 1,
   "nav_menu": {},
   "number_sections": true,
   "sideBar": true,
   "skip_h1_title": false,
   "title_cell": "Table of Contents",
   "title_sidebar": "Contents",
   "toc_cell": false,
   "toc_position": {},
   "toc_section_display": true,
   "toc_window_display": false
  }
 },
 "nbformat": 4,
 "nbformat_minor": 4
}
