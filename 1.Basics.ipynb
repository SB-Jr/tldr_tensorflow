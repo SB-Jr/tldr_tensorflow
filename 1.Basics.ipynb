{
 "cells": [
  {
   "cell_type": "markdown",
   "metadata": {},
   "source": [
    "<h1>TLDR;Tensorflow</h1>\n",
    "\n",
    "Developed by GOOGLE\n",
    "made public in 2015\n",
    "Currently has a 2nd version released recently"
   ]
  },
  {
   "cell_type": "markdown",
   "metadata": {},
   "source": [
    "# Tensorflow Architecture\n",
    "\n",
    "Tensorflow architecture works in three parts:\n",
    "<ul>\n",
    "    <li>Preprocessing the data</li>\n",
    "    <li>Build the model</li>\n",
    "    <li>Train and estimate the model</li>\n",
    "</ul>"
   ]
  },
  {
   "cell_type": "markdown",
   "metadata": {},
   "source": [
    "It is called Tensorflow because it takes input as a multi-dimensional array, also known as tensors. You can construct a sort of flowchart of operations (called a Graph) that you want to perform on that input. The input goes in at one end, and then it flows through this system of multiple operations and comes out the other end as output.\n",
    "\n",
    "This is why it is called TensorFlow because the tensor goes in it flows through a list of operations, and then it comes out the other side."
   ]
  },
  {
   "cell_type": "markdown",
   "metadata": {},
   "source": [
    "# Components of Tensorflow\n",
    "\n",
    "## Tensor\n",
    "Tensorflow's name is directly derived from its core framework: Tensor. In Tensorflow, all the computations involve tensors. A tensor is a vector or matrix of n-dimensions that represents all types of data. All values in a tensor hold identical data type with a known (or partially known) shape. The shape of the data is the dimensionality of the matrix or array.\n",
    "\n",
    "A tensor can be originated from the input data or the result of a computation. In TensorFlow, all the operations are conducted inside a graph"
   ]
  },
  {
   "cell_type": "markdown",
   "metadata": {},
   "source": [
    "## Graph\n",
    "\n",
    "Graph is a set of computation that takes place successively. Each operation is called an op node and are connected to each other.\n",
    "\n",
    "The graph outlines the ops and connections between the nodes. However, it does not display the values. The edge of the nodes is the tensor, i.e., a way to populate the operation with data."
   ]
  },
  {
   "cell_type": "markdown",
   "metadata": {},
   "source": [
    "# Supported Algorithms\n",
    "\n",
    "<ul>\n",
    "    <li>Linear regression: tf.estimator.LinearRegressor</li>\n",
    "    <li>Classification:tf.estimator.LinearClassifier</li>\n",
    "    <li>Deep learning classification: tf.estimator.DNNClassifier</li>\n",
    "    <li>Deep learning wipe and deep: tf.estimator.DNNLinearCombinedClassifier</li>\n",
    "    <li>Booster tree regression: tf.estimator.BoostedTreesRegressor</li>\n",
    "    <li>Boosted tree classification: tf.estimator.BoostedTreesClassifier</li>\n",
    "</ul>"
   ]
  },
  {
   "cell_type": "markdown",
   "metadata": {},
   "source": [
    "# Tensorflow program Structure"
   ]
  },
  {
   "cell_type": "markdown",
   "metadata": {},
   "source": [
    "## Simple import"
   ]
  },
  {
   "cell_type": "code",
   "execution_count": 10,
   "metadata": {
    "ExecuteTime": {
     "end_time": "2020-02-02T15:26:19.115200Z",
     "start_time": "2020-02-02T15:26:19.109921Z"
    }
   },
   "outputs": [],
   "source": [
    "import numpy as np\n",
    "import tensorflow.compat.v1 as tf     #Using compat.v1 to use tensorflow 1 in place of tensorflow 2\n",
    "tf.disable_eager_execution()          #Disabling eager execution for now, will learn this later"
   ]
  },
  {
   "cell_type": "markdown",
   "metadata": {},
   "source": [
    "<p style=\"color:blue; font-size:125%;\"><b>Note:Eager execution is enabled by default in TF2.0+ and thus it has to be disabled if using \"sessions\" with TF1.X APIs</p>"
   ]
  },
  {
   "cell_type": "markdown",
   "metadata": {},
   "source": [
    "## Defining computation"
   ]
  },
  {
   "attachments": {},
   "cell_type": "markdown",
   "metadata": {},
   "source": [
    "<img src=\"artifacts/tensorflow-environment.png\" />\n",
    "We will multiply X_1 and X_2 together. Tensorflow will create a node to connect the operation. In this example, it is called multiply. When the graph is determined, Tensorflow computational engines will multiply together X_1 and X_2.\n",
    "Finally, we will run a TensorFlow session that will run the computational graph with the values of X_1 and X_2 and print the result of the multiplication."
   ]
  },
  {
   "cell_type": "markdown",
   "metadata": {},
   "source": [
    "### Defining the variable"
   ]
  },
  {
   "cell_type": "code",
   "execution_count": 11,
   "metadata": {
    "ExecuteTime": {
     "end_time": "2020-02-02T15:26:22.236347Z",
     "start_time": "2020-02-02T15:26:22.227882Z"
    }
   },
   "outputs": [],
   "source": [
    "X_1 = tf.placeholder(tf.float32, name = 'X_1')\n",
    "X_2 = tf.placeholder(tf.float32, name = 'X_2')"
   ]
  },
  {
   "cell_type": "markdown",
   "metadata": {},
   "source": [
    "### Defining the computation"
   ]
  },
  {
   "cell_type": "code",
   "execution_count": 12,
   "metadata": {
    "ExecuteTime": {
     "end_time": "2020-02-02T15:31:22.988539Z",
     "start_time": "2020-02-02T15:31:22.984095Z"
    }
   },
   "outputs": [],
   "source": [
    "multiply = tf.multiply(X_1, X_2, name = 'multiple')"
   ]
  },
  {
   "cell_type": "markdown",
   "metadata": {},
   "source": [
    "### Executing the Operation\n",
    "Here we need to create a session inside which we run the model we just created. Here the model comprises of 2 data nodes-> X_1 and X_2 and 1 operation node -> multiply."
   ]
  },
  {
   "cell_type": "code",
   "execution_count": 15,
   "metadata": {
    "ExecuteTime": {
     "end_time": "2020-02-02T15:33:00.967053Z",
     "start_time": "2020-02-02T15:33:00.931389Z"
    }
   },
   "outputs": [
    {
     "name": "stdout",
     "output_type": "stream",
     "text": [
      "[ 4. 10. 18.]\n"
     ]
    }
   ],
   "source": [
    "with tf.Session() as session:\n",
    "    result = session.run(multiply, feed_dict={X_1:[1,2,3], X_2 : [4,5,6]})\n",
    "    print(result)"
   ]
  },
  {
   "cell_type": "markdown",
   "metadata": {},
   "source": [
    "# Summary\n",
    "\n",
    "Here we learned:\n",
    "<ol>\n",
    "    <li><a href='#TLDR;Tensorflow'>Tensorflow History brief</a></li>\n",
    "    <li><a href='#Tensorflow-Architecture'>The Architecture</a></li>\n",
    "    <li><a href='#Components-of-Tensorflow'>Components</a></li>\n",
    "    <li><a href='#Supported-Algorithms'>Pre Supported Algorithms</a></li>\n",
    "    <li><a href='#Tensorflow-program-Structure'>Program Structure</a></li>\n",
    "</ol>"
   ]
  },
  {
   "cell_type": "code",
   "execution_count": null,
   "metadata": {},
   "outputs": [],
   "source": []
  }
 ],
 "metadata": {
  "kernelspec": {
   "display_name": "Python 3",
   "language": "python",
   "name": "python3"
  },
  "toc": {
   "base_numbering": 1,
   "nav_menu": {},
   "number_sections": true,
   "sideBar": true,
   "skip_h1_title": false,
   "title_cell": "Table of Contents",
   "title_sidebar": "Contents",
   "toc_cell": false,
   "toc_position": {},
   "toc_section_display": true,
   "toc_window_display": true
  }
 },
 "nbformat": 4,
 "nbformat_minor": 4
}
