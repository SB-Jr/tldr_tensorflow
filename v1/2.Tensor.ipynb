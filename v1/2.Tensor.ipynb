{
 "cells": [
  {
   "cell_type": "markdown",
   "metadata": {},
   "source": [
    "# Tensor\n",
    "\n",
    "In Machine Learning, models are feed with a list of objects called feature vectors. A feature vector can be of any data type. The feature vector will usually be the primary input to populate a tensor. These values will flow into an op node through the tensor and the result of this operation/computation will create a new tensor which in turn will be used in a new operation. All these operations can be viewed in the graph.\n",
    "\n",
    "<b>Note</b>: A tensor can be represented with a scalar or can have a shape of more than three dimensions. It is just more complicated to visualize higher dimension level."
   ]
  },
  {
   "cell_type": "markdown",
   "metadata": {},
   "source": [
    "# Properties of Tensor\n",
    "\n",
    "A tensor is an object with three properties:\n",
    "<ul>\n",
    "    <li>A unique label (name)</li>\n",
    "    <li>A dimension (shape)</li>\n",
    "    <li>A data type (dtype)</li>\n",
    "</ul>"
   ]
  },
  {
   "cell_type": "markdown",
   "metadata": {},
   "source": [
    "# Types of Tensor\n",
    "\n",
    "There are four main tensors you can create:\n",
    "<ul>\n",
    "    <li>tf.Variable</li>\n",
    "    <li>tf.constant</li>\n",
    "    <li>tf.placeholder</li>\n",
    "    <li>tf.SparseTensor</li>\n",
    "</ul>"
   ]
  },
  {
   "cell_type": "markdown",
   "metadata": {},
   "source": [
    "# Representation of a Tensor\n",
    "\n",
    "Tensors are represented as matrix of n-dimensions.<br>\n",
    "A 3d matrix is represented like this -><br>\n",
    "'''\n",
    "[[[1,2,3]. <br>\n",
    "   [4,5,6] <br>\n",
    "   [7,8,9]]]"
   ]
  },
  {
   "cell_type": "markdown",
   "metadata": {},
   "source": [
    "# Creating a Tensor"
   ]
  },
  {
   "cell_type": "code",
   "execution_count": 1,
   "metadata": {
    "ExecuteTime": {
     "end_time": "2020-02-03T04:52:32.312217Z",
     "start_time": "2020-02-03T04:52:32.283018Z"
    }
   },
   "outputs": [],
   "source": [
    "import tensorflow.compat.v1 as tf"
   ]
  },
  {
   "cell_type": "code",
   "execution_count": 3,
   "metadata": {
    "ExecuteTime": {
     "end_time": "2020-02-03T04:53:38.678321Z",
     "start_time": "2020-02-03T04:53:38.670185Z"
    }
   },
   "outputs": [
    {
     "name": "stdout",
     "output_type": "stream",
     "text": [
      "tf.Tensor(5, shape=(), dtype=int32)\n"
     ]
    }
   ],
   "source": [
    "constant1 = tf.constant(5, tf.int32)\n",
    "print(constant1)"
   ]
  },
  {
   "cell_type": "code",
   "execution_count": 4,
   "metadata": {
    "ExecuteTime": {
     "end_time": "2020-02-03T04:54:05.408815Z",
     "start_time": "2020-02-03T04:54:05.393207Z"
    }
   },
   "outputs": [
    {
     "name": "stdout",
     "output_type": "stream",
     "text": [
      "tf.Tensor(14, shape=(), dtype=int32)\n"
     ]
    }
   ],
   "source": [
    "constant2 = tf.constant(14, tf.int32, name = 'Constant_2')\n",
    "print(constant2)"
   ]
  },
  {
   "cell_type": "code",
   "execution_count": 7,
   "metadata": {
    "ExecuteTime": {
     "end_time": "2020-02-03T04:55:39.728043Z",
     "start_time": "2020-02-03T04:55:39.707737Z"
    }
   },
   "outputs": [
    {
     "name": "stdout",
     "output_type": "stream",
     "text": [
      "tf.Tensor([1 0 1], shape=(3,), dtype=int32)\n"
     ]
    },
    {
     "data": {
      "text/plain": [
       "TensorShape([3])"
      ]
     },
     "execution_count": 7,
     "metadata": {},
     "output_type": "execute_result"
    }
   ],
   "source": [
    "constant3 = tf.constant([True, False, True], tf.int32, name = 'Constant_3')\n",
    "print(constant3)\n",
    "constant3.shape"
   ]
  },
  {
   "cell_type": "markdown",
   "metadata": {},
   "source": [
    "# Useful Operators\n",
    "\n",
    "<b>Note</b>: The output returned by these operators are actually a tensor object and not the result of the evaluation of the operation on the input tensors.\n",
    "operatiors:\n",
    "<ul>\n",
    "    <li>tf.add(a, b)</li>\n",
    "    <li>tf.substract(a, b)</li>\n",
    "    <li>tf.multiply(a, b)</li>\n",
    "    <li>tf.div(a, b)</li>\n",
    "    <li>tf.pow(a, b)</li>\n",
    "    <li>tf.exp(a)</li>\n",
    "    <li>tf.sqrt(a)</li>\n",
    "</ul>"
   ]
  },
  {
   "cell_type": "code",
   "execution_count": 10,
   "metadata": {
    "ExecuteTime": {
     "end_time": "2020-02-03T05:09:21.048339Z",
     "start_time": "2020-02-03T05:09:21.032730Z"
    }
   },
   "outputs": [
    {
     "name": "stdout",
     "output_type": "stream",
     "text": [
      "tf.Tensor([[4 6]], shape=(1, 2), dtype=int32)\n",
      "tf.Tensor([[3 8]], shape=(1, 2), dtype=int32)\n"
     ]
    }
   ],
   "source": [
    "# Add\n",
    "tensor_a = tf.constant([[1,2]], dtype = tf.int32)\n",
    "tensor_b = tf.constant([[3, 4]], dtype = tf.int32)\n",
    "\n",
    "tensor_add = tf.add(tensor_a, tensor_b)\n",
    "print(tensor_add)\n",
    "\n",
    "# Multiply\n",
    "tensor_multiply = tf.multiply(tensor_a, tensor_b)\n",
    "print(tensor_multiply)"
   ]
  },
  {
   "cell_type": "markdown",
   "metadata": {},
   "source": [
    "# Variables\n",
    "\n",
    "Data always arrive with different values, to capture this, you can use the Variable class. It will represent a node where the values always change. <br>\n",
    "\n",
    "`tf.get_variable(name = \"\", values, dtype, initializer)`<br>\n",
    "argument\n",
    "- `name = \"\"`: Name of the variable\n",
    "- `values`: Dimension of the tensor\n",
    "- `dtype`: Type of data. Optional\n",
    "- `initializer`: How to initialize the tensor. Optional\n",
    "If initializer is specified, there is no need to include the `values` as the shape of `initializer` is used.<br>\n",
    "\n",
    "<b>Note</b>:Here we dont use `tf.variable` to create a variable but use `tf.get_variable` unlike in case of constants we used tf.constant."
   ]
  },
  {
   "cell_type": "code",
   "execution_count": 11,
   "metadata": {
    "ExecuteTime": {
     "end_time": "2020-02-03T05:21:01.048394Z",
     "start_time": "2020-02-03T05:21:00.999085Z"
    }
   },
   "outputs": [
    {
     "name": "stdout",
     "output_type": "stream",
     "text": [
      "(1, 2)\n"
     ]
    }
   ],
   "source": [
    "# creating a variable of 1 row and 2 cols\n",
    "var = tf.get_variable(\"var\", [1, 2])\n",
    "print(var.shape)"
   ]
  },
  {
   "cell_type": "code",
   "execution_count": 12,
   "metadata": {
    "ExecuteTime": {
     "end_time": "2020-02-03T05:23:06.394241Z",
     "start_time": "2020-02-03T05:23:06.345057Z"
    }
   },
   "outputs": [
    {
     "name": "stdout",
     "output_type": "stream",
     "text": [
      "(1, 2)\n"
     ]
    }
   ],
   "source": [
    "# using an initializer to initialize the variablesabs\n",
    "var_init_1 = tf.get_variable(\"var_init_1\", [1, 2], dtype=tf.int32,  initializer=tf.zeros_initializer)\n",
    "print(var_init_1.shape)"
   ]
  },
  {
   "cell_type": "code",
   "execution_count": 13,
   "metadata": {
    "ExecuteTime": {
     "end_time": "2020-02-03T05:25:18.390067Z",
     "start_time": "2020-02-03T05:25:18.349596Z"
    }
   },
   "outputs": [
    {
     "name": "stdout",
     "output_type": "stream",
     "text": [
      "<tf.Variable 'var_init_const1:0' shape=(2, 2) dtype=int32, numpy=\n",
      "array([[10, 20],\n",
      "       [30, 40]], dtype=int32)>\n"
     ]
    }
   ],
   "source": [
    "# we can also use a constant to initialize the variables\n",
    "const1 = tf.constant([[10,20],[30,40]])\n",
    "var_init_const1 = tf.get_variable(\"var_init_const1\", dtype=tf.int32, initializer=const1)\n",
    "print(var_init_const1)"
   ]
  },
  {
   "cell_type": "markdown",
   "metadata": {},
   "source": [
    "# Placeholders\n",
    "\n",
    "A placeholder has the purpose of feeding the tensor. Placeholder is used to initialize the data to flow inside the tensors. To supply a placeholder, you need to use the method feed_dict. The placeholder will be fed only within a session.\n",
    "\n",
    "The syntax is:\n",
    "\n",
    "`tf.placeholder(dtype,shape=None,name=None )`<br>\n",
    "arguments:\n",
    "- `dtype`: Type of data\n",
    "- `shape`: dimension of the placeholder. Optional. By default, shape of the data\n",
    "- `name`: Name of the placeholder. Optional\t\t\t\n",
    "eg:\n",
    "`data_placeholder_a = tf.placeholder(tf.float32, name = \"data_placeholder_a\")`"
   ]
  },
  {
   "cell_type": "markdown",
   "metadata": {},
   "source": [
    "# Summary\n",
    "<ol>\n",
    "    <li><a href='#Tensor'>Definition of Tensor</a></li>\n",
    "    <li><a href='#Properties-of-Tensor'>Properties of Tensor</a></li>\n",
    "    <li><a href='#Types-of-Tensor'>Different types of Tensor Used</a></li>\n",
    "    <li><a href='#Representation-of-Tensor'>Representation of Tensor</a></li>\n",
    "    <li><a href='#Creating-a-Tensor'>How to create a Tensor</a></li>\n",
    "    <li><a href='#Useful-Operations'>Useful operations on Tensors</a></li>\n",
    "    <li><a href='#Variables'>Tensor Type: Variable</a></li>\n",
    "    <li><a href='#Placeholder'>Tensor type: Placeholder</a></li>\n",
    "</ol>"
   ]
  }
 ],
 "metadata": {
  "kernelspec": {
   "display_name": "Python 3",
   "language": "python",
   "name": "python3"
  },
  "toc": {
   "base_numbering": 1,
   "nav_menu": {},
   "number_sections": true,
   "sideBar": true,
   "skip_h1_title": false,
   "title_cell": "Table of Contents",
   "title_sidebar": "Contents",
   "toc_cell": false,
   "toc_position": {},
   "toc_section_display": true,
   "toc_window_display": true
  }
 },
 "nbformat": 4,
 "nbformat_minor": 4
}
