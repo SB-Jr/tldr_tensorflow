{
 "cells": [
  {
   "cell_type": "markdown",
   "metadata": {
    "toc": true
   },
   "source": [
    "<h1>Table of Contents<span class=\"tocSkip\"></span></h1>\n",
    "<div class=\"toc\"><ul class=\"toc-item\"><li><span><a href=\"#Estimators\" data-toc-modified-id=\"Estimators-1\"><span class=\"toc-item-num\">1&nbsp;&nbsp;</span>Estimators</a></span></li></ul></div>"
   ]
  },
  {
   "cell_type": "markdown",
   "metadata": {},
   "source": [
    "# Estimators"
   ]
  },
  {
   "cell_type": "markdown",
   "metadata": {},
   "source": [
    "TensorFlow Estimators is a High-level TensorFlow API that greatly simplifies machine learning programming introduced in a white paper in 2017. The design goals can be summarized as automating repetitive and error-prone tasks, encapsulating best practices, and providing a ride from training to deployment.<br>\n",
    "“TensorFlow’s high-level machine learning API (tf.estimator) makes it easy to configure, train, and evaluate a variety of machine learning models”"
   ]
  },
  {
   "cell_type": "markdown",
   "metadata": {
    "ExecuteTime": {
     "end_time": "2020-03-22T08:50:29.604029Z",
     "start_time": "2020-03-22T08:50:29.600201Z"
    }
   },
   "source": [
    "An Estimator is any class derived from tf.estimator.Estimator. TensorFlow provides a collection of pre-made Estimators (for example LinearRegressor) to implement common Machine Learning algorithms. These pre-implemented models allow quickly creating new models as need by customizing them. Beyond those, you may write your own custom Estimators."
   ]
  },
  {
   "cell_type": "markdown",
   "metadata": {},
   "source": [
    "<img src='artifacts/estimator2.png'/>"
   ]
  },
  {
   "cell_type": "markdown",
   "metadata": {},
   "source": [
    "The user specifies the meat of their model in a model_fn, using conditionals to denote behaviour that differs between TRAIN, EVALUATE and PREDICT. They add also a set of input_fn to describe how to handle data, optionally specifying them separately for training, evaluation, and prediction.\n",
    "These functions are consumed by the tf.estimator.Estimator class to return an initialized estimator, upon which we can call .train, .eval, and .predict."
   ]
  },
  {
   "cell_type": "markdown",
   "metadata": {},
   "source": [
    "At a high level, the code will need to create a custom Estimator (tf.estimator.Estimator) will be:\n",
    "- A model function <b>model_fn</b> that is fed the features, labels and a few other parameters where your model code processes them and produces losses, metrics etc. The model function defines model, loss, optimizer, and metrics. This function has to return a tf.estimator.EstimatorSpec\n",
    "- Two input functions <b>input_fn</b> to feed the Estimators that returns features and labels for train and eval\n",
    "- <b>An experiment object</b>: to run the estimator in a configured state"
   ]
  },
  {
   "cell_type": "code",
   "execution_count": null,
   "metadata": {},
   "outputs": [],
   "source": []
  }
 ],
 "metadata": {
  "kernelspec": {
   "display_name": "Python 3",
   "language": "python",
   "name": "python3"
  },
  "language_info": {
   "codemirror_mode": {
    "name": "ipython",
    "version": 3
   },
   "file_extension": ".py",
   "mimetype": "text/x-python",
   "name": "python",
   "nbconvert_exporter": "python",
   "pygments_lexer": "ipython3",
   "version": "3.7.6"
  },
  "toc": {
   "base_numbering": 1,
   "nav_menu": {},
   "number_sections": true,
   "sideBar": true,
   "skip_h1_title": false,
   "title_cell": "Table of Contents",
   "title_sidebar": "Contents",
   "toc_cell": true,
   "toc_position": {},
   "toc_section_display": true,
   "toc_window_display": true
  },
  "varInspector": {
   "cols": {
    "lenName": 16,
    "lenType": 16,
    "lenVar": 40
   },
   "kernels_config": {
    "python": {
     "delete_cmd_postfix": "",
     "delete_cmd_prefix": "del ",
     "library": "var_list.py",
     "varRefreshCmd": "print(var_dic_list())"
    },
    "r": {
     "delete_cmd_postfix": ") ",
     "delete_cmd_prefix": "rm(",
     "library": "var_list.r",
     "varRefreshCmd": "cat(var_dic_list()) "
    }
   },
   "types_to_exclude": [
    "module",
    "function",
    "builtin_function_or_method",
    "instance",
    "_Feature"
   ],
   "window_display": false
  }
 },
 "nbformat": 4,
 "nbformat_minor": 4
}
